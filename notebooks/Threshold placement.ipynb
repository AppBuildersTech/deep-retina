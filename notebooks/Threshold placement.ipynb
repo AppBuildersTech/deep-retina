{
 "cells": [
  {
   "cell_type": "markdown",
   "metadata": {},
   "source": [
    "# Adding 'relu' explicitly so can visualize linear projection relative to threshold"
   ]
  },
  {
   "cell_type": "code",
   "execution_count": 1,
   "metadata": {
    "collapsed": false
   },
   "outputs": [
    {
     "name": "stderr",
     "output_type": "stream",
     "text": [
      "Using gpu device 0: GeForce GT 750M (CNMeM is disabled)\n"
     ]
    }
   ],
   "source": [
    "import numpy as np\n",
    "from os.path import expanduser\n",
    "import os\n",
    "import json\n",
    "import theano\n",
    "import pyret.filtertools as ft\n",
    "import pyret.visualizations as pyviz\n",
    "import deepretina.visualizations as viz\n",
    "from deepretina.preprocessing import datagen, loadexpt\n",
    "from keras.models import model_from_json\n",
    "import h5py\n",
    "import matplotlib.pyplot as plt\n",
    "from scipy.stats import pearsonr\n",
    "from scipy.optimize import minimize\n",
    "from numpy.linalg import norm\n",
    "%matplotlib inline\n",
    "#%matplotlib qt\n",
    "\n",
    "from pylab import rcParams\n",
    "rcParams['figure.figsize'] = (10.0, 8.0) # set default size of plots\n",
    "rcParams['image.interpolation'] = 'nearest'\n",
    "rcParams['image.cmap'] = 'gray'\n",
    "\n",
    "%load_ext autoreload\n",
    "%autoreload 2"
   ]
  },
  {
   "cell_type": "markdown",
   "metadata": {},
   "source": [
    "# Load models"
   ]
  },
  {
   "cell_type": "code",
   "execution_count": 2,
   "metadata": {
    "collapsed": true
   },
   "outputs": [],
   "source": [
    "architecture_filename = 'architecture.json'\n",
    "naturalscenes_data_dir = expanduser('~/Dropbox/deep-retina/saved/lenna.salamander/2015-11-10 17.36.07 convnet/')\n",
    "naturalscenes_weight_filename = 'epoch011_iter04950_weights.h5' # .49 cc on held-out"
   ]
  },
  {
   "cell_type": "code",
   "execution_count": 3,
   "metadata": {
    "collapsed": true
   },
   "outputs": [],
   "source": [
    "naturalscenes_architecture_data = open(naturalscenes_data_dir + architecture_filename, 'r')\n",
    "naturalscenes_architecture_string = naturalscenes_architecture_data.read()\n",
    "naturalscenes_model = model_from_json(naturalscenes_architecture_string)\n",
    "naturalscenes_model.load_weights(naturalscenes_data_dir + naturalscenes_weight_filename)"
   ]
  },
  {
   "cell_type": "code",
   "execution_count": 4,
   "metadata": {
    "collapsed": false
   },
   "outputs": [
    {
     "data": {
      "text/plain": [
       "[u'layer_0', u'layer_1', u'layer_2', u'layer_3', u'layer_4', u'layer_5']"
      ]
     },
     "execution_count": 4,
     "metadata": {},
     "output_type": "execute_result"
    }
   ],
   "source": [
    "naturalscenes_weights = h5py.File(naturalscenes_data_dir + naturalscenes_weight_filename, 'r')\n",
    "list(naturalscenes_weights)"
   ]
  },
  {
   "cell_type": "code",
   "execution_count": 7,
   "metadata": {
    "collapsed": false
   },
   "outputs": [
    {
     "data": {
      "text/plain": [
       "[u'param_0', u'param_1']"
      ]
     },
     "execution_count": 7,
     "metadata": {},
     "output_type": "execute_result"
    }
   ],
   "source": [
    "list(naturalscenes_weights['layer_0'])"
   ]
  },
  {
   "cell_type": "markdown",
   "metadata": {},
   "source": [
    "# Define linear activations of first layer"
   ]
  },
  {
   "cell_type": "code",
   "execution_count": 16,
   "metadata": {
    "collapsed": true
   },
   "outputs": [],
   "source": [
    "layer_id = 0\n",
    "naturalscenes_1st_layer_output = theano.function([naturalscenes_model.layers[0].input], \n",
    "                                              naturalscenes_model.layers[layer_id].get_output(train=False))"
   ]
  },
  {
   "cell_type": "markdown",
   "metadata": {},
   "source": [
    "# Define stimuli"
   ]
  },
  {
   "cell_type": "code",
   "execution_count": 9,
   "metadata": {
    "collapsed": false
   },
   "outputs": [
    {
     "name": "stdout",
     "output_type": "stream",
     "text": [
      "Loading testing data... Done.\n",
      "Loading testing data... Done.\n"
     ]
    }
   ],
   "source": [
    "naturalscenes_test = loadexpt(0, 'naturalscene', 'test', 40)\n",
    "whitenoise_test = loadexpt(0, 'whitenoise', 'test', 40)"
   ]
  },
  {
   "cell_type": "markdown",
   "metadata": {},
   "source": [
    "# Get linear activations of first layer"
   ]
  },
  {
   "cell_type": "code",
   "execution_count": 17,
   "metadata": {
    "collapsed": true
   },
   "outputs": [],
   "source": [
    "naturalscenes_activations = []"
   ]
  },
  {
   "cell_type": "code",
   "execution_count": 18,
   "metadata": {
    "collapsed": true
   },
   "outputs": [],
   "source": [
    "for X, y in datagen(50, *naturalscenes_test):\n",
    "    naturalscenes_activations.extend(naturalscenes_1st_layer_output(X))"
   ]
  },
  {
   "cell_type": "code",
   "execution_count": 41,
   "metadata": {
    "collapsed": true
   },
   "outputs": [],
   "source": [
    "count, bin_edges = np.histogram(naturalscenes_activations, 100, normed=True)"
   ]
  },
  {
   "cell_type": "code",
   "execution_count": 52,
   "metadata": {
    "collapsed": false
   },
   "outputs": [
    {
     "data": {
      "text/plain": [
       "[<matplotlib.lines.Line2D at 0x15a5a9390>]"
      ]
     },
     "execution_count": 52,
     "metadata": {},
     "output_type": "execute_result"
    },
    {
     "data": {
      "image/png": "[encoded data removed]",
      "text/plain": [
       "<matplotlib.figure.Figure at 0x15a99a6d0>"
      ]
     },
     "metadata": {},
     "output_type": "display_data"
    }
   ],
   "source": [
    "plt.bar(bin_edges[:-1], count, color='k', linewidth=3)\n",
    "plt.plot(np.linspace(-60, 60, 100), \n",
    "         np.where(np.linspace(-60, 60, 100) > 0, np.max(count)*np.linspace(-60, 60, 100)/60., 0), \n",
    "         'r', linewidth=4, alpha=0.7)"
   ]
  },
  {
   "cell_type": "markdown",
   "metadata": {},
   "source": [
    "# Get linear activations of affine units"
   ]
  },
  {
   "cell_type": "code",
   "execution_count": 54,
   "metadata": {
    "collapsed": false
   },
   "outputs": [
    {
     "data": {
      "text/plain": [
       "'{\"layers\": [{\"b_constraint\": null, \"name\": \"Convolution2D\", \"activity_regularizer\": null, \"W_constraint\": null, \"input_shape\": [40, 50, 50], \"nb_col\": 13, \"subsample\": [1, 1], \"init\": \"normal\", \"nb_filter\": 8, \"b_regularizer\": null, \"W_regularizer\": {\"l2\": 0.01, \"name\": \"WeightRegularizer\", \"l1\": 0.0}, \"nb_row\": 13, \"activation\": \"linear\", \"border_mode\": \"same\"}, {\"beta\": 0.1, \"activation\": \"relu\", \"name\": \"Activation\", \"target\": 0}, {\"stride\": [2, 2], \"name\": \"MaxPooling2D\", \"ignore_border\": true, \"pool_size\": [2, 2]}, {\"name\": \"Flatten\"}, {\"b_constraint\": null, \"name\": \"Dense\", \"activity_regularizer\": null, \"W_constraint\": null, \"init\": \"normal\", \"activation\": \"relu\", \"input_dim\": null, \"b_regularizer\": null, \"W_regularizer\": {\"l2\": 0.01, \"name\": \"WeightRegularizer\", \"l1\": 0.0}, \"output_dim\": 16}, {\"b_constraint\": null, \"name\": \"Dense\", \"activity_regularizer\": null, \"W_constraint\": null, \"init\": \"normal\", \"activation\": \"softplus\", \"input_dim\": null, \"b_regularizer\": null, \"W_regularizer\": {\"l2\": 0.01, \"name\": \"WeightRegularizer\", \"l1\": 0.0}, \"output_dim\": 1}], \"loss\": \"poisson_loss\", \"theano_mode\": null, \"name\": \"Sequential\", \"class_mode\": \"categorical\", \"optimizer\": {\"beta_1\": 0.9, \"epsilon\": 1e-08, \"beta_2\": 0.999, \"lr\": 0.0010000000474974513, \"name\": \"Adam\"}}'"
      ]
     },
     "execution_count": 54,
     "metadata": {},
     "output_type": "execute_result"
    }
   ],
   "source": [
    "naturalscenes_architecture_string"
   ]
  },
  {
   "cell_type": "code",
   "execution_count": null,
   "metadata": {
    "collapsed": true
   },
   "outputs": [],
   "source": [
    "layer_id = 0\n",
    "naturalscenes_1st_layer_output = theano.function([naturalscenes_model.layers[0].input], \n",
    "                                              naturalscenes_model.layers[layer_id].get_output(train=False))"
   ]
  }
 ],
 "metadata": {
  "kernelspec": {
   "display_name": "Python 2",
   "language": "python",
   "name": "python2"
  },
  "language_info": {
   "codemirror_mode": {
    "name": "ipython",
    "version": 2
   },
   "file_extension": ".py",
   "mimetype": "text/x-python",
   "name": "python",
   "nbconvert_exporter": "python",
   "pygments_lexer": "ipython2",
   "version": "2.7.3"
  }
 },
 "nbformat": 4,
 "nbformat_minor": 0
}
