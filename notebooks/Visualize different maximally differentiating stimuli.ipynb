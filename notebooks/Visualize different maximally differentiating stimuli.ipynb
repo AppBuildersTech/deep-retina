{
 "cells": [
  {
   "cell_type": "code",
   "execution_count": 1,
   "metadata": {
    "collapsed": false
   },
   "outputs": [
    {
     "name": "stderr",
     "output_type": "stream",
     "text": [
      "Using gpu device 0: GeForce GT 750M (CNMeM is disabled)\n"
     ]
    }
   ],
   "source": [
    "import numpy as np\n",
    "from os.path import expanduser\n",
    "import os\n",
    "import json\n",
    "import theano\n",
    "import pyret.filtertools as ft\n",
    "import pyret.visualizations as pyviz\n",
    "import deepretina.visualizations as viz\n",
    "from deepretina.preprocessing import datagen, loadexpt\n",
    "from keras.models import model_from_json\n",
    "import h5py\n",
    "import matplotlib.pyplot as plt\n",
    "from scipy.stats import pearsonr\n",
    "from scipy.optimize import minimize\n",
    "from numpy.linalg import norm\n",
    "%matplotlib inline\n",
    "#%matplotlib qt\n",
    "\n",
    "from pylab import rcParams\n",
    "rcParams['figure.figsize'] = (10.0, 8.0) # set default size of plots\n",
    "rcParams['image.interpolation'] = 'nearest'\n",
    "rcParams['image.cmap'] = 'gray'\n",
    "\n",
    "%load_ext autoreload\n",
    "%autoreload 2"
   ]
  },
  {
   "cell_type": "code",
   "execution_count": 21,
   "metadata": {
    "collapsed": true
   },
   "outputs": [],
   "source": [
    "stimuli_filename = 'differentiated_stimuli.h5'\n",
    "stimuli_dirs = [expanduser('~/Dropbox/deep-retina/saved/lenna.salamander/2015-11-11 09.44.27 Maximal Differentiated Stimuli/'),\n",
    "                expanduser('~/Dropbox/deep-retina/saved/lane.local.lmcintosh/2015-11-11 10.02.21 Maximal Differentiated Stimuli/'),\n",
    "               expanduser('~/Dropbox/deep-retina/saved/lenna.salamander/2015-11-11 14.12.00 Maximal Differentiated Stimuli/'),\n",
    "               expanduser('~/Dropbox/deep-retina/saved/lane.local.lmcintosh/2015-11-11 15.03.02 Maximal Differentiated Stimuli/')]           "
   ]
  },
  {
   "cell_type": "code",
   "execution_count": 22,
   "metadata": {
    "collapsed": true
   },
   "outputs": [],
   "source": [
    "stimuli = []\n",
    "for d in stimuli_dirs:\n",
    "    stimuli.append(h5py.File(d + stimuli_filename, 'r'))"
   ]
  },
  {
   "cell_type": "code",
   "execution_count": 26,
   "metadata": {
    "collapsed": true
   },
   "outputs": [],
   "source": [
    "one_stimuli = stimuli[3]['stimulus']"
   ]
  },
  {
   "cell_type": "code",
   "execution_count": 27,
   "metadata": {
    "collapsed": false
   },
   "outputs": [],
   "source": [
    "space, time = ft.decompose(np.copy(one_stimuli)[0])"
   ]
  },
  {
   "cell_type": "code",
   "execution_count": 28,
   "metadata": {
    "collapsed": false
   },
   "outputs": [
    {
     "data": {
      "text/plain": [
       "<matplotlib.image.AxesImage at 0x123ff0490>"
      ]
     },
     "execution_count": 28,
     "metadata": {},
     "output_type": "execute_result"
    },
    {
     "data": {
      "image/png": "[encoded data removed]",
      "text/plain": [
       "<matplotlib.figure.Figure at 0x123f2a850>"
      ]
     },
     "metadata": {},
     "output_type": "display_data"
    }
   ],
   "source": [
    "plt.imshow(space)"
   ]
  },
  {
   "cell_type": "code",
   "execution_count": 29,
   "metadata": {
    "collapsed": false
   },
   "outputs": [
    {
     "data": {
      "text/plain": [
       "[<matplotlib.lines.Line2D at 0x123f9c650>]"
      ]
     },
     "execution_count": 29,
     "metadata": {},
     "output_type": "execute_result"
    },
    {
     "data": {
      "image/png": "[encoded data removed]",
      "text/plain": [
       "<matplotlib.figure.Figure at 0x123ff0710>"
      ]
     },
     "metadata": {},
     "output_type": "display_data"
    }
   ],
   "source": [
    "plt.plot(time)"
   ]
  },
  {
   "cell_type": "markdown",
   "metadata": {},
   "source": [
    "# What do the responses look like?"
   ]
  },
  {
   "cell_type": "code",
   "execution_count": 10,
   "metadata": {
    "collapsed": true
   },
   "outputs": [],
   "source": [
    "architecture_filename = 'architecture.json'\n",
    "#whitenoise_data_dir = expanduser('~/Dropbox/deep-retina/saved/lenna.salamander/2015-11-08 15.42.33 convnet/')\n",
    "#whitenoise_weight_filename = 'epoch018_iter01300_weights.h5' # .63 cc on held-out\n",
    "naturalscenes_data_dir = expanduser('~/Dropbox/deep-retina/saved/lenna.salamander/2015-11-07 16.52.44 convnet/')\n",
    "naturalscenes_weight_filename = 'epoch038_iter02700_weights.h5' # .53 cc on held-out\n",
    "ln_data_dir = expanduser('~/Dropbox/deep-retina/saved/lenna.nirum/2015-11-08 04.41.18 LN/')\n",
    "ln_weight_filename = 'epoch010_iter00750_weights.h5' # .468 cc on held-out"
   ]
  },
  {
   "cell_type": "code",
   "execution_count": 11,
   "metadata": {
    "collapsed": false
   },
   "outputs": [],
   "source": [
    "naturalscenes_architecture_data = open(naturalscenes_data_dir + architecture_filename, 'r')\n",
    "naturalscenes_architecture_string = naturalscenes_architecture_data.read()\n",
    "naturalscenes_model = model_from_json(naturalscenes_architecture_string)\n",
    "naturalscenes_model.load_weights(naturalscenes_data_dir + naturalscenes_weight_filename)"
   ]
  },
  {
   "cell_type": "code",
   "execution_count": 12,
   "metadata": {
    "collapsed": true
   },
   "outputs": [],
   "source": [
    "ln_architecture_data = open(ln_data_dir + architecture_filename, 'r')\n",
    "ln_architecture_string = ln_architecture_data.read()\n",
    "ln_model = model_from_json(ln_architecture_string)\n",
    "ln_model.load_weights(ln_data_dir + ln_weight_filename)"
   ]
  },
  {
   "cell_type": "code",
   "execution_count": 16,
   "metadata": {
    "collapsed": false
   },
   "outputs": [],
   "source": [
    "input_stim = np.copy(one_stimuli).reshape((1,40,50,50))"
   ]
  },
  {
   "cell_type": "code",
   "execution_count": 17,
   "metadata": {
    "collapsed": false
   },
   "outputs": [
    {
     "data": {
      "text/plain": [
       "array([[  2.74050916e+13]])"
      ]
     },
     "execution_count": 17,
     "metadata": {},
     "output_type": "execute_result"
    }
   ],
   "source": [
    "ln_model.predict(input_stim)"
   ]
  },
  {
   "cell_type": "code",
   "execution_count": 18,
   "metadata": {
    "collapsed": false
   },
   "outputs": [
    {
     "data": {
      "text/plain": [
       "array([[  2.31120411e+12]])"
      ]
     },
     "execution_count": 18,
     "metadata": {},
     "output_type": "execute_result"
    }
   ],
   "source": [
    "naturalscenes_model.predict(input_stim)"
   ]
  },
  {
   "cell_type": "code",
   "execution_count": 19,
   "metadata": {
    "collapsed": true
   },
   "outputs": [],
   "source": [
    "from numpy.linalg import norm"
   ]
  },
  {
   "cell_type": "code",
   "execution_count": 20,
   "metadata": {
    "collapsed": false
   },
   "outputs": [
    {
     "data": {
      "text/plain": [
       "741667873041645.0"
      ]
     },
     "execution_count": 20,
     "metadata": {},
     "output_type": "execute_result"
    }
   ],
   "source": [
    "norm(input_stim[:])"
   ]
  },
  {
   "cell_type": "code",
   "execution_count": null,
   "metadata": {
    "collapsed": true
   },
   "outputs": [],
   "source": []
  }
 ],
 "metadata": {
  "kernelspec": {
   "display_name": "Python 2",
   "language": "python",
   "name": "python2"
  },
  "language_info": {
   "codemirror_mode": {
    "name": "ipython",
    "version": 2
   },
   "file_extension": ".py",
   "mimetype": "text/x-python",
   "name": "python",
   "nbconvert_exporter": "python",
   "pygments_lexer": "ipython2",
   "version": "2.7.3"
  }
 },
 "nbformat": 4,
 "nbformat_minor": 0
}
