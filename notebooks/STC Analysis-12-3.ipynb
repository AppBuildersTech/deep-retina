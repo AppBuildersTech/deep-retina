{
 "cells": [
  {
   "cell_type": "code",
   "execution_count": 1,
   "metadata": {
    "collapsed": false
   },
   "outputs": [
    {
     "name": "stderr",
     "output_type": "stream",
     "text": [
      "Using gpu device 0: GeForce GT 750M (CNMeM is disabled)\n",
      "/Library/Frameworks/Python.framework/Versions/2.7/lib/python2.7/site-packages/matplotlib/__init__.py:872: UserWarning: axes.color_cycle is deprecated and replaced with axes.prop_cycle; please use the latter.\n",
      "  warnings.warn(self.msg_depr % (key, alt_key))\n"
     ]
    }
   ],
   "source": [
    "import numpy as np\n",
    "from os.path import expanduser\n",
    "import os\n",
    "import json\n",
    "import theano\n",
    "import pyret.filtertools as ft\n",
    "import pyret.visualizations as pyviz\n",
    "#import deepretina.visualizations as viz\n",
    "from preprocessing import datagen, loadexpt\n",
    "from utils import rolling_window\n",
    "#from keras.models import model_from_json\n",
    "import h5py\n",
    "import matplotlib.pyplot as plt\n",
    "from scipy.stats import pearsonr\n",
    "%matplotlib inline\n",
    "#%matplotlib qt\n",
    "\n",
    "from pylab import rcParams\n",
    "rcParams['figure.figsize'] = (10.0, 8.0) # set default size of plots\n",
    "rcParams['image.interpolation'] = 'nearest'\n",
    "rcParams['image.cmap'] = 'gray'\n",
    "\n",
    "%load_ext autoreload\n",
    "%autoreload 2"
   ]
  },
  {
   "cell_type": "markdown",
   "metadata": {},
   "source": [
    "# Load white noise data"
   ]
  },
  {
   "cell_type": "code",
   "execution_count": 2,
   "metadata": {
    "collapsed": false
   },
   "outputs": [
    {
     "name": "stdout",
     "output_type": "stream",
     "text": [
      "Loading training data... Done.\n"
     ]
    }
   ],
   "source": [
    "whitenoise_train = loadexpt(0, 'whitenoise', 'train', 40, roll=False)"
   ]
  },
  {
   "cell_type": "code",
   "execution_count": 2,
   "metadata": {
    "collapsed": true
   },
   "outputs": [],
   "source": [
    "import preprocessing"
   ]
  },
  {
   "cell_type": "code",
   "execution_count": 3,
   "metadata": {
    "collapsed": false
   },
   "outputs": [],
   "source": [
    "import os\n",
    "f = h5py.File(os.path.join(preprocessing.datadirs['lane.local'], '15-10-07/whitenoise.h5'), 'r')"
   ]
  },
  {
   "cell_type": "code",
   "execution_count": null,
   "metadata": {
    "collapsed": false
   },
   "outputs": [],
   "source": [
    "spk = f['spikes/cell01']"
   ]
  },
  {
   "cell_type": "code",
   "execution_count": null,
   "metadata": {
    "collapsed": true
   },
   "outputs": [
    {
     "data": {
      "text/plain": [
       "25761"
      ]
     },
     "execution_count": 5,
     "metadata": {},
     "output_type": "execute_result"
    }
   ],
   "source": [
    "len(spk)"
   ]
  },
  {
   "cell_type": "code",
   "execution_count": 7,
   "metadata": {
    "collapsed": false
   },
   "outputs": [
    {
     "data": {
      "text/plain": [
       "(359802,)"
      ]
     },
     "execution_count": 7,
     "metadata": {},
     "output_type": "execute_result"
    }
   ],
   "source": [
    "f['train/time'].shape"
   ]
  },
  {
   "cell_type": "code",
   "execution_count": 8,
   "metadata": {
    "collapsed": true
   },
   "outputs": [],
   "source": [
    "time = np.array(f['train/time'])\n",
    "sta, tax = ft.getsta(time, whitenoise_train.X, spk, 40)"
   ]
  },
  {
   "cell_type": "code",
   "execution_count": 9,
   "metadata": {
    "collapsed": false
   },
   "outputs": [
    {
     "data": {
      "image/png": "[encoded data removed]",
      "text/plain": [
       "<matplotlib.figure.Figure at 0x118cf1390>"
      ]
     },
     "metadata": {},
     "output_type": "display_data"
    },
    {
     "data": {
      "text/plain": [
       "<matplotlib.figure.Figure at 0x118d1da50>"
      ]
     },
     "metadata": {},
     "output_type": "display_data"
    },
    {
     "data": {
      "text/plain": [
       "(<matplotlib.figure.Figure at 0x118cf1390>,\n",
       " (<matplotlib.axes._subplots.AxesSubplot at 0x118cf1b90>,\n",
       "  <matplotlib.axes._subplots.AxesSubplot at 0x118d0c5d0>))"
      ]
     },
     "execution_count": 9,
     "metadata": {},
     "output_type": "execute_result"
    },
    {
     "data": {
      "text/plain": [
       "<matplotlib.figure.Figure at 0x1139ef3d0>"
      ]
     },
     "metadata": {},
     "output_type": "display_data"
    }
   ],
   "source": [
    "pyviz.plotsta(tax, sta)"
   ]
  },
  {
   "cell_type": "code",
   "execution_count": 10,
   "metadata": {
    "collapsed": false
   },
   "outputs": [
    {
     "data": {
      "image/png": "[encoded data removed]",
      "text/plain": [
       "<matplotlib.figure.Figure at 0x11a28b6d0>"
      ]
     },
     "metadata": {},
     "output_type": "display_data"
    },
    {
     "data": {
      "text/plain": [
       "<matplotlib.figure.Figure at 0x11a2ca910>"
      ]
     },
     "metadata": {},
     "output_type": "display_data"
    },
    {
     "data": {
      "text/plain": [
       "(<matplotlib.figure.Figure at 0x11a28b6d0>,\n",
       " (<matplotlib.axes._subplots.AxesSubplot at 0x11a28bc10>,\n",
       "  <matplotlib.axes._subplots.AxesSubplot at 0x118d0a050>))"
      ]
     },
     "execution_count": 10,
     "metadata": {},
     "output_type": "execute_result"
    },
    {
     "data": {
      "text/plain": [
       "<matplotlib.figure.Figure at 0x11a9158d0>"
      ]
     },
     "metadata": {},
     "output_type": "display_data"
    }
   ],
   "source": [
    "pyviz.plotsta(tax, ft.cutout(sta, idx=np.flipud(ft.filterpeak(sta)[1]), width=5))"
   ]
  },
  {
   "cell_type": "code",
   "execution_count": 11,
   "metadata": {
    "collapsed": true
   },
   "outputs": [],
   "source": [
    "Xcut = ft.cutout(whitenoise_train.X, idx=np.flipud(ft.filterpeak(sta)[1]), width=5)"
   ]
  },
  {
   "cell_type": "code",
   "execution_count": 12,
   "metadata": {
    "collapsed": false
   },
   "outputs": [
    {
     "data": {
      "text/plain": [
       "(100, 11, 11)"
      ]
     },
     "execution_count": 12,
     "metadata": {},
     "output_type": "execute_result"
    }
   ],
   "source": [
    "Xcut[:100].shape"
   ]
  },
  {
   "cell_type": "code",
   "execution_count": 13,
   "metadata": {
    "collapsed": false
   },
   "outputs": [
    {
     "data": {
      "text/plain": [
       "dtype('float32')"
      ]
     },
     "execution_count": 13,
     "metadata": {},
     "output_type": "execute_result"
    }
   ],
   "source": [
    "Xcut.dtype"
   ]
  },
  {
   "cell_type": "code",
   "execution_count": 14,
   "metadata": {
    "collapsed": false
   },
   "outputs": [
    {
     "data": {
      "text/plain": [
       "'0.16.1'"
      ]
     },
     "execution_count": 14,
     "metadata": {},
     "output_type": "execute_result"
    }
   ],
   "source": [
    "import scipy\n",
    "scipy.__version__"
   ]
  },
  {
   "cell_type": "code",
   "execution_count": 15,
   "metadata": {
    "collapsed": true
   },
   "outputs": [],
   "source": [
    "from scipy.linalg.blas import get_blas_funcs"
   ]
  },
  {
   "cell_type": "code",
   "execution_count": 16,
   "metadata": {
    "collapsed": true
   },
   "outputs": [],
   "source": [
    "outer = get_blas_funcs('syr',dtype='d')"
   ]
  },
  {
   "cell_type": "code",
   "execution_count": 22,
   "metadata": {
    "collapsed": false
   },
   "outputs": [
    {
     "data": {
      "text/plain": [
       "array([[ 1. ,  0. ,  0. ,  0. ,  0. ],\n",
       "       [ 0. ,  1.5,  1. ,  1.5,  2. ],\n",
       "       [ 0. ,  1. ,  3. ,  3. ,  4. ],\n",
       "       [ 0. ,  1.5,  3. ,  5.5,  6. ],\n",
       "       [ 0. ,  2. ,  4. ,  6. ,  9. ]])"
      ]
     },
     "execution_count": 22,
     "metadata": {},
     "output_type": "execute_result"
    }
   ],
   "source": [
    "0.5 * np.outer(np.arange(5), np.arange(5)) + np.eye(5)"
   ]
  },
  {
   "cell_type": "code",
   "execution_count": 23,
   "metadata": {
    "collapsed": false
   },
   "outputs": [
    {
     "data": {
      "text/plain": [
       "array([[ 1. ,  0. ,  0. ,  0. ,  0. ],\n",
       "       [ 0. ,  1.5,  1. ,  1.5,  2. ],\n",
       "       [ 0. ,  0. ,  3. ,  3. ,  4. ],\n",
       "       [ 0. ,  0. ,  0. ,  5.5,  6. ],\n",
       "       [ 0. ,  0. ,  0. ,  0. ,  9. ]])"
      ]
     },
     "execution_count": 23,
     "metadata": {},
     "output_type": "execute_result"
    }
   ],
   "source": [
    "outer(0.5, np.arange(5), a=np.eye(5))"
   ]
  },
  {
   "cell_type": "code",
   "execution_count": 26,
   "metadata": {
    "collapsed": false
   },
   "outputs": [],
   "source": [
    "x = np.random.randn(10000, 10, 10)\n",
    "t = np.linspace(0, 100, x.shape[0])\n",
    "s = np.random.rand(200) * 100"
   ]
  },
  {
   "cell_type": "code",
   "execution_count": 36,
   "metadata": {
    "collapsed": false
   },
   "outputs": [
    {
     "name": "stdout",
     "output_type": "stream",
     "text": [
      "CPU times: user 13.8 s, sys: 12.5 s, total: 26.3 s\n",
      "Wall time: 26.3 s\n"
     ]
    }
   ],
   "source": [
    "%%time\n",
    "stc0 = ft.getstc(t, x, s, 50)"
   ]
  },
  {
   "cell_type": "code",
   "execution_count": 37,
   "metadata": {
    "collapsed": false
   },
   "outputs": [
    {
     "name": "stdout",
     "output_type": "stream",
     "text": [
      "CPU times: user 17.6 s, sys: 12.1 s, total: 29.6 s\n",
      "Wall time: 29.6 s\n"
     ]
    }
   ],
   "source": [
    "%%time\n",
    "ste = ft.getste(t, x, s, 50)\n",
    "stc = np.zeros((5000, 5000))\n",
    "for si in ste:\n",
    "    sr = si.ravel()\n",
    "    stc += np.outer(sr, sr)"
   ]
  },
  {
   "cell_type": "code",
   "execution_count": 113,
   "metadata": {
    "collapsed": false,
    "scrolled": true
   },
   "outputs": [
    {
     "name": "stdout",
     "output_type": "stream",
     "text": [
      "0.0\n",
      "1.94091844261\n",
      "3.88183688521\n",
      "5.82275532782\n",
      "7.76367377043\n",
      "9.70459221304\n",
      "11.6455106556\n",
      "13.5864290982\n",
      "15.5273475409\n",
      "17.4682659835\n",
      "19.4091844261\n",
      "21.3501028687\n",
      "23.2910213113\n",
      "25.2319397539\n",
      "27.1728581965\n",
      "29.1137766391\n",
      "31.0546950817\n",
      "32.9956135243\n",
      "34.9365319669\n",
      "36.8774504095\n",
      "38.8183688521\n",
      "40.7592872947\n",
      "42.7002057374\n",
      "44.64112418\n",
      "46.5820426226\n",
      "48.5229610652\n",
      "50.4638795078\n",
      "52.4047979504\n",
      "54.345716393\n",
      "56.2866348356\n",
      "58.2275532782\n",
      "60.1684717208\n",
      "62.1093901634\n",
      "64.050308606\n",
      "65.9912270486\n",
      "67.9321454912\n",
      "69.8730639339\n",
      "71.8139823765\n",
      "73.7549008191\n",
      "75.6958192617\n",
      "77.6367377043\n",
      "79.5776561469\n",
      "81.5185745895\n",
      "83.4594930321\n",
      "85.4004114747\n",
      "87.3413299173\n",
      "89.2822483599\n",
      "91.2231668025\n"
     ]
    }
   ],
   "source": [
    "stc = np.zeros((35*11*11, 35*11*11))\n",
    "for idx, s in enumerate(ft.getste(time, Xcut, spk, 35)):\n",
    "    sr = s.astype('float').ravel()\n",
    "    if sr.size == (35*11*11):\n",
    "        stc += np.outer(sr, sr)\n",
    "        \n",
    "    if idx % 500 == 0:\n",
    "        print('{}'.format(100.*idx/len(spk)))"
   ]
  },
  {
   "cell_type": "code",
   "execution_count": null,
   "metadata": {
    "collapsed": true
   },
   "outputs": [],
   "source": [
    "stc_normalized = stc/len(spk)\n",
    "#stc_normalized -= np.outer(sta.ravel(), sta.ravel())\n",
    "hist(np.diag(stc_normalized))"
   ]
  },
  {
   "cell_type": "code",
   "execution_count": null,
   "metadata": {
    "collapsed": true
   },
   "outputs": [],
   "source": [
    "u,v = np.linalg.eigh(stc_normalized)"
   ]
  },
  {
   "cell_type": "code",
   "execution_count": 36,
   "metadata": {
    "collapsed": false,
    "scrolled": true
   },
   "outputs": [
    {
     "data": {
      "image/png": "[encoded data removed]",
      "text/plain": [
       "<matplotlib.figure.Figure at 0x132e65610>"
      ]
     },
     "metadata": {},
     "output_type": "display_data"
    }
   ],
   "source": [
    "fig = plt.gcf()\n",
    "fig.set_size_inches((4,5))\n",
    "\n",
    "ax = plt.subplot2grid((4, 1), (0,0), rowspan=3)\n",
    "ax.imshow(sp_whitenoise, interpolation='nearest', cmap='seismic', clim=[-whitenoise_abs_max, whitenoise_abs_max]) #, clim=[np.min(W0), np.max(W0)])\n",
    "plt.grid('off')\n",
    "plt.axis('off')\n",
    "\n",
    "ax = plt.subplot2grid((4, 1), (3, 0), rowspan=1)\n",
    "ax.plot(np.linspace(0,400,40), tm_whitenoise, 'k', linewidth=4)\n",
    "plt.grid('off')\n",
    "plt.axis('off')\n",
    "plt.savefig('Whitenoise_CNN_Total_RF_seismic.png', dpi=500)"
   ]
  },
  {
   "cell_type": "code",
   "execution_count": null,
   "metadata": {
    "collapsed": true
   },
   "outputs": [],
   "source": []
  },
  {
   "cell_type": "code",
   "execution_count": 35,
   "metadata": {
    "collapsed": false
   },
   "outputs": [
    {
     "data": {
      "image/png": "[encoded data removed]",
      "text/plain": [
       "<matplotlib.figure.Figure at 0x132e2a310>"
      ]
     },
     "metadata": {},
     "output_type": "display_data"
    }
   ],
   "source": [
    "fig = plt.gcf()\n",
    "fig.set_size_inches((4,5))\n",
    "\n",
    "ax = plt.subplot2grid((4, 1), (0,0), rowspan=3)\n",
    "ax.imshow(sp_naturalscenes, interpolation='nearest', cmap='seismic', clim=[-naturalscenes_abs_max, naturalscenes_abs_max]) #, clim=[np.min(W0), np.max(W0)])\n",
    "plt.grid('off')\n",
    "plt.axis('off')\n",
    "\n",
    "ax = plt.subplot2grid((4, 1), (3, 0), rowspan=1)\n",
    "ax.plot(np.linspace(0,400,40), tm_naturalscenes, 'k', linewidth=4)\n",
    "plt.grid('off')\n",
    "plt.axis('off')\n",
    "plt.savefig('Naturalscenes_CNN_Total_RF_seismic.png', dpi=500)"
   ]
  },
  {
   "cell_type": "code",
   "execution_count": 37,
   "metadata": {
    "collapsed": false
   },
   "outputs": [
    {
     "data": {
      "text/plain": [
       "[u'layer_0', u'layer_1', u'layer_2', u'layer_3', u'layer_4']"
      ]
     },
     "execution_count": 37,
     "metadata": {},
     "output_type": "execute_result"
    }
   ],
   "source": [
    "naturalscenes_weights = h5py.File(naturalscenes_data_dir + naturalscenes_weight_filename, 'r')\n",
    "list(naturalscenes_weights)"
   ]
  },
  {
   "cell_type": "code",
   "execution_count": 38,
   "metadata": {
    "collapsed": false
   },
   "outputs": [
    {
     "data": {
      "text/plain": [
       "[u'layer_0', u'layer_1', u'layer_2', u'layer_3', u'layer_4']"
      ]
     },
     "execution_count": 38,
     "metadata": {},
     "output_type": "execute_result"
    }
   ],
   "source": [
    "whitenoise_weights = h5py.File(whitenoise_data_dir + whitenoise_weight_filename, 'r')\n",
    "list(whitenoise_weights)"
   ]
  },
  {
   "cell_type": "code",
   "execution_count": 39,
   "metadata": {
    "collapsed": true
   },
   "outputs": [],
   "source": [
    "whitenoise_W0 = whitenoise_weights['layer_0']['param_0']\n",
    "naturalscenes_W0 = naturalscenes_weights['layer_0']['param_0']"
   ]
  },
  {
   "cell_type": "code",
   "execution_count": 41,
   "metadata": {
    "collapsed": true
   },
   "outputs": [],
   "source": [
    "whitenoise_spatial_profiles = [ft.decompose(i)[0] for i in whitenoise_W0]\n",
    "naturalscenes_spatial_profiles = [ft.decompose(i)[0] for i in naturalscenes_W0]"
   ]
  },
  {
   "cell_type": "code",
   "execution_count": 43,
   "metadata": {
    "collapsed": false
   },
   "outputs": [],
   "source": [
    "whitenoise_abs_max = np.max(abs(np.array(whitenoise_spatial_profiles)))\n",
    "naturalscenes_abs_max = np.max(abs(np.array(naturalscenes_spatial_profiles)))"
   ]
  },
  {
   "cell_type": "code",
   "execution_count": 47,
   "metadata": {
    "collapsed": false
   },
   "outputs": [
    {
     "data": {
      "image/png": "[encoded data removed]",
      "text/plain": [
       "<matplotlib.figure.Figure at 0x126331b90>"
      ]
     },
     "metadata": {},
     "output_type": "display_data"
    }
   ],
   "source": [
    "nfilters = whitenoise_W0.shape[0]\n",
    "\n",
    "fig = plt.gcf()\n",
    "fig.set_size_inches((4,10))\n",
    "plt.title('Whitenoise Affine STAs', fontsize=20)\n",
    "num_cols = int(np.sqrt(nfilters))\n",
    "num_rows = int(np.ceil(nfilters/num_cols))\n",
    "idxs = range(num_cols)\n",
    "for x in range(num_cols):\n",
    "    for y in range(num_rows):\n",
    "        plt_idx = y * num_cols + x + 1\n",
    "        spatial,temporal = ft.decompose(whitenoise_W0[plt_idx-1])\n",
    "        #plt.subplot(num_rows, num_cols, plt_idx)\n",
    "        ax = plt.subplot2grid((num_rows*4, num_cols), (4*y, x), rowspan=3)\n",
    "        ax.imshow(spatial, interpolation='nearest', cmap='seismic', clim=[-whitenoise_abs_max, whitenoise_abs_max]) #, clim=[np.min(W0), np.max(W0)])\n",
    "        plt.grid('off')\n",
    "        plt.axis('off')\n",
    "\n",
    "        ax = plt.subplot2grid((num_rows*4, num_cols), (4*y+3, x), rowspan=1)\n",
    "        ax.plot(np.linspace(0,400,40), temporal, 'k', linewidth=2)\n",
    "        plt.grid('off')\n",
    "        plt.axis('off')\n",
    "plt.savefig('Whitenoise_Conv_filters_seismic.png', dpi=500)"
   ]
  },
  {
   "cell_type": "code",
   "execution_count": 64,
   "metadata": {
    "collapsed": false
   },
   "outputs": [
    {
     "data": {
      "image/png": "[encoded data removed]",
      "text/plain": [
       "<matplotlib.figure.Figure at 0x13343db90>"
      ]
     },
     "metadata": {},
     "output_type": "display_data"
    }
   ],
   "source": [
    "nfilters = whitenoise_W0.shape[0]\n",
    "\n",
    "fig = plt.gcf()\n",
    "fig.set_size_inches((10,4))\n",
    "num_rows = int(np.sqrt(nfilters))\n",
    "num_cols = int(np.ceil(nfilters/num_cols))\n",
    "idxs = range(num_cols)\n",
    "for x in range(num_cols):\n",
    "    for y in range(num_rows):\n",
    "        plt_idx = y * num_cols + x + 1\n",
    "        spatial,temporal = ft.decompose(whitenoise_W0[plt_idx-1])\n",
    "        #plt.subplot(num_rows, num_cols, plt_idx)\n",
    "        ax = plt.subplot2grid((num_rows*4, num_cols), (4*y, x), rowspan=3)\n",
    "        ax.imshow(spatial, interpolation='nearest', cmap='seismic', clim=[-whitenoise_abs_max, whitenoise_abs_max]) #, clim=[np.min(W0), np.max(W0)])\n",
    "        plt.grid('off')\n",
    "        plt.axis('off')\n",
    "\n",
    "        ax = plt.subplot2grid((num_rows*4, num_cols), (4*y+3, x), rowspan=1)\n",
    "        ax.plot(np.linspace(0,400,40), temporal, 'k', linewidth=2)\n",
    "        plt.grid('off')\n",
    "        plt.axis('off')\n",
    "plt.savefig('Whitenoise_Conv_filters_seismic.png', dpi=500)"
   ]
  },
  {
   "cell_type": "code",
   "execution_count": 62,
   "metadata": {
    "collapsed": false
   },
   "outputs": [
    {
     "data": {
      "image/png": "[encoded data removed]",
      "text/plain": [
       "<matplotlib.figure.Figure at 0x12636e190>"
      ]
     },
     "metadata": {},
     "output_type": "display_data"
    }
   ],
   "source": [
    "nfilters = whitenoise_W0.shape[0]\n",
    "\n",
    "fig = plt.gcf()\n",
    "fig.set_size_inches((10,4))\n",
    "num_rows = int(np.sqrt(nfilters))\n",
    "num_cols = int(np.ceil(nfilters/num_cols))\n",
    "idxs = range(num_cols)\n",
    "for x in range(num_cols):\n",
    "    for y in range(num_rows):\n",
    "        plt_idx = y * num_cols + x + 1\n",
    "        spatial,temporal = ft.decompose(naturalscenes_W0[plt_idx-1])\n",
    "        #plt.subplot(num_rows, num_cols, plt_idx)\n",
    "        ax = plt.subplot2grid((num_rows*4, num_cols), (4*y, x), rowspan=3)\n",
    "        ax.imshow(spatial, interpolation='nearest', cmap='seismic', clim=[-naturalscenes_abs_max, naturalscenes_abs_max]) #, clim=[np.min(W0), np.max(W0)])\n",
    "        plt.grid('off')\n",
    "        plt.axis('off')\n",
    "\n",
    "        ax = plt.subplot2grid((num_rows*4, num_cols), (4*y+3, x), rowspan=1)\n",
    "        ax.plot(np.linspace(0,400,40), temporal, 'k', linewidth=2)\n",
    "        plt.grid('off')\n",
    "        plt.axis('off')\n",
    "\n",
    "        \n",
    "plt.savefig('Naturalscenes_Conv_filters_seismic.png', dpi=500)"
   ]
  },
  {
   "cell_type": "code",
   "execution_count": null,
   "metadata": {
    "collapsed": true
   },
   "outputs": [],
   "source": []
  }
 ],
 "metadata": {
  "kernelspec": {
   "display_name": "Python 2",
   "language": "python",
   "name": "python2"
  },
  "language_info": {
   "codemirror_mode": {
    "name": "ipython",
    "version": 2
   },
   "file_extension": ".py",
   "mimetype": "text/x-python",
   "name": "python",
   "nbconvert_exporter": "python",
   "pygments_lexer": "ipython2",
   "version": "2.7.3"
  }
 },
 "nbformat": 4,
 "nbformat_minor": 0
}
