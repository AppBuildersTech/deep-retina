{
 "cells": [
  {
   "cell_type": "markdown",
   "metadata": {},
   "source": [
    "# Find the stimuli that maximally differentiates LN model from the Convnet trained on natural scenes"
   ]
  },
  {
   "cell_type": "code",
   "execution_count": 28,
   "metadata": {
    "collapsed": false
   },
   "outputs": [
    {
     "name": "stdout",
     "output_type": "stream",
     "text": [
      "The autoreload extension is already loaded. To reload it, use:\n",
      "  %reload_ext autoreload\n"
     ]
    }
   ],
   "source": [
    "import numpy as np\n",
    "from os.path import expanduser\n",
    "import os\n",
    "import json\n",
    "import theano\n",
    "import pyret.filtertools as ft\n",
    "import pyret.visualizations as pyviz\n",
    "import deepretina.visualizations as viz\n",
    "from deepretina.preprocessing import datagen, loadexpt\n",
    "from keras.models import model_from_json\n",
    "import h5py\n",
    "import matplotlib.pyplot as plt\n",
    "from scipy.stats import pearsonr\n",
    "from scipy.optimize import minimize\n",
    "from numpy.linalg import norm\n",
    "%matplotlib inline\n",
    "#%matplotlib qt\n",
    "\n",
    "from pylab import rcParams\n",
    "rcParams['figure.figsize'] = (10.0, 8.0) # set default size of plots\n",
    "rcParams['image.interpolation'] = 'nearest'\n",
    "rcParams['image.cmap'] = 'gray'\n",
    "\n",
    "%load_ext autoreload\n",
    "%autoreload 2"
   ]
  },
  {
   "cell_type": "markdown",
   "metadata": {},
   "source": [
    "### Filenames and data directories"
   ]
  },
  {
   "cell_type": "code",
   "execution_count": 4,
   "metadata": {
    "collapsed": true
   },
   "outputs": [],
   "source": [
    "architecture_filename = 'architecture.json'\n",
    "#whitenoise_data_dir = expanduser('~/Dropbox/deep-retina/saved/lenna.salamander/2015-11-08 15.42.33 convnet/')\n",
    "#whitenoise_weight_filename = 'epoch018_iter01300_weights.h5' # .63 cc on held-out\n",
    "naturalscenes_data_dir = expanduser('~/Dropbox/deep-retina/saved/lenna.salamander/2015-11-07 16.52.44 convnet/')\n",
    "naturalscenes_weight_filename = 'epoch038_iter02700_weights.h5' # .53 cc on held-out\n",
    "ln_data_dir = expanduser('~/Dropbox/deep-retina/saved/lenna.nirum/2015-11-08 04.41.18 LN/')\n",
    "ln_weight_filename = 'epoch010_iter00750_weights.h5' # .468 cc on held-out"
   ]
  },
  {
   "cell_type": "markdown",
   "metadata": {},
   "source": [
    "## Load convnet trained on natural scenes"
   ]
  },
  {
   "cell_type": "code",
   "execution_count": 3,
   "metadata": {
    "collapsed": true
   },
   "outputs": [],
   "source": [
    "naturalscenes_architecture_data = open(naturalscenes_data_dir + architecture_filename, 'r')\n",
    "naturalscenes_architecture_string = naturalscenes_architecture_data.read()\n",
    "naturalscenes_model = model_from_json(naturalscenes_architecture_string)\n",
    "naturalscenes_model.load_weights(naturalscenes_data_dir + naturalscenes_weight_filename)"
   ]
  },
  {
   "cell_type": "markdown",
   "metadata": {},
   "source": [
    "## Load LN model"
   ]
  },
  {
   "cell_type": "code",
   "execution_count": 5,
   "metadata": {
    "collapsed": true
   },
   "outputs": [],
   "source": [
    "ln_architecture_data = open(ln_data_dir + architecture_filename, 'r')\n",
    "ln_architecture_string = ln_architecture_data.read()\n",
    "ln_model = model_from_json(ln_architecture_string)\n",
    "ln_model.load_weights(ln_data_dir + ln_weight_filename)"
   ]
  },
  {
   "cell_type": "code",
   "execution_count": 47,
   "metadata": {
    "collapsed": true
   },
   "outputs": [],
   "source": [
    "def model_separation(stimulus):\n",
    "    stimulus = stimulus.reshape((1,40,50,50))\n",
    "    ln_response = ln_model.predict(stimulus)[0][0]\n",
    "    convnet_response = naturalscenes_model.predict(stimulus)[0][0]\n",
    "    return -(convnet_response - ln_response)**2"
   ]
  },
  {
   "cell_type": "code",
   "execution_count": 48,
   "metadata": {
    "collapsed": false
   },
   "outputs": [],
   "source": [
    "constraint = {}\n",
    "def unit_norm_constraint(stimulus):\n",
    "    return (1 - norm(stimulus.ravel()))**2\n",
    "constraint['fun'] = unit_norm_constraint\n",
    "constraint['type'] = 'eq'"
   ]
  },
  {
   "cell_type": "code",
   "execution_count": null,
   "metadata": {
    "collapsed": false
   },
   "outputs": [],
   "source": [
    "initial_guess = np.random.randn(1*40*50*50)\n",
    "res = minimize(model_separation, x0=initial_guess)"
   ]
  },
  {
   "cell_type": "code",
   "execution_count": null,
   "metadata": {
    "collapsed": true
   },
   "outputs": [],
   "source": []
  }
 ],
 "metadata": {
  "kernelspec": {
   "display_name": "Python 2",
   "language": "python",
   "name": "python2"
  },
  "language_info": {
   "codemirror_mode": {
    "name": "ipython",
    "version": 2
   },
   "file_extension": ".py",
   "mimetype": "text/x-python",
   "name": "python",
   "nbconvert_exporter": "python",
   "pygments_lexer": "ipython2",
   "version": "2.7.3"
  }
 },
 "nbformat": 4,
 "nbformat_minor": 0
}
