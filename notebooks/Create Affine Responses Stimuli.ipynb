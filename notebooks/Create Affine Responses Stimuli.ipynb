{
 "cells": [
  {
   "cell_type": "markdown",
   "metadata": {},
   "source": [
    "# Save last fully connected layer activations as stimulus for LSTM"
   ]
  },
  {
   "cell_type": "code",
   "execution_count": 3,
   "metadata": {
    "collapsed": false
   },
   "outputs": [
    {
     "name": "stdout",
     "output_type": "stream",
     "text": [
      "The autoreload extension is already loaded. To reload it, use:\n",
      "  %reload_ext autoreload\n"
     ]
    }
   ],
   "source": [
    "import numpy as np\n",
    "from os.path import expanduser\n",
    "import os\n",
    "import json\n",
    "import theano\n",
    "import pyret.filtertools as ft\n",
    "import pyret.visualizations as pyviz\n",
    "#import deepretina.visualizations as viz\n",
    "from deepretina.preprocessing import datagen, loadexpt\n",
    "from deepretina.utils import rolling_window\n",
    "from deepretina.modeltools import load_model, load_partial_model, list_layers\n",
    "from keras.models import model_from_json\n",
    "import h5py\n",
    "import matplotlib.pyplot as plt\n",
    "from scipy.stats import pearsonr\n",
    "%matplotlib inline\n",
    "#%matplotlib qt\n",
    "\n",
    "from pylab import rcParams\n",
    "rcParams['figure.figsize'] = (10.0, 8.0) # set default size of plots\n",
    "rcParams['image.interpolation'] = 'nearest'\n",
    "rcParams['image.cmap'] = 'gray'\n",
    "\n",
    "%load_ext autoreload\n",
    "%autoreload 2"
   ]
  },
  {
   "cell_type": "markdown",
   "metadata": {},
   "source": [
    "# Load models"
   ]
  },
  {
   "cell_type": "code",
   "execution_count": 4,
   "metadata": {
    "collapsed": true
   },
   "outputs": [],
   "source": [
    "# model trained on white noise\n",
    "natural_model_path = expanduser('~/Dropbox/deep-retina/saved/lenna.nirum/2015-12-13 00.27.52 convnet/')\n",
    "natural_weight_name = 'epoch098_iter07000_weights.h5'\n",
    "\n",
    "# model trained on natural scenes\n",
    "white_model_path = expanduser('~/Dropbox/deep-retina/saved/lenna.nirum/2015-12-13 23.20.03 convnet/')\n",
    "white_weight_name = 'epoch097_iter06950_weights.h5'"
   ]
  },
  {
   "cell_type": "code",
   "execution_count": 5,
   "metadata": {
    "collapsed": true
   },
   "outputs": [],
   "source": [
    "natural_multimodel = load_model(natural_model_path, natural_weight_name)\n",
    "white_multimodel = load_model(white_model_path, white_weight_name)"
   ]
  },
  {
   "cell_type": "code",
   "execution_count": 6,
   "metadata": {
    "collapsed": false
   },
   "outputs": [
    {
     "name": "stdout",
     "output_type": "stream",
     "text": [
      "+-----------+------------+-----------+\n",
      "|layer      | weights    | biases    |\n",
      "+-----------+------------+-----------+\n",
      "|   layer_0 |    param_0 |    param_1|\n",
      "|   layer_1 |            |           |\n",
      "|   layer_2 |            |           |\n",
      "|   layer_3 |            |           |\n",
      "|   layer_4 |    param_0 |    param_1|\n",
      "|   layer_5 |            |           |\n",
      "|   layer_6 |    param_0 |    param_1|\n",
      "+-----------+------------+-----------+\n"
     ]
    }
   ],
   "source": [
    "list_layers(natural_model_path, natural_weight_name)"
   ]
  },
  {
   "cell_type": "code",
   "execution_count": 7,
   "metadata": {
    "collapsed": false
   },
   "outputs": [
    {
     "name": "stdout",
     "output_type": "stream",
     "text": [
      "+-----------+------------+-----------+\n",
      "|layer      | weights    | biases    |\n",
      "+-----------+------------+-----------+\n",
      "|   layer_0 |    param_0 |    param_1|\n",
      "|   layer_1 |            |           |\n",
      "|   layer_2 |            |           |\n",
      "|   layer_3 |            |           |\n",
      "|   layer_4 |    param_0 |    param_1|\n",
      "|   layer_5 |            |           |\n",
      "|   layer_6 |    param_0 |    param_1|\n",
      "+-----------+------------+-----------+\n"
     ]
    }
   ],
   "source": [
    "list_layers(white_model_path, white_weight_name)"
   ]
  },
  {
   "cell_type": "markdown",
   "metadata": {},
   "source": [
    "# Load partial models"
   ]
  },
  {
   "cell_type": "code",
   "execution_count": 22,
   "metadata": {
    "collapsed": true
   },
   "outputs": [],
   "source": [
    "natural_activations = load_partial_model(natural_multimodel, 4)\n",
    "white_activations = load_partial_model(white_multimodel, 4)"
   ]
  },
  {
   "cell_type": "markdown",
   "metadata": {},
   "source": [
    "# Load stimulus"
   ]
  },
  {
   "cell_type": "code",
   "execution_count": 15,
   "metadata": {
    "collapsed": false
   },
   "outputs": [
    {
     "name": "stdout",
     "output_type": "stream",
     "text": [
      "Loading training data... Done.\n",
      "Loading training data... Done.\n",
      "Loading testing data... Done.\n",
      "Loading testing data... Done.\n"
     ]
    }
   ],
   "source": [
    "naturalscenes_train = loadexpt(0, 'naturalscene', 'train', 40)\n",
    "whitenoise_train = loadexpt(0, 'whitenoise', 'train', 40)\n",
    "naturalscenes_test = loadexpt(0, 'naturalscene', 'test', 40)\n",
    "whitenoise_test = loadexpt(0, 'whitenoise', 'test', 40)"
   ]
  },
  {
   "cell_type": "code",
   "execution_count": 16,
   "metadata": {
    "collapsed": false
   },
   "outputs": [
    {
     "name": "stdout",
     "output_type": "stream",
     "text": [
      "(359762, 40, 50, 50)\n",
      "(359762, 40, 50, 50)\n",
      "(5957, 40, 50, 50)\n",
      "(5957, 40, 50, 50)\n"
     ]
    }
   ],
   "source": [
    "print naturalscenes_train.X.shape\n",
    "print whitenoise_train.X.shape\n",
    "print naturalscenes_test.X.shape\n",
    "print whitenoise_test.X.shape"
   ]
  },
  {
   "cell_type": "markdown",
   "metadata": {},
   "source": [
    "# Get affine activations"
   ]
  },
  {
   "cell_type": "code",
   "execution_count": 35,
   "metadata": {
    "collapsed": false
   },
   "outputs": [],
   "source": [
    "naturalscenes_affine_train = np.zeros((naturalscenes_train.X.shape[0], 16))\n",
    "naturalscenes_affine_test = np.zeros((naturalscenes_test.X.shape[0], 16))\n",
    "whitenoise_affine_train = np.zeros((whitenoise_train.X.shape[0], 16))\n",
    "whitenoise_affine_test = np.zeros((whitenoise_test.X.shape[0], 16))"
   ]
  },
  {
   "cell_type": "markdown",
   "metadata": {},
   "source": [
    "#### Whitenoise test"
   ]
  },
  {
   "cell_type": "code",
   "execution_count": 36,
   "metadata": {
    "collapsed": false
   },
   "outputs": [],
   "source": [
    "for indx, (X, y) in enumerate(datagen(50, *whitenoise_test, shuffle=False)):\n",
    "    affine_response = white_activations(X)\n",
    "    whitenoise_affine_test[indx*50:(indx+1)*50,:] = affine_response"
   ]
  },
  {
   "cell_type": "code",
   "execution_count": 37,
   "metadata": {
    "collapsed": false
   },
   "outputs": [
    {
     "data": {
      "text/plain": [
       "(5957, 16)"
      ]
     },
     "execution_count": 37,
     "metadata": {},
     "output_type": "execute_result"
    }
   ],
   "source": [
    "whitenoise_affine_test.shape"
   ]
  },
  {
   "cell_type": "code",
   "execution_count": 38,
   "metadata": {
    "collapsed": false
   },
   "outputs": [
    {
     "data": {
      "text/plain": [
       "<matplotlib.image.AxesImage at 0x13a6b2390>"
      ]
     },
     "execution_count": 38,
     "metadata": {},
     "output_type": "execute_result"
    },
    {
     "data": {
      "image/png": "[encoded data removed]",
      "text/plain": [
       "<matplotlib.figure.Figure at 0x13a58fcd0>"
      ]
     },
     "metadata": {},
     "output_type": "display_data"
    }
   ],
   "source": [
    "plt.imshow(whitenoise_affine_test[:100,:].T, cmap='seismic')"
   ]
  },
  {
   "cell_type": "markdown",
   "metadata": {},
   "source": [
    "#### Whitenoise train"
   ]
  },
  {
   "cell_type": "code",
   "execution_count": 39,
   "metadata": {
    "collapsed": true
   },
   "outputs": [],
   "source": [
    "for indx, (X, y) in enumerate(datagen(50, *whitenoise_train, shuffle=False)):\n",
    "    affine_response = white_activations(X)\n",
    "    whitenoise_affine_train[indx*50:(indx+1)*50,:] = affine_response"
   ]
  },
  {
   "cell_type": "markdown",
   "metadata": {},
   "source": [
    "#### Naturalscenes test"
   ]
  },
  {
   "cell_type": "code",
   "execution_count": null,
   "metadata": {
    "collapsed": true
   },
   "outputs": [],
   "source": [
    "for indx, (X, y) in enumerate(datagen(50, *naturalscenes_test, shuffle=False)):\n",
    "    affine_response = natural_activations(X)\n",
    "    naturalscenes_affine_test[indx*50:(indx+1)*50,:] = affine_response"
   ]
  },
  {
   "cell_type": "markdown",
   "metadata": {},
   "source": [
    "#### Naturalscenes train"
   ]
  },
  {
   "cell_type": "code",
   "execution_count": null,
   "metadata": {
    "collapsed": true
   },
   "outputs": [],
   "source": [
    "for indx, (X, y) in enumerate(datagen(50, *naturalscenes_train, shuffle=False)):\n",
    "    affine_response = natural_activations(X)\n",
    "    naturalscenes_affine_train[indx*50:(indx+1)*50,:] = affine_response"
   ]
  },
  {
   "cell_type": "code",
   "execution_count": null,
   "metadata": {
    "collapsed": true
   },
   "outputs": [],
   "source": [
    "plt.imshow(naturalscenes_affine_train[:100,:].T, cmap='seismic')"
   ]
  },
  {
   "cell_type": "code",
   "execution_count": null,
   "metadata": {
    "collapsed": true
   },
   "outputs": [],
   "source": []
  },
  {
   "cell_type": "markdown",
   "metadata": {},
   "source": [
    "# Create new affine stimulus h5 file"
   ]
  },
  {
   "cell_type": "markdown",
   "metadata": {},
   "source": [
    "#### whitenoise"
   ]
  },
  {
   "cell_type": "code",
   "execution_count": 46,
   "metadata": {
    "collapsed": false
   },
   "outputs": [
    {
     "name": "stdout",
     "output_type": "stream",
     "text": [
      "Cutting out stimulus for cell01\n",
      "Cutting out stimulus for cell02\n",
      "Cutting out stimulus for cell03\n",
      "Cutting out stimulus for cell04\n",
      "Cutting out stimulus for cell05\n",
      "Cutting out stimulus for cell06\n",
      "Cutting out stimulus for cell07\n",
      "Cutting out stimulus for cell08\n",
      "Cutting out stimulus for cell09\n"
     ]
    },
    {
     "data": {
      "image/png": "[encoded data removed]",
      "text/plain": [
       "<matplotlib.figure.Figure at 0x1134b6b90>"
      ]
     },
     "metadata": {},
     "output_type": "display_data"
    }
   ],
   "source": [
    "f = h5py.File('Users/lmcintosh/experiments/data/15-10-07/whitenoise.h5', 'r')\n",
    "new_filename = 'whitenoise_affine.h5'\n",
    "h = h5py.File(new_filename, 'w')\n",
    "\n",
    "# keep most of the datasets the same\n",
    "##### spikes #####\n",
    "ncells = 9\n",
    "for idx in range(ncells):\n",
    "    h.create_dataset('spikes/cell%02d' %(idx+1), data=f['spikes/cell%02d' %(idx+1)])\n",
    "##### train #####\n",
    "h.create_dataset('train/response/binned', data=f['train/response/binned'])\n",
    "h.create_dataset('train/response/firing_rate_10ms', data=f['train/response/firing_rate_10ms'])\n",
    "h.create_dataset('train/response/firing_rate_20ms', data=f['train/response/firing_rate_20ms'])\n",
    "h.create_dataset('train/response/firing_rate_5ms', data=f['train/response/firing_rate_5ms'])\n",
    "h.create_dataset('train/time', data=f['train/time'])\n",
    "##### test #####\n",
    "h.create_dataset('test/response/binned', data=f['test/response/binned'])\n",
    "h.create_dataset('test/response/firing_rate_10ms', data=f['test/response/firing_rate_10ms'])\n",
    "h.create_dataset('test/response/firing_rate_20ms', data=f['test/response/firing_rate_20ms'])\n",
    "h.create_dataset('test/response/firing_rate_5ms', data=f['test/response/firing_rate_5ms'])\n",
    "h.create_dataset('test/time', data=f['test/time'])\n",
    "\n",
    "# create stimuli datasets\n",
    "h.create_dataset('train/stimulus', data=whitenoise_affine_train)\n",
    "h.create_dataset('test/stimulus', data=whitenoise_affine_test)\n",
    "\n",
    "h.close()\n",
    "f.close()"
   ]
  },
  {
   "cell_type": "markdown",
   "metadata": {},
   "source": [
    "#### naturalscenes"
   ]
  },
  {
   "cell_type": "code",
   "execution_count": null,
   "metadata": {
    "collapsed": true
   },
   "outputs": [],
   "source": [
    "f = h5py.File('Users/lmcintosh/experiments/data/15-10-07/naturalscene.h5', 'r')\n",
    "new_filename = 'naturalscenes_affine.h5'\n",
    "h = h5py.File(new_filename, 'w')\n",
    "\n",
    "# keep most of the datasets the same\n",
    "##### spikes #####\n",
    "ncells = 9\n",
    "for idx in range(ncells):\n",
    "    h.create_dataset('spikes/cell%02d' %(idx+1), data=f['spikes/cell%02d' %(idx+1)])\n",
    "##### train #####\n",
    "h.create_dataset('train/response/binned', data=f['train/response/binned'])\n",
    "h.create_dataset('train/response/firing_rate_10ms', data=f['train/response/firing_rate_10ms'])\n",
    "h.create_dataset('train/response/firing_rate_20ms', data=f['train/response/firing_rate_20ms'])\n",
    "h.create_dataset('train/response/firing_rate_5ms', data=f['train/response/firing_rate_5ms'])\n",
    "h.create_dataset('train/time', data=f['train/time'])\n",
    "##### test #####\n",
    "h.create_dataset('test/response/binned', data=f['test/response/binned'])\n",
    "h.create_dataset('test/response/firing_rate_10ms', data=f['test/response/firing_rate_10ms'])\n",
    "h.create_dataset('test/response/firing_rate_20ms', data=f['test/response/firing_rate_20ms'])\n",
    "h.create_dataset('test/response/firing_rate_5ms', data=f['test/response/firing_rate_5ms'])\n",
    "h.create_dataset('test/time', data=f['test/time'])\n",
    "\n",
    "# create stimuli datasets\n",
    "h.create_dataset('train/stimulus', data=naturalscenes_affine_train)\n",
    "h.create_dataset('test/stimulus', data=naturalscenes_affine_test)\n",
    "\n",
    "h.close()\n",
    "f.close()"
   ]
  },
  {
   "cell_type": "code",
   "execution_count": null,
   "metadata": {
    "collapsed": true
   },
   "outputs": [],
   "source": []
  }
 ],
 "metadata": {
  "kernelspec": {
   "display_name": "Python 2",
   "language": "python",
   "name": "python2"
  },
  "language_info": {
   "codemirror_mode": {
    "name": "ipython",
    "version": 2
   },
   "file_extension": ".py",
   "mimetype": "text/x-python",
   "name": "python",
   "nbconvert_exporter": "python",
   "pygments_lexer": "ipython2",
   "version": "2.7.11"
  }
 },
 "nbformat": 4,
 "nbformat_minor": 0
}
