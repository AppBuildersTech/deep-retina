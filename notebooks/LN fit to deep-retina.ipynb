{
 "cells": [
  {
   "cell_type": "markdown",
   "metadata": {},
   "source": [
    "# LN fit to deep-retina  \n",
    "\n",
    "When you fit an LN model to the responses of deep-retina, what does it look like? How does this LN approximation to the convolutional neural network compare to LN models learned directly from the data?"
   ]
  },
  {
   "cell_type": "code",
   "execution_count": 94,
   "metadata": {
    "collapsed": false
   },
   "outputs": [
    {
     "name": "stdout",
     "output_type": "stream",
     "text": [
      "The autoreload extension is already loaded. To reload it, use:\n",
      "  %reload_ext autoreload\n"
     ]
    }
   ],
   "source": [
    "from __future__ import absolute_import\n",
    "import numpy as np\n",
    "import pickle\n",
    "from scipy.io import loadmat\n",
    "import os.path as path\n",
    "import matplotlib\n",
    "import h5py\n",
    "#Force matplotlib to not use any Xwindows else will crash on Rye\n",
    "matplotlib.use('Agg')\n",
    "import matplotlib.pyplot as plt\n",
    "# from matplotlib.pyplot import *\n",
    "from scipy.optimize import curve_fit\n",
    "from scipy.stats import pearsonr\n",
    "# Keras imports\n",
    "from keras.preprocessing import sequence\n",
    "from keras.utils import np_utils\n",
    "from keras.models import Sequential\n",
    "from keras.callbacks import ModelCheckpoint, EarlyStopping\n",
    "from keras.layers.core import Dense, Dropout, Activation, TimeDistributedDense, Reshape, Permute\n",
    "from keras.layers.recurrent import LSTM, GRU, JZS1, JZS2, JZS3\n",
    "from keras.optimizers import SGD, RMSprop, Adagrad\n",
    "from keras.layers.embeddings import Embedding\n",
    "from keras.regularizers import l1, l2, activity_l1, activity_l2\n",
    "from keras.callbacks import Callback\n",
    "from keras.objectives import poisson_loss\n",
    "import theano\n",
    "import theano.tensor as T\n",
    "%matplotlib inline\n",
    "%load_ext autoreload\n",
    "%autoreload 2"
   ]
  },
  {
   "cell_type": "code",
   "execution_count": 71,
   "metadata": {
    "collapsed": true
   },
   "outputs": [],
   "source": [
    "data_dir_naturalscenes = '/Users/lmcintosh/Documents/Stanford/00 Baccus Lab/Data 2015_10_07/naturalscene.h5'\n",
    "data_dir_whitenoise = '/Users/lmcintosh/Documents/Stanford/00 Baccus Lab/Data 2015_10_07/whitenoise.h5'\n",
    "weights_dir = '/Users/lmcintosh/Git/deep-retina/trained_weights_epoch0_batch200.h5'"
   ]
  },
  {
   "cell_type": "code",
   "execution_count": 72,
   "metadata": {
    "collapsed": true
   },
   "outputs": [],
   "source": [
    "weights = h5py.File(weights_dir, 'r')"
   ]
  },
  {
   "cell_type": "code",
   "execution_count": 73,
   "metadata": {
    "collapsed": false
   },
   "outputs": [
    {
     "data": {
      "text/plain": [
       "(16, 40, 4, 4)"
      ]
     },
     "execution_count": 73,
     "metadata": {},
     "output_type": "execute_result"
    }
   ],
   "source": [
    "W0 = weights['layer_0']['param_0']\n",
    "W0.shape"
   ]
  },
  {
   "cell_type": "code",
   "execution_count": 95,
   "metadata": {
    "collapsed": true
   },
   "outputs": [],
   "source": [
    "from pyret.visualizations import plotsta\n",
    "import pyret.filtertools as ft"
   ]
  },
  {
   "cell_type": "code",
   "execution_count": 75,
   "metadata": {
    "collapsed": false
   },
   "outputs": [
    {
     "ename": "ValueError",
     "evalue": "operands could not be broadcast together with shapes (16,40) (16,) ",
     "output_type": "error",
     "traceback": [
      "\u001b[0;31m---------------------------------------------------------------------------\u001b[0m",
      "\u001b[0;31mValueError\u001b[0m                                Traceback (most recent call last)",
      "\u001b[0;32m<ipython-input-75-70e75f49cd70>\u001b[0m in \u001b[0;36m<module>\u001b[0;34m()\u001b[0m\n\u001b[0;32m----> 1\u001b[0;31m \u001b[0mplotsta\u001b[0m\u001b[0;34m(\u001b[0m\u001b[0mnp\u001b[0m\u001b[0;34m.\u001b[0m\u001b[0mlinspace\u001b[0m\u001b[0;34m(\u001b[0m\u001b[0;36m0\u001b[0m\u001b[0;34m,\u001b[0m\u001b[0;36m400\u001b[0m\u001b[0;34m,\u001b[0m\u001b[0;36m40\u001b[0m\u001b[0;34m)\u001b[0m\u001b[0;34m,\u001b[0m \u001b[0mW0\u001b[0m\u001b[0;34m[\u001b[0m\u001b[0;36m0\u001b[0m\u001b[0;34m]\u001b[0m\u001b[0;34m.\u001b[0m\u001b[0mT\u001b[0m\u001b[0;34m)\u001b[0m\u001b[0;34m\u001b[0m\u001b[0m\n\u001b[0m",
      "\u001b[0;32m/Library/Frameworks/EPD64.framework/Versions/7.3/lib/python2.7/site-packages/pyret-0.2-py2.7.egg/pyret/visualizations.pyc\u001b[0m in \u001b[0;36mplotsta\u001b[0;34m(time, sta)\u001b[0m\n\u001b[1;32m    398\u001b[0m \u001b[0;34m\u001b[0m\u001b[0m\n\u001b[1;32m    399\u001b[0m         \u001b[0;31m# decompose\u001b[0m\u001b[0;34m\u001b[0m\u001b[0;34m\u001b[0m\u001b[0m\n\u001b[0;32m--> 400\u001b[0;31m         \u001b[0mspatial_profile\u001b[0m\u001b[0;34m,\u001b[0m \u001b[0mtemporal_filter\u001b[0m \u001b[0;34m=\u001b[0m \u001b[0mft\u001b[0m\u001b[0;34m.\u001b[0m\u001b[0mdecompose\u001b[0m\u001b[0;34m(\u001b[0m\u001b[0msta\u001b[0m\u001b[0;34m)\u001b[0m\u001b[0;34m\u001b[0m\u001b[0m\n\u001b[0m\u001b[1;32m    401\u001b[0m \u001b[0;34m\u001b[0m\u001b[0m\n\u001b[1;32m    402\u001b[0m         \u001b[0;31m# plot spatial profile\u001b[0m\u001b[0;34m\u001b[0m\u001b[0;34m\u001b[0m\u001b[0m\n",
      "\u001b[0;32m/Library/Frameworks/EPD64.framework/Versions/7.3/lib/python2.7/site-packages/pyret-0.2-py2.7.egg/pyret/filtertools.pyc\u001b[0m in \u001b[0;36mdecompose\u001b[0;34m(sta)\u001b[0m\n\u001b[1;32m    441\u001b[0m \u001b[0;34m\u001b[0m\u001b[0m\n\u001b[1;32m    442\u001b[0m     \"\"\"\n\u001b[0;32m--> 443\u001b[0;31m     \u001b[0m_\u001b[0m\u001b[0;34m,\u001b[0m \u001b[0mu\u001b[0m\u001b[0;34m,\u001b[0m \u001b[0m_\u001b[0m\u001b[0;34m,\u001b[0m \u001b[0mv\u001b[0m \u001b[0;34m=\u001b[0m \u001b[0mlowranksta\u001b[0m\u001b[0;34m(\u001b[0m\u001b[0msta\u001b[0m\u001b[0;34m,\u001b[0m \u001b[0mk\u001b[0m\u001b[0;34m=\u001b[0m\u001b[0;36m1\u001b[0m\u001b[0;34m)\u001b[0m\u001b[0;34m\u001b[0m\u001b[0m\n\u001b[0m\u001b[1;32m    444\u001b[0m     \u001b[0;32mreturn\u001b[0m \u001b[0mu\u001b[0m\u001b[0;34m[\u001b[0m\u001b[0;34m:\u001b[0m\u001b[0;34m,\u001b[0m \u001b[0;36m0\u001b[0m\u001b[0;34m]\u001b[0m\u001b[0;34m.\u001b[0m\u001b[0mreshape\u001b[0m\u001b[0;34m(\u001b[0m\u001b[0msta\u001b[0m\u001b[0;34m.\u001b[0m\u001b[0mshape\u001b[0m\u001b[0;34m[\u001b[0m\u001b[0;34m:\u001b[0m\u001b[0;36m2\u001b[0m\u001b[0;34m]\u001b[0m\u001b[0;34m)\u001b[0m\u001b[0;34m,\u001b[0m \u001b[0mv\u001b[0m\u001b[0;34m[\u001b[0m\u001b[0;36m0\u001b[0m\u001b[0;34m,\u001b[0m \u001b[0;34m:\u001b[0m\u001b[0;34m]\u001b[0m\u001b[0;34m\u001b[0m\u001b[0m\n\u001b[1;32m    445\u001b[0m \u001b[0;34m\u001b[0m\u001b[0m\n",
      "\u001b[0;32m/Library/Frameworks/EPD64.framework/Versions/7.3/lib/python2.7/site-packages/pyret-0.2-py2.7.egg/pyret/filtertools.pyc\u001b[0m in \u001b[0;36mlowranksta\u001b[0;34m(f_orig, k)\u001b[0m\n\u001b[1;32m    413\u001b[0m \u001b[0;34m\u001b[0m\u001b[0m\n\u001b[1;32m    414\u001b[0m     \u001b[0;31m# project onto the temporal filters and keep the sign\u001b[0m\u001b[0;34m\u001b[0m\u001b[0;34m\u001b[0m\u001b[0m\n\u001b[0;32m--> 415\u001b[0;31m     \u001b[0msigns\u001b[0m \u001b[0;34m=\u001b[0m \u001b[0mnp\u001b[0m\u001b[0;34m.\u001b[0m\u001b[0msign\u001b[0m\u001b[0;34m(\u001b[0m\u001b[0;34m(\u001b[0m\u001b[0mv\u001b[0m \u001b[0;34m-\u001b[0m \u001b[0mnp\u001b[0m\u001b[0;34m.\u001b[0m\u001b[0mmean\u001b[0m\u001b[0;34m(\u001b[0m\u001b[0mv\u001b[0m\u001b[0;34m,\u001b[0m \u001b[0maxis\u001b[0m\u001b[0;34m=\u001b[0m\u001b[0;36m1\u001b[0m\u001b[0;34m)\u001b[0m\u001b[0;34m)\u001b[0m\u001b[0;34m.\u001b[0m\u001b[0mdot\u001b[0m\u001b[0;34m(\u001b[0m\u001b[0mtsta\u001b[0m\u001b[0;34m)\u001b[0m\u001b[0;34m)\u001b[0m\u001b[0;34m\u001b[0m\u001b[0m\n\u001b[0m\u001b[1;32m    416\u001b[0m \u001b[0;34m\u001b[0m\u001b[0m\n\u001b[1;32m    417\u001b[0m     \u001b[0;31m# flip signs according to this projection\u001b[0m\u001b[0;34m\u001b[0m\u001b[0;34m\u001b[0m\u001b[0m\n",
      "\u001b[0;31mValueError\u001b[0m: operands could not be broadcast together with shapes (16,40) (16,) "
     ]
    },
    {
     "data": {
      "text/plain": [
       "<matplotlib.figure.Figure at 0x121af5a50>"
      ]
     },
     "metadata": {},
     "output_type": "display_data"
    }
   ],
   "source": [
    "plotsta(np.linspace(0,400,40), W0[0].T)"
   ]
  },
  {
   "cell_type": "code",
   "execution_count": 13,
   "metadata": {
    "collapsed": false
   },
   "outputs": [
    {
     "data": {
      "text/plain": [
       "(4, 4, 40)"
      ]
     },
     "execution_count": 13,
     "metadata": {},
     "output_type": "execute_result"
    }
   ],
   "source": [
    "W0[0].T.shape"
   ]
  },
  {
   "cell_type": "code",
   "execution_count": 89,
   "metadata": {
    "collapsed": false
   },
   "outputs": [
    {
     "ename": "ValueError",
     "evalue": "operands could not be broadcast together with shapes (16,40) (16,) ",
     "output_type": "error",
     "traceback": [
      "\u001b[0;31m---------------------------------------------------------------------------\u001b[0m",
      "\u001b[0;31mValueError\u001b[0m                                Traceback (most recent call last)",
      "\u001b[0;32m<ipython-input-89-0ebb1916fef8>\u001b[0m in \u001b[0;36m<module>\u001b[0;34m()\u001b[0m\n\u001b[1;32m      1\u001b[0m \u001b[0myoda\u001b[0m \u001b[0;34m=\u001b[0m \u001b[0mW0\u001b[0m\u001b[0;34m[\u001b[0m\u001b[0;36m0\u001b[0m\u001b[0;34m]\u001b[0m\u001b[0;34m\u001b[0m\u001b[0m\n\u001b[0;32m----> 2\u001b[0;31m \u001b[0mspaceblah\u001b[0m\u001b[0;34m,\u001b[0m \u001b[0mtimeblah\u001b[0m \u001b[0;34m=\u001b[0m \u001b[0mft\u001b[0m\u001b[0;34m.\u001b[0m\u001b[0mdecompose\u001b[0m\u001b[0;34m(\u001b[0m\u001b[0myoda\u001b[0m\u001b[0;34m.\u001b[0m\u001b[0mT\u001b[0m\u001b[0;34m)\u001b[0m\u001b[0;34m\u001b[0m\u001b[0m\n\u001b[0m",
      "\u001b[0;32m/Library/Frameworks/EPD64.framework/Versions/7.3/lib/python2.7/site-packages/pyret-0.2-py2.7.egg/pyret/filtertools.pyc\u001b[0m in \u001b[0;36mdecompose\u001b[0;34m(sta)\u001b[0m\n\u001b[1;32m    441\u001b[0m \u001b[0;34m\u001b[0m\u001b[0m\n\u001b[1;32m    442\u001b[0m     \"\"\"\n\u001b[0;32m--> 443\u001b[0;31m     \u001b[0m_\u001b[0m\u001b[0;34m,\u001b[0m \u001b[0mu\u001b[0m\u001b[0;34m,\u001b[0m \u001b[0m_\u001b[0m\u001b[0;34m,\u001b[0m \u001b[0mv\u001b[0m \u001b[0;34m=\u001b[0m \u001b[0mlowranksta\u001b[0m\u001b[0;34m(\u001b[0m\u001b[0msta\u001b[0m\u001b[0;34m,\u001b[0m \u001b[0mk\u001b[0m\u001b[0;34m=\u001b[0m\u001b[0;36m1\u001b[0m\u001b[0;34m)\u001b[0m\u001b[0;34m\u001b[0m\u001b[0m\n\u001b[0m\u001b[1;32m    444\u001b[0m     \u001b[0;32mreturn\u001b[0m \u001b[0mu\u001b[0m\u001b[0;34m[\u001b[0m\u001b[0;34m:\u001b[0m\u001b[0;34m,\u001b[0m \u001b[0;36m0\u001b[0m\u001b[0;34m]\u001b[0m\u001b[0;34m.\u001b[0m\u001b[0mreshape\u001b[0m\u001b[0;34m(\u001b[0m\u001b[0msta\u001b[0m\u001b[0;34m.\u001b[0m\u001b[0mshape\u001b[0m\u001b[0;34m[\u001b[0m\u001b[0;34m:\u001b[0m\u001b[0;36m2\u001b[0m\u001b[0;34m]\u001b[0m\u001b[0;34m)\u001b[0m\u001b[0;34m,\u001b[0m \u001b[0mv\u001b[0m\u001b[0;34m[\u001b[0m\u001b[0;36m0\u001b[0m\u001b[0;34m,\u001b[0m \u001b[0;34m:\u001b[0m\u001b[0;34m]\u001b[0m\u001b[0;34m\u001b[0m\u001b[0m\n\u001b[1;32m    445\u001b[0m \u001b[0;34m\u001b[0m\u001b[0m\n",
      "\u001b[0;32m/Library/Frameworks/EPD64.framework/Versions/7.3/lib/python2.7/site-packages/pyret-0.2-py2.7.egg/pyret/filtertools.pyc\u001b[0m in \u001b[0;36mlowranksta\u001b[0;34m(f_orig, k)\u001b[0m\n\u001b[1;32m    413\u001b[0m \u001b[0;34m\u001b[0m\u001b[0m\n\u001b[1;32m    414\u001b[0m     \u001b[0;31m# project onto the temporal filters and keep the sign\u001b[0m\u001b[0;34m\u001b[0m\u001b[0;34m\u001b[0m\u001b[0m\n\u001b[0;32m--> 415\u001b[0;31m     \u001b[0msigns\u001b[0m \u001b[0;34m=\u001b[0m \u001b[0mnp\u001b[0m\u001b[0;34m.\u001b[0m\u001b[0msign\u001b[0m\u001b[0;34m(\u001b[0m\u001b[0;34m(\u001b[0m\u001b[0mv\u001b[0m \u001b[0;34m-\u001b[0m \u001b[0mnp\u001b[0m\u001b[0;34m.\u001b[0m\u001b[0mmean\u001b[0m\u001b[0;34m(\u001b[0m\u001b[0mv\u001b[0m\u001b[0;34m,\u001b[0m \u001b[0maxis\u001b[0m\u001b[0;34m=\u001b[0m\u001b[0;36m1\u001b[0m\u001b[0;34m)\u001b[0m\u001b[0;34m)\u001b[0m\u001b[0;34m.\u001b[0m\u001b[0mdot\u001b[0m\u001b[0;34m(\u001b[0m\u001b[0mtsta\u001b[0m\u001b[0;34m)\u001b[0m\u001b[0;34m)\u001b[0m\u001b[0;34m\u001b[0m\u001b[0m\n\u001b[0m\u001b[1;32m    416\u001b[0m \u001b[0;34m\u001b[0m\u001b[0m\n\u001b[1;32m    417\u001b[0m     \u001b[0;31m# flip signs according to this projection\u001b[0m\u001b[0;34m\u001b[0m\u001b[0;34m\u001b[0m\u001b[0m\n",
      "\u001b[0;31mValueError\u001b[0m: operands could not be broadcast together with shapes (16,40) (16,) "
     ]
    }
   ],
   "source": [
    "yoda = W0[0]\n",
    "spaceblah, timeblah = ft.decompose(yoda.T)"
   ]
  },
  {
   "cell_type": "code",
   "execution_count": 21,
   "metadata": {
    "collapsed": false
   },
   "outputs": [
    {
     "data": {
      "text/plain": [
       "(40, 4)"
      ]
     },
     "execution_count": 21,
     "metadata": {},
     "output_type": "execute_result"
    }
   ],
   "source": [
    "spaceblah.shape"
   ]
  },
  {
   "cell_type": "code",
   "execution_count": 24,
   "metadata": {
    "collapsed": false
   },
   "outputs": [
    {
     "data": {
      "text/plain": [
       "(40, 4, 4)"
      ]
     },
     "execution_count": 24,
     "metadata": {},
     "output_type": "execute_result"
    }
   ],
   "source": [
    "yoda.shape"
   ]
  },
  {
   "cell_type": "code",
   "execution_count": 26,
   "metadata": {
    "collapsed": false
   },
   "outputs": [
    {
     "data": {
      "text/plain": [
       "(4, 4, 40)"
      ]
     },
     "execution_count": 26,
     "metadata": {},
     "output_type": "execute_result"
    }
   ],
   "source": [
    "yoda.T.shape"
   ]
  },
  {
   "cell_type": "code",
   "execution_count": 96,
   "metadata": {
    "collapsed": true
   },
   "outputs": [],
   "source": [
    "fake_sta = np.random.randn(7,7,40)"
   ]
  },
  {
   "cell_type": "code",
   "execution_count": 97,
   "metadata": {
    "collapsed": false
   },
   "outputs": [],
   "source": [
    "spaceblah, timeblah = ft.decompose(fake_sta)"
   ]
  },
  {
   "cell_type": "code",
   "execution_count": 98,
   "metadata": {
    "collapsed": false
   },
   "outputs": [
    {
     "data": {
      "text/plain": [
       "(7, 7)"
      ]
     },
     "execution_count": 98,
     "metadata": {},
     "output_type": "execute_result"
    }
   ],
   "source": [
    "spaceblah.shape"
   ]
  },
  {
   "cell_type": "code",
   "execution_count": 99,
   "metadata": {
    "collapsed": false
   },
   "outputs": [
    {
     "data": {
      "text/plain": [
       "(40,)"
      ]
     },
     "execution_count": 99,
     "metadata": {},
     "output_type": "execute_result"
    }
   ],
   "source": [
    "timeblah.shape"
   ]
  },
  {
   "cell_type": "markdown",
   "metadata": {},
   "source": [
    "# Replicate Aran's Code"
   ]
  },
  {
   "cell_type": "code",
   "execution_count": 65,
   "metadata": {
    "collapsed": false
   },
   "outputs": [],
   "source": [
    "from __future__ import absolute_import\n",
    "import numpy as np\n",
    "import pickle\n",
    "from scipy.io import loadmat\n",
    "import os.path as path\n",
    "import matplotlib\n",
    "import h5py\n",
    "#Force matplotlib to not use any Xwindows else will crash on Rye\n",
    "matplotlib.use('Agg')\n",
    "import matplotlib.pyplot as plt\n",
    "# from matplotlib.pyplot import *\n",
    "from scipy.optimize import curve_fit\n",
    "from scipy.stats import pearsonr\n",
    "# Keras imports\n",
    "from keras.preprocessing import sequence\n",
    "from keras.utils import np_utils\n",
    "from keras.models import Sequential\n",
    "from keras.callbacks import ModelCheckpoint, EarlyStopping\n",
    "from keras.layers.core import Dense, Dropout, Activation, TimeDistributedDense, Reshape, Permute\n",
    "from keras.layers.recurrent import LSTM, GRU, JZS1, JZS2, JZS3\n",
    "from keras.optimizers import SGD, RMSprop, Adagrad\n",
    "from keras.layers.embeddings import Embedding\n",
    "from keras.regularizers import l1, l2, activity_l1, activity_l2\n",
    "from keras.callbacks import Callback\n",
    "from keras.objectives import poisson_loss\n",
    "import theano\n",
    "import theano.tensor as T\n",
    "\n",
    "from keras.layers.core import Dense, Dropout, Activation, Flatten, TimeDistributedDense\n",
    "from keras.layers.convolutional import Convolution2D, MaxPooling2D"
   ]
  },
  {
   "cell_type": "markdown",
   "metadata": {},
   "source": [
    "Still had to modify to remove time distributed conv and pool layers"
   ]
  },
  {
   "cell_type": "code",
   "execution_count": 67,
   "metadata": {
    "collapsed": false
   },
   "outputs": [
    {
     "name": "stderr",
     "output_type": "stream",
     "text": [
      "WARNING (theano.sandbox.cuda.opt): Optimization Warning: Got the following error, but you can ignore it. This could cause less GpuElemwise fused together.\n",
      "(4, -538971137)\n",
      "WARNING:theano.sandbox.cuda.opt:Optimization Warning: Got the following error, but you can ignore it. This could cause less GpuElemwise fused together.\n",
      "(4, -538971137)\n",
      "ERROR (theano.gof.opt): Optimization failure due to: constant_folding\n",
      "ERROR:theano.gof.opt:Optimization failure due to: constant_folding\n",
      "ERROR (theano.gof.opt): TRACEBACK:\n",
      "ERROR:theano.gof.opt:TRACEBACK:\n",
      "ERROR (theano.gof.opt): Traceback (most recent call last):\n",
      "  File \"/Library/Frameworks/EPD64.framework/Versions/7.3/lib/python2.7/site-packages/theano/gof/opt.py\", line 1493, in process_node\n",
      "    replacements = lopt.transform(node)\n",
      "  File \"/Library/Frameworks/EPD64.framework/Versions/7.3/lib/python2.7/site-packages/theano/tensor/opt.py\", line 4686, in constant_folding\n",
      "    required = thunk()\n",
      "  File \"/Library/Frameworks/EPD64.framework/Versions/7.3/lib/python2.7/site-packages/theano/gof/op.py\", line 743, in rval\n",
      "    fill_storage()\n",
      "  File \"/Library/Frameworks/EPD64.framework/Versions/7.3/lib/python2.7/site-packages/theano/gof/cc.py\", line 1546, in __call__\n",
      "    raise exc_type, exc_value, exc_trace\n",
      "MemoryError: Error allocating 4 bytes of device memory (unspecified launch failure).\n",
      "\n",
      "ERROR:theano.gof.opt:Traceback (most recent call last):\n",
      "  File \"/Library/Frameworks/EPD64.framework/Versions/7.3/lib/python2.7/site-packages/theano/gof/opt.py\", line 1493, in process_node\n",
      "    replacements = lopt.transform(node)\n",
      "  File \"/Library/Frameworks/EPD64.framework/Versions/7.3/lib/python2.7/site-packages/theano/tensor/opt.py\", line 4686, in constant_folding\n",
      "    required = thunk()\n",
      "  File \"/Library/Frameworks/EPD64.framework/Versions/7.3/lib/python2.7/site-packages/theano/gof/op.py\", line 743, in rval\n",
      "    fill_storage()\n",
      "  File \"/Library/Frameworks/EPD64.framework/Versions/7.3/lib/python2.7/site-packages/theano/gof/cc.py\", line 1546, in __call__\n",
      "    raise exc_type, exc_value, exc_trace\n",
      "MemoryError: Error allocating 4 bytes of device memory (unspecified launch failure).\n",
      "\n",
      "ERROR (theano.gof.opt): Optimization failure due to: constant_folding\n",
      "ERROR:theano.gof.opt:Optimization failure due to: constant_folding\n",
      "ERROR (theano.gof.opt): TRACEBACK:\n",
      "ERROR:theano.gof.opt:TRACEBACK:\n",
      "ERROR (theano.gof.opt): Traceback (most recent call last):\n",
      "  File \"/Library/Frameworks/EPD64.framework/Versions/7.3/lib/python2.7/site-packages/theano/gof/opt.py\", line 1493, in process_node\n",
      "    replacements = lopt.transform(node)\n",
      "  File \"/Library/Frameworks/EPD64.framework/Versions/7.3/lib/python2.7/site-packages/theano/tensor/opt.py\", line 4686, in constant_folding\n",
      "    required = thunk()\n",
      "  File \"/Library/Frameworks/EPD64.framework/Versions/7.3/lib/python2.7/site-packages/theano/gof/op.py\", line 743, in rval\n",
      "    fill_storage()\n",
      "  File \"/Library/Frameworks/EPD64.framework/Versions/7.3/lib/python2.7/site-packages/theano/gof/cc.py\", line 1546, in __call__\n",
      "    raise exc_type, exc_value, exc_trace\n",
      "MemoryError: Error allocating 4 bytes of device memory (unspecified launch failure).\n",
      "\n",
      "ERROR:theano.gof.opt:Traceback (most recent call last):\n",
      "  File \"/Library/Frameworks/EPD64.framework/Versions/7.3/lib/python2.7/site-packages/theano/gof/opt.py\", line 1493, in process_node\n",
      "    replacements = lopt.transform(node)\n",
      "  File \"/Library/Frameworks/EPD64.framework/Versions/7.3/lib/python2.7/site-packages/theano/tensor/opt.py\", line 4686, in constant_folding\n",
      "    required = thunk()\n",
      "  File \"/Library/Frameworks/EPD64.framework/Versions/7.3/lib/python2.7/site-packages/theano/gof/op.py\", line 743, in rval\n",
      "    fill_storage()\n",
      "  File \"/Library/Frameworks/EPD64.framework/Versions/7.3/lib/python2.7/site-packages/theano/gof/cc.py\", line 1546, in __call__\n",
      "    raise exc_type, exc_value, exc_trace\n",
      "MemoryError: Error allocating 4 bytes of device memory (unspecified launch failure).\n",
      "\n",
      "ERROR (theano.gof.opt): Optimization failure due to: constant_folding\n",
      "ERROR:theano.gof.opt:Optimization failure due to: constant_folding\n",
      "ERROR (theano.gof.opt): TRACEBACK:\n",
      "ERROR:theano.gof.opt:TRACEBACK:\n",
      "ERROR (theano.gof.opt): Traceback (most recent call last):\n",
      "  File \"/Library/Frameworks/EPD64.framework/Versions/7.3/lib/python2.7/site-packages/theano/gof/opt.py\", line 1493, in process_node\n",
      "    replacements = lopt.transform(node)\n",
      "  File \"/Library/Frameworks/EPD64.framework/Versions/7.3/lib/python2.7/site-packages/theano/tensor/opt.py\", line 4686, in constant_folding\n",
      "    required = thunk()\n",
      "  File \"/Library/Frameworks/EPD64.framework/Versions/7.3/lib/python2.7/site-packages/theano/gof/op.py\", line 743, in rval\n",
      "    fill_storage()\n",
      "  File \"/Library/Frameworks/EPD64.framework/Versions/7.3/lib/python2.7/site-packages/theano/gof/cc.py\", line 1546, in __call__\n",
      "    raise exc_type, exc_value, exc_trace\n",
      "MemoryError: Error allocating 4 bytes of device memory (unspecified launch failure).\n",
      "\n",
      "ERROR:theano.gof.opt:Traceback (most recent call last):\n",
      "  File \"/Library/Frameworks/EPD64.framework/Versions/7.3/lib/python2.7/site-packages/theano/gof/opt.py\", line 1493, in process_node\n",
      "    replacements = lopt.transform(node)\n",
      "  File \"/Library/Frameworks/EPD64.framework/Versions/7.3/lib/python2.7/site-packages/theano/tensor/opt.py\", line 4686, in constant_folding\n",
      "    required = thunk()\n",
      "  File \"/Library/Frameworks/EPD64.framework/Versions/7.3/lib/python2.7/site-packages/theano/gof/op.py\", line 743, in rval\n",
      "    fill_storage()\n",
      "  File \"/Library/Frameworks/EPD64.framework/Versions/7.3/lib/python2.7/site-packages/theano/gof/cc.py\", line 1546, in __call__\n",
      "    raise exc_type, exc_value, exc_trace\n",
      "MemoryError: Error allocating 4 bytes of device memory (unspecified launch failure).\n",
      "\n",
      "ERROR (theano.gof.opt): Optimization failure due to: constant_folding\n",
      "ERROR:theano.gof.opt:Optimization failure due to: constant_folding\n",
      "ERROR (theano.gof.opt): TRACEBACK:\n",
      "ERROR:theano.gof.opt:TRACEBACK:\n",
      "ERROR (theano.gof.opt): Traceback (most recent call last):\n",
      "  File \"/Library/Frameworks/EPD64.framework/Versions/7.3/lib/python2.7/site-packages/theano/gof/opt.py\", line 1493, in process_node\n",
      "    replacements = lopt.transform(node)\n",
      "  File \"/Library/Frameworks/EPD64.framework/Versions/7.3/lib/python2.7/site-packages/theano/tensor/opt.py\", line 4686, in constant_folding\n",
      "    required = thunk()\n",
      "  File \"/Library/Frameworks/EPD64.framework/Versions/7.3/lib/python2.7/site-packages/theano/gof/op.py\", line 743, in rval\n",
      "    fill_storage()\n",
      "  File \"/Library/Frameworks/EPD64.framework/Versions/7.3/lib/python2.7/site-packages/theano/gof/cc.py\", line 1546, in __call__\n",
      "    raise exc_type, exc_value, exc_trace\n",
      "MemoryError: Error allocating 4 bytes of device memory (unspecified launch failure).\n",
      "\n",
      "ERROR:theano.gof.opt:Traceback (most recent call last):\n",
      "  File \"/Library/Frameworks/EPD64.framework/Versions/7.3/lib/python2.7/site-packages/theano/gof/opt.py\", line 1493, in process_node\n",
      "    replacements = lopt.transform(node)\n",
      "  File \"/Library/Frameworks/EPD64.framework/Versions/7.3/lib/python2.7/site-packages/theano/tensor/opt.py\", line 4686, in constant_folding\n",
      "    required = thunk()\n",
      "  File \"/Library/Frameworks/EPD64.framework/Versions/7.3/lib/python2.7/site-packages/theano/gof/op.py\", line 743, in rval\n",
      "    fill_storage()\n",
      "  File \"/Library/Frameworks/EPD64.framework/Versions/7.3/lib/python2.7/site-packages/theano/gof/cc.py\", line 1546, in __call__\n",
      "    raise exc_type, exc_value, exc_trace\n",
      "MemoryError: Error allocating 4 bytes of device memory (unspecified launch failure).\n",
      "\n",
      "ERROR (theano.gof.opt): Optimization failure due to: constant_folding\n",
      "ERROR:theano.gof.opt:Optimization failure due to: constant_folding\n",
      "ERROR (theano.gof.opt): TRACEBACK:\n",
      "ERROR:theano.gof.opt:TRACEBACK:\n",
      "ERROR (theano.gof.opt): Traceback (most recent call last):\n",
      "  File \"/Library/Frameworks/EPD64.framework/Versions/7.3/lib/python2.7/site-packages/theano/gof/opt.py\", line 1493, in process_node\n",
      "    replacements = lopt.transform(node)\n",
      "  File \"/Library/Frameworks/EPD64.framework/Versions/7.3/lib/python2.7/site-packages/theano/tensor/opt.py\", line 4686, in constant_folding\n",
      "    required = thunk()\n",
      "  File \"/Library/Frameworks/EPD64.framework/Versions/7.3/lib/python2.7/site-packages/theano/gof/op.py\", line 743, in rval\n",
      "    fill_storage()\n",
      "  File \"/Library/Frameworks/EPD64.framework/Versions/7.3/lib/python2.7/site-packages/theano/gof/cc.py\", line 1546, in __call__\n",
      "    raise exc_type, exc_value, exc_trace\n",
      "MemoryError: Error allocating 4 bytes of device memory (unspecified launch failure).\n",
      "\n",
      "ERROR:theano.gof.opt:Traceback (most recent call last):\n",
      "  File \"/Library/Frameworks/EPD64.framework/Versions/7.3/lib/python2.7/site-packages/theano/gof/opt.py\", line 1493, in process_node\n",
      "    replacements = lopt.transform(node)\n",
      "  File \"/Library/Frameworks/EPD64.framework/Versions/7.3/lib/python2.7/site-packages/theano/tensor/opt.py\", line 4686, in constant_folding\n",
      "    required = thunk()\n",
      "  File \"/Library/Frameworks/EPD64.framework/Versions/7.3/lib/python2.7/site-packages/theano/gof/op.py\", line 743, in rval\n",
      "    fill_storage()\n",
      "  File \"/Library/Frameworks/EPD64.framework/Versions/7.3/lib/python2.7/site-packages/theano/gof/cc.py\", line 1546, in __call__\n",
      "    raise exc_type, exc_value, exc_trace\n",
      "MemoryError: Error allocating 4 bytes of device memory (unspecified launch failure).\n",
      "\n",
      "ERROR (theano.gof.opt): Optimization failure due to: constant_folding\n",
      "ERROR:theano.gof.opt:Optimization failure due to: constant_folding\n",
      "ERROR (theano.gof.opt): TRACEBACK:\n",
      "ERROR:theano.gof.opt:TRACEBACK:\n",
      "ERROR (theano.gof.opt): Traceback (most recent call last):\n",
      "  File \"/Library/Frameworks/EPD64.framework/Versions/7.3/lib/python2.7/site-packages/theano/gof/opt.py\", line 1493, in process_node\n",
      "    replacements = lopt.transform(node)\n",
      "  File \"/Library/Frameworks/EPD64.framework/Versions/7.3/lib/python2.7/site-packages/theano/tensor/opt.py\", line 4686, in constant_folding\n",
      "    required = thunk()\n",
      "  File \"/Library/Frameworks/EPD64.framework/Versions/7.3/lib/python2.7/site-packages/theano/gof/op.py\", line 743, in rval\n",
      "    fill_storage()\n",
      "  File \"/Library/Frameworks/EPD64.framework/Versions/7.3/lib/python2.7/site-packages/theano/gof/cc.py\", line 1546, in __call__\n",
      "    raise exc_type, exc_value, exc_trace\n",
      "MemoryError: Error allocating 4 bytes of device memory (unspecified launch failure).\n",
      "\n",
      "ERROR:theano.gof.opt:Traceback (most recent call last):\n",
      "  File \"/Library/Frameworks/EPD64.framework/Versions/7.3/lib/python2.7/site-packages/theano/gof/opt.py\", line 1493, in process_node\n",
      "    replacements = lopt.transform(node)\n",
      "  File \"/Library/Frameworks/EPD64.framework/Versions/7.3/lib/python2.7/site-packages/theano/tensor/opt.py\", line 4686, in constant_folding\n",
      "    required = thunk()\n",
      "  File \"/Library/Frameworks/EPD64.framework/Versions/7.3/lib/python2.7/site-packages/theano/gof/op.py\", line 743, in rval\n",
      "    fill_storage()\n",
      "  File \"/Library/Frameworks/EPD64.framework/Versions/7.3/lib/python2.7/site-packages/theano/gof/cc.py\", line 1546, in __call__\n",
      "    raise exc_type, exc_value, exc_trace\n",
      "MemoryError: Error allocating 4 bytes of device memory (unspecified launch failure).\n",
      "\n",
      "ERROR (theano.gof.opt): Optimization failure due to: constant_folding\n",
      "ERROR:theano.gof.opt:Optimization failure due to: constant_folding\n",
      "ERROR (theano.gof.opt): TRACEBACK:\n",
      "ERROR:theano.gof.opt:TRACEBACK:\n",
      "ERROR (theano.gof.opt): Traceback (most recent call last):\n",
      "  File \"/Library/Frameworks/EPD64.framework/Versions/7.3/lib/python2.7/site-packages/theano/gof/opt.py\", line 1493, in process_node\n",
      "    replacements = lopt.transform(node)\n",
      "  File \"/Library/Frameworks/EPD64.framework/Versions/7.3/lib/python2.7/site-packages/theano/tensor/opt.py\", line 4686, in constant_folding\n",
      "    required = thunk()\n",
      "  File \"/Library/Frameworks/EPD64.framework/Versions/7.3/lib/python2.7/site-packages/theano/gof/op.py\", line 743, in rval\n",
      "    fill_storage()\n",
      "  File \"/Library/Frameworks/EPD64.framework/Versions/7.3/lib/python2.7/site-packages/theano/gof/cc.py\", line 1546, in __call__\n",
      "    raise exc_type, exc_value, exc_trace\n",
      "MemoryError: Error allocating 4 bytes of device memory (unspecified launch failure).\n",
      "\n",
      "ERROR:theano.gof.opt:Traceback (most recent call last):\n",
      "  File \"/Library/Frameworks/EPD64.framework/Versions/7.3/lib/python2.7/site-packages/theano/gof/opt.py\", line 1493, in process_node\n",
      "    replacements = lopt.transform(node)\n",
      "  File \"/Library/Frameworks/EPD64.framework/Versions/7.3/lib/python2.7/site-packages/theano/tensor/opt.py\", line 4686, in constant_folding\n",
      "    required = thunk()\n",
      "  File \"/Library/Frameworks/EPD64.framework/Versions/7.3/lib/python2.7/site-packages/theano/gof/op.py\", line 743, in rval\n",
      "    fill_storage()\n",
      "  File \"/Library/Frameworks/EPD64.framework/Versions/7.3/lib/python2.7/site-packages/theano/gof/cc.py\", line 1546, in __call__\n",
      "    raise exc_type, exc_value, exc_trace\n",
      "MemoryError: Error allocating 4 bytes of device memory (unspecified launch failure).\n",
      "\n",
      "ERROR (theano.gof.opt): Optimization failure due to: constant_folding\n",
      "ERROR:theano.gof.opt:Optimization failure due to: constant_folding\n",
      "ERROR (theano.gof.opt): TRACEBACK:\n",
      "ERROR:theano.gof.opt:TRACEBACK:\n",
      "ERROR (theano.gof.opt): Traceback (most recent call last):\n",
      "  File \"/Library/Frameworks/EPD64.framework/Versions/7.3/lib/python2.7/site-packages/theano/gof/opt.py\", line 1493, in process_node\n",
      "    replacements = lopt.transform(node)\n",
      "  File \"/Library/Frameworks/EPD64.framework/Versions/7.3/lib/python2.7/site-packages/theano/tensor/opt.py\", line 4686, in constant_folding\n",
      "    required = thunk()\n",
      "  File \"/Library/Frameworks/EPD64.framework/Versions/7.3/lib/python2.7/site-packages/theano/gof/op.py\", line 743, in rval\n",
      "    fill_storage()\n",
      "  File \"/Library/Frameworks/EPD64.framework/Versions/7.3/lib/python2.7/site-packages/theano/gof/cc.py\", line 1546, in __call__\n",
      "    raise exc_type, exc_value, exc_trace\n",
      "MemoryError: Error allocating 4 bytes of device memory (unspecified launch failure).\n",
      "\n",
      "ERROR:theano.gof.opt:Traceback (most recent call last):\n",
      "  File \"/Library/Frameworks/EPD64.framework/Versions/7.3/lib/python2.7/site-packages/theano/gof/opt.py\", line 1493, in process_node\n",
      "    replacements = lopt.transform(node)\n",
      "  File \"/Library/Frameworks/EPD64.framework/Versions/7.3/lib/python2.7/site-packages/theano/tensor/opt.py\", line 4686, in constant_folding\n",
      "    required = thunk()\n",
      "  File \"/Library/Frameworks/EPD64.framework/Versions/7.3/lib/python2.7/site-packages/theano/gof/op.py\", line 743, in rval\n",
      "    fill_storage()\n",
      "  File \"/Library/Frameworks/EPD64.framework/Versions/7.3/lib/python2.7/site-packages/theano/gof/cc.py\", line 1546, in __call__\n",
      "    raise exc_type, exc_value, exc_trace\n",
      "MemoryError: Error allocating 4 bytes of device memory (unspecified launch failure).\n",
      "\n",
      "ERROR (theano.gof.opt): Optimization failure due to: constant_folding\n",
      "ERROR:theano.gof.opt:Optimization failure due to: constant_folding\n",
      "ERROR (theano.gof.opt): TRACEBACK:\n",
      "ERROR:theano.gof.opt:TRACEBACK:\n",
      "ERROR (theano.gof.opt): Traceback (most recent call last):\n",
      "  File \"/Library/Frameworks/EPD64.framework/Versions/7.3/lib/python2.7/site-packages/theano/gof/opt.py\", line 1493, in process_node\n",
      "    replacements = lopt.transform(node)\n",
      "  File \"/Library/Frameworks/EPD64.framework/Versions/7.3/lib/python2.7/site-packages/theano/tensor/opt.py\", line 4686, in constant_folding\n",
      "    required = thunk()\n",
      "  File \"/Library/Frameworks/EPD64.framework/Versions/7.3/lib/python2.7/site-packages/theano/gof/op.py\", line 743, in rval\n",
      "    fill_storage()\n",
      "  File \"/Library/Frameworks/EPD64.framework/Versions/7.3/lib/python2.7/site-packages/theano/gof/cc.py\", line 1546, in __call__\n",
      "    raise exc_type, exc_value, exc_trace\n",
      "MemoryError: Error allocating 4 bytes of device memory (unspecified launch failure).\n",
      "\n",
      "ERROR:theano.gof.opt:Traceback (most recent call last):\n",
      "  File \"/Library/Frameworks/EPD64.framework/Versions/7.3/lib/python2.7/site-packages/theano/gof/opt.py\", line 1493, in process_node\n",
      "    replacements = lopt.transform(node)\n",
      "  File \"/Library/Frameworks/EPD64.framework/Versions/7.3/lib/python2.7/site-packages/theano/tensor/opt.py\", line 4686, in constant_folding\n",
      "    required = thunk()\n",
      "  File \"/Library/Frameworks/EPD64.framework/Versions/7.3/lib/python2.7/site-packages/theano/gof/op.py\", line 743, in rval\n",
      "    fill_storage()\n",
      "  File \"/Library/Frameworks/EPD64.framework/Versions/7.3/lib/python2.7/site-packages/theano/gof/cc.py\", line 1546, in __call__\n",
      "    raise exc_type, exc_value, exc_trace\n",
      "MemoryError: Error allocating 4 bytes of device memory (unspecified launch failure).\n",
      "\n",
      "ERROR (theano.gof.opt): Optimization failure due to: constant_folding\n",
      "ERROR:theano.gof.opt:Optimization failure due to: constant_folding\n",
      "ERROR (theano.gof.opt): TRACEBACK:\n",
      "ERROR:theano.gof.opt:TRACEBACK:\n",
      "ERROR (theano.gof.opt): Traceback (most recent call last):\n",
      "  File \"/Library/Frameworks/EPD64.framework/Versions/7.3/lib/python2.7/site-packages/theano/gof/opt.py\", line 1493, in process_node\n",
      "    replacements = lopt.transform(node)\n",
      "  File \"/Library/Frameworks/EPD64.framework/Versions/7.3/lib/python2.7/site-packages/theano/tensor/opt.py\", line 4686, in constant_folding\n",
      "    required = thunk()\n",
      "  File \"/Library/Frameworks/EPD64.framework/Versions/7.3/lib/python2.7/site-packages/theano/gof/op.py\", line 743, in rval\n",
      "    fill_storage()\n",
      "  File \"/Library/Frameworks/EPD64.framework/Versions/7.3/lib/python2.7/site-packages/theano/gof/cc.py\", line 1546, in __call__\n",
      "    raise exc_type, exc_value, exc_trace\n",
      "MemoryError: Error allocating 4 bytes of device memory (unspecified launch failure).\n",
      "\n",
      "ERROR:theano.gof.opt:Traceback (most recent call last):\n",
      "  File \"/Library/Frameworks/EPD64.framework/Versions/7.3/lib/python2.7/site-packages/theano/gof/opt.py\", line 1493, in process_node\n",
      "    replacements = lopt.transform(node)\n",
      "  File \"/Library/Frameworks/EPD64.framework/Versions/7.3/lib/python2.7/site-packages/theano/tensor/opt.py\", line 4686, in constant_folding\n",
      "    required = thunk()\n",
      "  File \"/Library/Frameworks/EPD64.framework/Versions/7.3/lib/python2.7/site-packages/theano/gof/op.py\", line 743, in rval\n",
      "    fill_storage()\n",
      "  File \"/Library/Frameworks/EPD64.framework/Versions/7.3/lib/python2.7/site-packages/theano/gof/cc.py\", line 1546, in __call__\n",
      "    raise exc_type, exc_value, exc_trace\n",
      "MemoryError: Error allocating 4 bytes of device memory (unspecified launch failure).\n",
      "\n",
      "ERROR (theano.gof.opt): Optimization failure due to: constant_folding\n",
      "ERROR:theano.gof.opt:Optimization failure due to: constant_folding\n",
      "ERROR (theano.gof.opt): TRACEBACK:\n",
      "ERROR:theano.gof.opt:TRACEBACK:\n",
      "ERROR (theano.gof.opt): Traceback (most recent call last):\n",
      "  File \"/Library/Frameworks/EPD64.framework/Versions/7.3/lib/python2.7/site-packages/theano/gof/opt.py\", line 1493, in process_node\n",
      "    replacements = lopt.transform(node)\n",
      "  File \"/Library/Frameworks/EPD64.framework/Versions/7.3/lib/python2.7/site-packages/theano/tensor/opt.py\", line 4686, in constant_folding\n",
      "    required = thunk()\n",
      "  File \"/Library/Frameworks/EPD64.framework/Versions/7.3/lib/python2.7/site-packages/theano/gof/op.py\", line 743, in rval\n",
      "    fill_storage()\n",
      "  File \"/Library/Frameworks/EPD64.framework/Versions/7.3/lib/python2.7/site-packages/theano/gof/cc.py\", line 1546, in __call__\n",
      "    raise exc_type, exc_value, exc_trace\n",
      "MemoryError: Error allocating 4 bytes of device memory (unspecified launch failure).\n",
      "\n",
      "ERROR:theano.gof.opt:Traceback (most recent call last):\n",
      "  File \"/Library/Frameworks/EPD64.framework/Versions/7.3/lib/python2.7/site-packages/theano/gof/opt.py\", line 1493, in process_node\n",
      "    replacements = lopt.transform(node)\n",
      "  File \"/Library/Frameworks/EPD64.framework/Versions/7.3/lib/python2.7/site-packages/theano/tensor/opt.py\", line 4686, in constant_folding\n",
      "    required = thunk()\n",
      "  File \"/Library/Frameworks/EPD64.framework/Versions/7.3/lib/python2.7/site-packages/theano/gof/op.py\", line 743, in rval\n",
      "    fill_storage()\n",
      "  File \"/Library/Frameworks/EPD64.framework/Versions/7.3/lib/python2.7/site-packages/theano/gof/cc.py\", line 1546, in __call__\n",
      "    raise exc_type, exc_value, exc_trace\n",
      "MemoryError: Error allocating 4 bytes of device memory (unspecified launch failure).\n",
      "\n",
      "ERROR (theano.gof.opt): Optimization failure due to: constant_folding\n",
      "ERROR:theano.gof.opt:Optimization failure due to: constant_folding\n",
      "ERROR (theano.gof.opt): TRACEBACK:\n",
      "ERROR:theano.gof.opt:TRACEBACK:\n",
      "ERROR (theano.gof.opt): Traceback (most recent call last):\n",
      "  File \"/Library/Frameworks/EPD64.framework/Versions/7.3/lib/python2.7/site-packages/theano/gof/opt.py\", line 1493, in process_node\n",
      "    replacements = lopt.transform(node)\n",
      "  File \"/Library/Frameworks/EPD64.framework/Versions/7.3/lib/python2.7/site-packages/theano/tensor/opt.py\", line 4686, in constant_folding\n",
      "    required = thunk()\n",
      "  File \"/Library/Frameworks/EPD64.framework/Versions/7.3/lib/python2.7/site-packages/theano/gof/op.py\", line 743, in rval\n",
      "    fill_storage()\n",
      "  File \"/Library/Frameworks/EPD64.framework/Versions/7.3/lib/python2.7/site-packages/theano/gof/cc.py\", line 1546, in __call__\n",
      "    raise exc_type, exc_value, exc_trace\n",
      "MemoryError: Error allocating 4 bytes of device memory (unspecified launch failure).\n",
      "\n",
      "ERROR:theano.gof.opt:Traceback (most recent call last):\n",
      "  File \"/Library/Frameworks/EPD64.framework/Versions/7.3/lib/python2.7/site-packages/theano/gof/opt.py\", line 1493, in process_node\n",
      "    replacements = lopt.transform(node)\n",
      "  File \"/Library/Frameworks/EPD64.framework/Versions/7.3/lib/python2.7/site-packages/theano/tensor/opt.py\", line 4686, in constant_folding\n",
      "    required = thunk()\n",
      "  File \"/Library/Frameworks/EPD64.framework/Versions/7.3/lib/python2.7/site-packages/theano/gof/op.py\", line 743, in rval\n",
      "    fill_storage()\n",
      "  File \"/Library/Frameworks/EPD64.framework/Versions/7.3/lib/python2.7/site-packages/theano/gof/cc.py\", line 1546, in __call__\n",
      "    raise exc_type, exc_value, exc_trace\n",
      "MemoryError: Error allocating 4 bytes of device memory (unspecified launch failure).\n",
      "\n"
     ]
    }
   ],
   "source": [
    "init_method='normal'\n",
    "\n",
    "model = Sequential()\n",
    "reg = 0.0 #could try 0.01\n",
    "\n",
    "model.add(Convolution2D(16, 40, 9, 9, init=init_method, border_mode='full', subsample=(1,1), W_regularizer=l1(reg))) \n",
    "model.add(Activation('relu'))\n",
    "\n",
    "model.add(MaxPooling2D(poolsize=(2, 2), ignore_border=True))\n",
    "\n",
    "model.add(Flatten())\n",
    "model.add(Dense(13456, 32, init=init_method, W_regularizer=l1(reg)))\n",
    "model.add(Activation('relu'))\n",
    "model.add(Dense(32, 1, init=init_method, activation='softplus', W_regularizer=l1(reg)))\n",
    "model.compile(loss='poisson_loss', optimizer='rmsprop')"
   ]
  },
  {
   "cell_type": "code",
   "execution_count": 69,
   "metadata": {
    "collapsed": false
   },
   "outputs": [
    {
     "ename": "ValueError",
     "evalue": "DeepCopyOp: the copy failed!\nApply node that caused the error: DeepCopyOp(<CudaNdarrayType(float32, 4D)>)\nInputs types: [CudaNdarrayType(float32, 4D)]\nInputs shapes: [(16, 40, 9, 9)]\nInputs strides: [(3240, 81, 9, 1)]\nInputs values: ['not shown']\n\nDebugprint of the apply node: \nDeepCopyOp [@A] <CudaNdarrayType(float32, 4D)> ''   \n |<CudaNdarrayType(float32, 4D)> [@B] <CudaNdarrayType(float32, 4D)>\n\nStorage map footprint:\n - <CudaNdarrayType(float32, 4D)>, Shape: (16, 40, 9, 9), ElemSize: 4 Byte(s), TotalSize: 207360 Byte(s)\n\nHINT: Re-running with most Theano optimization disabled could give you a back-trace of when this node was created. This can be done with by setting the Theano flag 'optimizer=fast_compile'. If that does not work, Theano optimizations can be disabled with 'optimizer=None'.",
     "output_type": "error",
     "traceback": [
      "\u001b[0;31m---------------------------------------------------------------------------\u001b[0m",
      "\u001b[0;31mValueError\u001b[0m                                Traceback (most recent call last)",
      "\u001b[0;32m<ipython-input-69-505aced39167>\u001b[0m in \u001b[0;36m<module>\u001b[0;34m()\u001b[0m\n\u001b[0;32m----> 1\u001b[0;31m \u001b[0mmodel\u001b[0m\u001b[0;34m.\u001b[0m\u001b[0mload_weights\u001b[0m\u001b[0;34m(\u001b[0m\u001b[0mweights_dir\u001b[0m\u001b[0;34m)\u001b[0m\u001b[0;34m\u001b[0m\u001b[0m\n\u001b[0m",
      "\u001b[0;32m/Library/Frameworks/EPD64.framework/Versions/7.3/lib/python2.7/site-packages/Keras-0.1.2-py2.7.egg/keras/models.pyc\u001b[0m in \u001b[0;36mload_weights\u001b[0;34m(self, filepath)\u001b[0m\n\u001b[1;32m    563\u001b[0m             \u001b[0mg\u001b[0m \u001b[0;34m=\u001b[0m \u001b[0mf\u001b[0m\u001b[0;34m[\u001b[0m\u001b[0;34m'layer_{}'\u001b[0m\u001b[0;34m.\u001b[0m\u001b[0mformat\u001b[0m\u001b[0;34m(\u001b[0m\u001b[0mk\u001b[0m\u001b[0;34m)\u001b[0m\u001b[0;34m]\u001b[0m\u001b[0;34m\u001b[0m\u001b[0m\n\u001b[1;32m    564\u001b[0m             \u001b[0mweights\u001b[0m \u001b[0;34m=\u001b[0m \u001b[0;34m[\u001b[0m\u001b[0mg\u001b[0m\u001b[0;34m[\u001b[0m\u001b[0;34m'param_{}'\u001b[0m\u001b[0;34m.\u001b[0m\u001b[0mformat\u001b[0m\u001b[0;34m(\u001b[0m\u001b[0mp\u001b[0m\u001b[0;34m)\u001b[0m\u001b[0;34m]\u001b[0m \u001b[0;32mfor\u001b[0m \u001b[0mp\u001b[0m \u001b[0;32min\u001b[0m \u001b[0mrange\u001b[0m\u001b[0;34m(\u001b[0m\u001b[0mg\u001b[0m\u001b[0;34m.\u001b[0m\u001b[0mattrs\u001b[0m\u001b[0;34m[\u001b[0m\u001b[0;34m'nb_params'\u001b[0m\u001b[0;34m]\u001b[0m\u001b[0;34m)\u001b[0m\u001b[0;34m]\u001b[0m\u001b[0;34m\u001b[0m\u001b[0m\n\u001b[0;32m--> 565\u001b[0;31m             \u001b[0mself\u001b[0m\u001b[0;34m.\u001b[0m\u001b[0mlayers\u001b[0m\u001b[0;34m[\u001b[0m\u001b[0mk\u001b[0m\u001b[0;34m]\u001b[0m\u001b[0;34m.\u001b[0m\u001b[0mset_weights\u001b[0m\u001b[0;34m(\u001b[0m\u001b[0mweights\u001b[0m\u001b[0;34m)\u001b[0m\u001b[0;34m\u001b[0m\u001b[0m\n\u001b[0m\u001b[1;32m    566\u001b[0m         \u001b[0mf\u001b[0m\u001b[0;34m.\u001b[0m\u001b[0mclose\u001b[0m\u001b[0;34m(\u001b[0m\u001b[0;34m)\u001b[0m\u001b[0;34m\u001b[0m\u001b[0m\n\u001b[1;32m    567\u001b[0m \u001b[0;34m\u001b[0m\u001b[0m\n",
      "\u001b[0;32m/Library/Frameworks/EPD64.framework/Versions/7.3/lib/python2.7/site-packages/Keras-0.1.2-py2.7.egg/keras/layers/core.pyc\u001b[0m in \u001b[0;36mset_weights\u001b[0;34m(self, weights)\u001b[0m\n\u001b[1;32m     71\u001b[0m     \u001b[0;32mdef\u001b[0m \u001b[0mset_weights\u001b[0m\u001b[0;34m(\u001b[0m\u001b[0mself\u001b[0m\u001b[0;34m,\u001b[0m \u001b[0mweights\u001b[0m\u001b[0;34m)\u001b[0m\u001b[0;34m:\u001b[0m\u001b[0;34m\u001b[0m\u001b[0m\n\u001b[1;32m     72\u001b[0m         \u001b[0;32mfor\u001b[0m \u001b[0mp\u001b[0m\u001b[0;34m,\u001b[0m \u001b[0mw\u001b[0m \u001b[0;32min\u001b[0m \u001b[0mzip\u001b[0m\u001b[0;34m(\u001b[0m\u001b[0mself\u001b[0m\u001b[0;34m.\u001b[0m\u001b[0mparams\u001b[0m\u001b[0;34m,\u001b[0m \u001b[0mweights\u001b[0m\u001b[0;34m)\u001b[0m\u001b[0;34m:\u001b[0m\u001b[0;34m\u001b[0m\u001b[0m\n\u001b[0;32m---> 73\u001b[0;31m             \u001b[0;32mif\u001b[0m \u001b[0mp\u001b[0m\u001b[0;34m.\u001b[0m\u001b[0meval\u001b[0m\u001b[0;34m(\u001b[0m\u001b[0;34m)\u001b[0m\u001b[0;34m.\u001b[0m\u001b[0mshape\u001b[0m \u001b[0;34m!=\u001b[0m \u001b[0mw\u001b[0m\u001b[0;34m.\u001b[0m\u001b[0mshape\u001b[0m\u001b[0;34m:\u001b[0m\u001b[0;34m\u001b[0m\u001b[0m\n\u001b[0m\u001b[1;32m     74\u001b[0m                 \u001b[0;32mraise\u001b[0m \u001b[0mException\u001b[0m\u001b[0;34m(\u001b[0m\u001b[0;34m\"Layer shape %s not compatible with weight shape %s.\"\u001b[0m \u001b[0;34m%\u001b[0m \u001b[0;34m(\u001b[0m\u001b[0mp\u001b[0m\u001b[0;34m.\u001b[0m\u001b[0meval\u001b[0m\u001b[0;34m(\u001b[0m\u001b[0;34m)\u001b[0m\u001b[0;34m.\u001b[0m\u001b[0mshape\u001b[0m\u001b[0;34m,\u001b[0m \u001b[0mw\u001b[0m\u001b[0;34m.\u001b[0m\u001b[0mshape\u001b[0m\u001b[0;34m)\u001b[0m\u001b[0;34m)\u001b[0m\u001b[0;34m\u001b[0m\u001b[0m\n\u001b[1;32m     75\u001b[0m             \u001b[0mp\u001b[0m\u001b[0;34m.\u001b[0m\u001b[0mset_value\u001b[0m\u001b[0;34m(\u001b[0m\u001b[0mfloatX\u001b[0m\u001b[0;34m(\u001b[0m\u001b[0mw\u001b[0m\u001b[0;34m)\u001b[0m\u001b[0;34m)\u001b[0m\u001b[0;34m\u001b[0m\u001b[0m\n",
      "\u001b[0;32m/Library/Frameworks/EPD64.framework/Versions/7.3/lib/python2.7/site-packages/theano/gof/graph.pyc\u001b[0m in \u001b[0;36meval\u001b[0;34m(self, inputs_to_values)\u001b[0m\n\u001b[1;32m    413\u001b[0m         \u001b[0margs\u001b[0m \u001b[0;34m=\u001b[0m \u001b[0;34m[\u001b[0m\u001b[0minputs_to_values\u001b[0m\u001b[0;34m[\u001b[0m\u001b[0mparam\u001b[0m\u001b[0;34m]\u001b[0m \u001b[0;32mfor\u001b[0m \u001b[0mparam\u001b[0m \u001b[0;32min\u001b[0m \u001b[0minputs\u001b[0m\u001b[0;34m]\u001b[0m\u001b[0;34m\u001b[0m\u001b[0m\n\u001b[1;32m    414\u001b[0m \u001b[0;34m\u001b[0m\u001b[0m\n\u001b[0;32m--> 415\u001b[0;31m         \u001b[0mrval\u001b[0m \u001b[0;34m=\u001b[0m \u001b[0mself\u001b[0m\u001b[0;34m.\u001b[0m\u001b[0m_fn_cache\u001b[0m\u001b[0;34m[\u001b[0m\u001b[0minputs\u001b[0m\u001b[0;34m]\u001b[0m\u001b[0;34m(\u001b[0m\u001b[0;34m*\u001b[0m\u001b[0margs\u001b[0m\u001b[0;34m)\u001b[0m\u001b[0;34m\u001b[0m\u001b[0m\n\u001b[0m\u001b[1;32m    416\u001b[0m \u001b[0;34m\u001b[0m\u001b[0m\n\u001b[1;32m    417\u001b[0m         \u001b[0;32mreturn\u001b[0m \u001b[0mrval\u001b[0m\u001b[0;34m\u001b[0m\u001b[0m\n",
      "\u001b[0;32m/Library/Frameworks/EPD64.framework/Versions/7.3/lib/python2.7/site-packages/theano/compile/function_module.pyc\u001b[0m in \u001b[0;36m__call__\u001b[0;34m(self, *args, **kwargs)\u001b[0m\n\u001b[1;32m    604\u001b[0m                         \u001b[0mself\u001b[0m\u001b[0;34m.\u001b[0m\u001b[0mfn\u001b[0m\u001b[0;34m.\u001b[0m\u001b[0mnodes\u001b[0m\u001b[0;34m[\u001b[0m\u001b[0mself\u001b[0m\u001b[0;34m.\u001b[0m\u001b[0mfn\u001b[0m\u001b[0;34m.\u001b[0m\u001b[0mposition_of_error\u001b[0m\u001b[0;34m]\u001b[0m\u001b[0;34m,\u001b[0m\u001b[0;34m\u001b[0m\u001b[0m\n\u001b[1;32m    605\u001b[0m                         \u001b[0mself\u001b[0m\u001b[0;34m.\u001b[0m\u001b[0mfn\u001b[0m\u001b[0;34m.\u001b[0m\u001b[0mthunks\u001b[0m\u001b[0;34m[\u001b[0m\u001b[0mself\u001b[0m\u001b[0;34m.\u001b[0m\u001b[0mfn\u001b[0m\u001b[0;34m.\u001b[0m\u001b[0mposition_of_error\u001b[0m\u001b[0;34m]\u001b[0m\u001b[0;34m,\u001b[0m\u001b[0;34m\u001b[0m\u001b[0m\n\u001b[0;32m--> 606\u001b[0;31m                         storage_map=self.fn.storage_map)\n\u001b[0m\u001b[1;32m    607\u001b[0m                 \u001b[0;32melse\u001b[0m\u001b[0;34m:\u001b[0m\u001b[0;34m\u001b[0m\u001b[0m\n\u001b[1;32m    608\u001b[0m                     \u001b[0;31m# For the c linker We don't have access from\u001b[0m\u001b[0;34m\u001b[0m\u001b[0;34m\u001b[0m\u001b[0m\n",
      "\u001b[0;32m/Library/Frameworks/EPD64.framework/Versions/7.3/lib/python2.7/site-packages/theano/compile/function_module.pyc\u001b[0m in \u001b[0;36m__call__\u001b[0;34m(self, *args, **kwargs)\u001b[0m\n\u001b[1;32m    593\u001b[0m         \u001b[0mt0_fn\u001b[0m \u001b[0;34m=\u001b[0m \u001b[0mtime\u001b[0m\u001b[0;34m.\u001b[0m\u001b[0mtime\u001b[0m\u001b[0;34m(\u001b[0m\u001b[0;34m)\u001b[0m\u001b[0;34m\u001b[0m\u001b[0m\n\u001b[1;32m    594\u001b[0m         \u001b[0;32mtry\u001b[0m\u001b[0;34m:\u001b[0m\u001b[0;34m\u001b[0m\u001b[0m\n\u001b[0;32m--> 595\u001b[0;31m             \u001b[0moutputs\u001b[0m \u001b[0;34m=\u001b[0m \u001b[0mself\u001b[0m\u001b[0;34m.\u001b[0m\u001b[0mfn\u001b[0m\u001b[0;34m(\u001b[0m\u001b[0;34m)\u001b[0m\u001b[0;34m\u001b[0m\u001b[0m\n\u001b[0m\u001b[1;32m    596\u001b[0m         \u001b[0;32mexcept\u001b[0m \u001b[0mException\u001b[0m\u001b[0;34m:\u001b[0m\u001b[0;34m\u001b[0m\u001b[0m\n\u001b[1;32m    597\u001b[0m             \u001b[0;32mif\u001b[0m \u001b[0mhasattr\u001b[0m\u001b[0;34m(\u001b[0m\u001b[0mself\u001b[0m\u001b[0;34m.\u001b[0m\u001b[0mfn\u001b[0m\u001b[0;34m,\u001b[0m \u001b[0;34m'position_of_error'\u001b[0m\u001b[0;34m)\u001b[0m\u001b[0;34m:\u001b[0m\u001b[0;34m\u001b[0m\u001b[0m\n",
      "\u001b[0;31mValueError\u001b[0m: DeepCopyOp: the copy failed!\nApply node that caused the error: DeepCopyOp(<CudaNdarrayType(float32, 4D)>)\nInputs types: [CudaNdarrayType(float32, 4D)]\nInputs shapes: [(16, 40, 9, 9)]\nInputs strides: [(3240, 81, 9, 1)]\nInputs values: ['not shown']\n\nDebugprint of the apply node: \nDeepCopyOp [@A] <CudaNdarrayType(float32, 4D)> ''   \n |<CudaNdarrayType(float32, 4D)> [@B] <CudaNdarrayType(float32, 4D)>\n\nStorage map footprint:\n - <CudaNdarrayType(float32, 4D)>, Shape: (16, 40, 9, 9), ElemSize: 4 Byte(s), TotalSize: 207360 Byte(s)\n\nHINT: Re-running with most Theano optimization disabled could give you a back-trace of when this node was created. This can be done with by setting the Theano flag 'optimizer=fast_compile'. If that does not work, Theano optimizations can be disabled with 'optimizer=None'."
     ]
    }
   ],
   "source": [
    "model.load_weights(weights_dir)"
   ]
  },
  {
   "cell_type": "code",
   "execution_count": null,
   "metadata": {
    "collapsed": true
   },
   "outputs": [],
   "source": []
  }
 ],
 "metadata": {
  "kernelspec": {
   "display_name": "Python 2",
   "language": "python",
   "name": "python2"
  },
  "language_info": {
   "codemirror_mode": {
    "name": "ipython",
    "version": 2
   },
   "file_extension": ".py",
   "mimetype": "text/x-python",
   "name": "python",
   "nbconvert_exporter": "python",
   "pygments_lexer": "ipython2",
   "version": "2.7.3"
  }
 },
 "nbformat": 4,
 "nbformat_minor": 0
}
