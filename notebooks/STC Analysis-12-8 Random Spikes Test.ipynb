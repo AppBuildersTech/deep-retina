{
 "cells": [
  {
   "cell_type": "code",
   "execution_count": 8,
   "metadata": {
    "collapsed": false
   },
   "outputs": [
    {
     "name": "stdout",
     "output_type": "stream",
     "text": [
      "The autoreload extension is already loaded. To reload it, use:\n",
      "  %reload_ext autoreload\n"
     ]
    }
   ],
   "source": [
    "import numpy as np\n",
    "from os.path import expanduser\n",
    "import os\n",
    "import json\n",
    "import theano\n",
    "import pyret.filtertools as ft\n",
    "import pyret.visualizations as pyviz\n",
    "#import deepretina.visualizations as viz\n",
    "import preprocessing\n",
    "from preprocessing import datagen, loadexpt\n",
    "from utils import rolling_window\n",
    "from keras.models import model_from_json\n",
    "import h5py\n",
    "import matplotlib.pyplot as plt\n",
    "from scipy.stats import pearsonr\n",
    "%matplotlib inline\n",
    "#%matplotlib qt\n",
    "\n",
    "from pylab import rcParams\n",
    "rcParams['figure.figsize'] = (10.0, 8.0) # set default size of plots\n",
    "rcParams['image.interpolation'] = 'nearest'\n",
    "rcParams['image.cmap'] = 'gray'\n",
    "\n",
    "%load_ext autoreload\n",
    "%autoreload 2"
   ]
  },
  {
   "cell_type": "markdown",
   "metadata": {},
   "source": [
    "# Load full STC of the experiment  \n",
    "This is the normalized STC with (STA)(STA)^T subtracted"
   ]
  },
  {
   "cell_type": "code",
   "execution_count": 2,
   "metadata": {
    "collapsed": false
   },
   "outputs": [],
   "source": [
    "path_to_stc = '/Users/lmcintosh/Dropbox/deep-retina/saved/lenna.salamander/2015-12-04 10.26.59 Experiment STC/'\n",
    "stc_filename = 'full_stc_experiment_15_10_07.h5'\n",
    "f = h5py.File(os.path.join(path_to_stc, stc_filename), 'r')"
   ]
  },
  {
   "cell_type": "code",
   "execution_count": 3,
   "metadata": {
    "collapsed": false
   },
   "outputs": [],
   "source": [
    "stc = f['stc']"
   ]
  },
  {
   "cell_type": "code",
   "execution_count": 4,
   "metadata": {
    "collapsed": true
   },
   "outputs": [],
   "source": [
    "u,v = np.linalg.eigh(stc)"
   ]
  },
  {
   "cell_type": "code",
   "execution_count": 6,
   "metadata": {
    "collapsed": true
   },
   "outputs": [],
   "source": [
    "def adjust_spines(ax, spines):\n",
    "    for loc, spine in ax.spines.items():\n",
    "        if loc in spines:\n",
    "            spine.set_position(('outward', 10))  # outward by 10 points\n",
    "            spine.set_smart_bounds(True)\n",
    "        else:\n",
    "            spine.set_color('none')  # don't draw spine\n",
    "\n",
    "    # turn off ticks where there is no spine\n",
    "    if 'left' in spines:\n",
    "        ax.yaxis.set_ticks_position('left')\n",
    "    else:\n",
    "        # no yaxis ticks\n",
    "        ax.yaxis.set_ticks([])\n",
    "\n",
    "    if 'bottom' in spines:\n",
    "        ax.xaxis.set_ticks_position('bottom')\n",
    "    else:\n",
    "        # no xaxis ticks\n",
    "        ax.xaxis.set_ticks([])"
   ]
  },
  {
   "cell_type": "code",
   "execution_count": 9,
   "metadata": {
    "collapsed": false
   },
   "outputs": [
    {
     "data": {
      "image/png": "[encoded data removed]",
      "text/plain": [
       "<matplotlib.figure.Figure at 0x1194bd510>"
      ]
     },
     "metadata": {},
     "output_type": "display_data"
    }
   ],
   "source": [
    "plt.plot(u, 'k.')\n",
    "plt.tick_params(axis='y', direction='out')\n",
    "plt.tick_params(axis='x', direction='out')\n",
    "adjust_spines(plt.gca(), ['left', 'bottom'])"
   ]
  },
  {
   "cell_type": "code",
   "execution_count": 33,
   "metadata": {
    "collapsed": false
   },
   "outputs": [
    {
     "data": {
      "text/plain": [
       "<matplotlib.colorbar.Colorbar at 0x11e823650>"
      ]
     },
     "execution_count": 33,
     "metadata": {},
     "output_type": "execute_result"
    },
    {
     "data": {
      "image/png": "[encoded data removed]",
      "text/plain": [
       "<matplotlib.figure.Figure at 0x11e27e6d0>"
      ]
     },
     "metadata": {},
     "output_type": "display_data"
    }
   ],
   "source": [
    "fig = plt.gcf()\n",
    "fig.set_size_inches((14,5))\n",
    "plt.subplot(1,2,1)\n",
    "space, time = ft.decompose(v[:,-1].reshape((35,11,11)))\n",
    "plt.imshow(space, interpolation='nearest', cmap='seismic', clim=[-np.max(np.abs(space)), np.max(np.abs(space))])\n",
    "plt.colorbar()\n",
    "\n",
    "plt.subplot(1,2,2)\n",
    "space, time = ft.decompose(v[:,-2].reshape((35,11,11)))\n",
    "plt.imshow(space, interpolation='nearest', cmap='seismic', clim=[-np.max(np.abs(space)), np.max(np.abs(space))])\n",
    "plt.colorbar()"
   ]
  },
  {
   "cell_type": "markdown",
   "metadata": {},
   "source": [
    "# Compute random STC"
   ]
  },
  {
   "cell_type": "code",
   "execution_count": 10,
   "metadata": {
    "collapsed": false
   },
   "outputs": [
    {
     "name": "stdout",
     "output_type": "stream",
     "text": [
      "Loading training data... Done.\n"
     ]
    }
   ],
   "source": [
    "# whitenoise_train_unrolled = loadexpt(0, 'whitenoise', 'train', 40, roll=False)\n",
    "whitenoise_train_rolled = loadexpt(0, 'whitenoise', 'train', 40, roll=True)"
   ]
  },
  {
   "cell_type": "code",
   "execution_count": 11,
   "metadata": {
    "collapsed": false
   },
   "outputs": [
    {
     "data": {
      "text/plain": [
       "(359762, 40, 50, 50)"
      ]
     },
     "execution_count": 11,
     "metadata": {},
     "output_type": "execute_result"
    }
   ],
   "source": [
    "whitenoise_train_rolled.X.shape"
   ]
  },
  {
   "cell_type": "code",
   "execution_count": 12,
   "metadata": {
    "collapsed": false
   },
   "outputs": [
    {
     "data": {
      "text/plain": [
       "7.1536721965425132"
      ]
     },
     "execution_count": 12,
     "metadata": {},
     "output_type": "execute_result"
    }
   ],
   "source": [
    "np.mean(whitenoise_train_rolled.y)"
   ]
  },
  {
   "cell_type": "code",
   "execution_count": 13,
   "metadata": {
    "collapsed": false
   },
   "outputs": [
    {
     "data": {
      "text/plain": [
       "17.963241871749414"
      ]
     },
     "execution_count": 13,
     "metadata": {},
     "output_type": "execute_result"
    }
   ],
   "source": [
    "np.std(whitenoise_train_rolled.y)"
   ]
  },
  {
   "cell_type": "markdown",
   "metadata": {},
   "source": [
    "### True firing rate of the cell is:"
   ]
  },
  {
   "cell_type": "code",
   "execution_count": 14,
   "metadata": {
    "collapsed": false
   },
   "outputs": [
    {
     "data": {
      "text/plain": [
       "7.160567263913364"
      ]
     },
     "execution_count": 14,
     "metadata": {},
     "output_type": "execute_result"
    }
   ],
   "source": [
    "100 * (25761./whitenoise_train_rolled.y.shape[0])"
   ]
  },
  {
   "cell_type": "markdown",
   "metadata": {},
   "source": [
    "### Choose random spikes"
   ]
  },
  {
   "cell_type": "code",
   "execution_count": 18,
   "metadata": {
    "collapsed": true
   },
   "outputs": [],
   "source": [
    "num_spikes = int((np.mean(whitenoise_train_rolled.y)/100) * len(whitenoise_train_rolled.X))"
   ]
  },
  {
   "cell_type": "code",
   "execution_count": 19,
   "metadata": {
    "collapsed": false
   },
   "outputs": [],
   "source": [
    "f = h5py.File(os.path.join(preprocessing.datadirs['lane.local'], '15-10-07/whitenoise.h5'), 'r')\n",
    "time = np.array(f['train/time'][40:])"
   ]
  },
  {
   "cell_type": "code",
   "execution_count": 20,
   "metadata": {
    "collapsed": true
   },
   "outputs": [],
   "source": [
    "? np.random.choice"
   ]
  },
  {
   "cell_type": "code",
   "execution_count": 21,
   "metadata": {
    "collapsed": false
   },
   "outputs": [],
   "source": [
    "random_spikes = np.sort(np.random.choice(time, num_spikes, replace=False))"
   ]
  },
  {
   "cell_type": "code",
   "execution_count": 22,
   "metadata": {
    "collapsed": false
   },
   "outputs": [
    {
     "data": {
      "text/plain": [
       "25736"
      ]
     },
     "execution_count": 22,
     "metadata": {},
     "output_type": "execute_result"
    }
   ],
   "source": [
    "len(random_spikes)"
   ]
  },
  {
   "cell_type": "code",
   "execution_count": 23,
   "metadata": {
    "collapsed": false
   },
   "outputs": [
    {
     "data": {
      "text/plain": [
       "array([ 0.41028333,  0.48033   ,  0.75052   ,  0.95066333,  0.96067   ,\n",
       "        1.01069667,  1.20083   ,  1.32092   ,  1.61112333,  1.76122333])"
      ]
     },
     "execution_count": 23,
     "metadata": {},
     "output_type": "execute_result"
    }
   ],
   "source": [
    "random_spikes[:10]"
   ]
  },
  {
   "cell_type": "markdown",
   "metadata": {},
   "source": [
    "### Now get unrolled stimulus"
   ]
  },
  {
   "cell_type": "code",
   "execution_count": 24,
   "metadata": {
    "collapsed": true
   },
   "outputs": [],
   "source": [
    "del whitenoise_train_rolled"
   ]
  },
  {
   "cell_type": "code",
   "execution_count": 25,
   "metadata": {
    "collapsed": false
   },
   "outputs": [
    {
     "name": "stdout",
     "output_type": "stream",
     "text": [
      "Loading training data... Done.\n"
     ]
    }
   ],
   "source": [
    "whitenoise_train_unrolled = loadexpt(0, 'whitenoise', 'train', 40, roll=False)"
   ]
  },
  {
   "cell_type": "code",
   "execution_count": 26,
   "metadata": {
    "collapsed": false
   },
   "outputs": [
    {
     "data": {
      "text/plain": [
       "(359762,)"
      ]
     },
     "execution_count": 26,
     "metadata": {},
     "output_type": "execute_result"
    }
   ],
   "source": [
    "time.shape"
   ]
  },
  {
   "cell_type": "code",
   "execution_count": 27,
   "metadata": {
    "collapsed": false
   },
   "outputs": [
    {
     "data": {
      "text/plain": [
       "(359762, 50, 50)"
      ]
     },
     "execution_count": 27,
     "metadata": {},
     "output_type": "execute_result"
    }
   ],
   "source": [
    "whitenoise_train_unrolled.X[40:].shape"
   ]
  },
  {
   "cell_type": "code",
   "execution_count": 59,
   "metadata": {
    "collapsed": true
   },
   "outputs": [],
   "source": [
    "tmp = np.where(whitenoise_train_unrolled.y > 36, 1, 0)\n",
    "true_spike_times = time[np.array(tmp).astype('bool')]\n",
    "sta_true, tax = ft.getsta(time, whitenoise_train_unrolled.X[40:], true_spike_times, 35)"
   ]
  },
  {
   "cell_type": "code",
   "execution_count": 30,
   "metadata": {
    "collapsed": true
   },
   "outputs": [],
   "source": [
    "sta_random, tax = ft.getsta(time, whitenoise_train_unrolled.X[40:], random_spikes, 35)"
   ]
  },
  {
   "cell_type": "code",
   "execution_count": 60,
   "metadata": {
    "collapsed": false
   },
   "outputs": [
    {
     "data": {
      "image/png": "[encoded data removed]",
      "text/plain": [
       "<matplotlib.figure.Figure at 0x11b32d490>"
      ]
     },
     "metadata": {},
     "output_type": "display_data"
    },
    {
     "data": {
      "text/plain": [
       "<matplotlib.figure.Figure at 0x11b347d10>"
      ]
     },
     "metadata": {},
     "output_type": "display_data"
    },
    {
     "data": {
      "text/plain": [
       "(<matplotlib.figure.Figure at 0x11b32d490>,\n",
       " (<matplotlib.axes._subplots.AxesSubplot at 0x11b327090>,\n",
       "  <matplotlib.axes._subplots.AxesSubplot at 0x1119e0110>))"
      ]
     },
     "execution_count": 60,
     "metadata": {},
     "output_type": "execute_result"
    },
    {
     "data": {
      "text/plain": [
       "<matplotlib.figure.Figure at 0x10533e990>"
      ]
     },
     "metadata": {},
     "output_type": "display_data"
    }
   ],
   "source": [
    "pyviz.plotsta(tax, sta_true)"
   ]
  },
  {
   "cell_type": "markdown",
   "metadata": {},
   "source": [
    "# Reduce dimensionality of STC by cutting out a window around the RF"
   ]
  },
  {
   "cell_type": "code",
   "execution_count": 61,
   "metadata": {
    "collapsed": false,
    "scrolled": false
   },
   "outputs": [
    {
     "data": {
      "image/png": "[encoded data removed]",
      "text/plain": [
       "<matplotlib.figure.Figure at 0x1193f5f10>"
      ]
     },
     "metadata": {},
     "output_type": "display_data"
    },
    {
     "data": {
      "text/plain": [
       "<matplotlib.figure.Figure at 0x11bb5ad90>"
      ]
     },
     "metadata": {},
     "output_type": "display_data"
    },
    {
     "data": {
      "text/plain": [
       "(<matplotlib.figure.Figure at 0x1193f5f10>,\n",
       " (<matplotlib.axes._subplots.AxesSubplot at 0x10616cc50>,\n",
       "  <matplotlib.axes._subplots.AxesSubplot at 0x119408d90>))"
      ]
     },
     "execution_count": 61,
     "metadata": {},
     "output_type": "execute_result"
    },
    {
     "data": {
      "text/plain": [
       "<matplotlib.figure.Figure at 0x11bc2d6d0>"
      ]
     },
     "metadata": {},
     "output_type": "display_data"
    }
   ],
   "source": [
    "pyviz.plotsta(tax, ft.cutout(sta_true, idx=np.flipud(ft.filterpeak(sta_true)[1]), width=5))"
   ]
  },
  {
   "cell_type": "code",
   "execution_count": 62,
   "metadata": {
    "collapsed": true
   },
   "outputs": [],
   "source": [
    "Xcut = ft.cutout(whitenoise_train_unrolled.X[40:], idx=np.flipud(ft.filterpeak(sta_true)[1]), width=5)"
   ]
  },
  {
   "cell_type": "code",
   "execution_count": 63,
   "metadata": {
    "collapsed": false
   },
   "outputs": [
    {
     "data": {
      "text/plain": [
       "(359762, 11, 11)"
      ]
     },
     "execution_count": 63,
     "metadata": {},
     "output_type": "execute_result"
    }
   ],
   "source": [
    "Xcut.shape"
   ]
  },
  {
   "cell_type": "code",
   "execution_count": 64,
   "metadata": {
    "collapsed": false
   },
   "outputs": [
    {
     "data": {
      "text/plain": [
       "dtype('float32')"
      ]
     },
     "execution_count": 64,
     "metadata": {},
     "output_type": "execute_result"
    }
   ],
   "source": [
    "Xcut.dtype"
   ]
  },
  {
   "cell_type": "code",
   "execution_count": 65,
   "metadata": {
    "collapsed": true
   },
   "outputs": [],
   "source": [
    "sta_cut = ft.cutout(sta_true, idx=np.flipud(ft.filterpeak(sta_true)[1]), width=5)"
   ]
  },
  {
   "cell_type": "code",
   "execution_count": 66,
   "metadata": {
    "collapsed": false
   },
   "outputs": [
    {
     "data": {
      "text/plain": [
       "(35, 11, 11)"
      ]
     },
     "execution_count": 66,
     "metadata": {},
     "output_type": "execute_result"
    }
   ],
   "source": [
    "sta_cut.shape"
   ]
  },
  {
   "cell_type": "markdown",
   "metadata": {},
   "source": [
    "# Do STC"
   ]
  },
  {
   "cell_type": "code",
   "execution_count": 69,
   "metadata": {
    "collapsed": false
   },
   "outputs": [
    {
     "name": "stdout",
     "output_type": "stream",
     "text": [
      "0.0\n",
      "1.94280385452\n",
      "3.88560770905\n",
      "5.82841156357\n",
      "7.77121541809\n",
      "9.71401927261\n",
      "11.6568231271\n",
      "13.5996269817\n",
      "15.5424308362\n",
      "17.4852346907\n",
      "19.4280385452\n",
      "21.3708423998\n",
      "23.3136462543\n",
      "25.2564501088\n",
      "27.1992539633\n",
      "29.1420578178\n",
      "31.0848616724\n",
      "33.0276655269\n",
      "34.9704693814\n",
      "36.9132732359\n",
      "38.8560770905\n",
      "40.798880945\n",
      "42.7416847995\n",
      "44.684488654\n",
      "46.6272925085\n",
      "48.5700963631\n",
      "50.5129002176\n",
      "52.4557040721\n",
      "54.3985079266\n",
      "56.3413117812\n",
      "58.2841156357\n",
      "60.2269194902\n",
      "62.1697233447\n",
      "64.1125271993\n",
      "66.0553310538\n",
      "67.9981349083\n",
      "69.9409387628\n",
      "71.8837426173\n",
      "73.8265464719\n",
      "75.7693503264\n",
      "77.7121541809\n",
      "79.6549580354\n",
      "81.59776189\n",
      "83.5405657445\n",
      "85.483369599\n",
      "87.4261734535\n",
      "89.3689773081\n",
      "91.3117811626\n",
      "93.2545850171\n",
      "95.1973888716\n",
      "97.1401927261\n",
      "99.0829965807\n"
     ]
    }
   ],
   "source": [
    "stc = np.zeros((35*11*11, 35*11*11))\n",
    "for idx, s in enumerate(ft.getste(time, Xcut, random_spikes, 35)):\n",
    "    sr = s.astype('float').ravel()\n",
    "    if sr.size == (35*11*11):\n",
    "        stc += np.outer(sr, sr)\n",
    "        \n",
    "    if idx % 500 == 0:\n",
    "        print('{}'.format(100.*idx/len(random_spikes)))"
   ]
  },
  {
   "cell_type": "code",
   "execution_count": 70,
   "metadata": {
    "collapsed": true
   },
   "outputs": [],
   "source": [
    "stc_normalized = stc/len(random_spikes)\n",
    "stc_normalized -= np.outer(sta_cut.ravel(), sta_cut.ravel())"
   ]
  },
  {
   "cell_type": "code",
   "execution_count": 71,
   "metadata": {
    "collapsed": true
   },
   "outputs": [],
   "source": [
    "u_random,v_random = np.linalg.eigh(stc_normalized)"
   ]
  },
  {
   "cell_type": "code",
   "execution_count": 73,
   "metadata": {
    "collapsed": false
   },
   "outputs": [
    {
     "data": {
      "text/plain": [
       "(0, 5)"
      ]
     },
     "execution_count": 73,
     "metadata": {},
     "output_type": "execute_result"
    },
    {
     "data": {
      "image/png": "[encoded data removed]",
      "text/plain": [
       "<matplotlib.figure.Figure at 0x11a0c0510>"
      ]
     },
     "metadata": {},
     "output_type": "display_data"
    }
   ],
   "source": [
    "plt.plot(u_random, 'k.')\n",
    "plt.tick_params(axis='y', direction='out')\n",
    "plt.tick_params(axis='x', direction='out')\n",
    "adjust_spines(plt.gca(), ['left', 'bottom'])\n",
    "plt.ylim([0,5])"
   ]
  },
  {
   "cell_type": "code",
   "execution_count": 81,
   "metadata": {
    "collapsed": false
   },
   "outputs": [],
   "source": [
    "counts_random, bin_edges_random = np.histogram(u_random, 100)"
   ]
  },
  {
   "cell_type": "code",
   "execution_count": 96,
   "metadata": {
    "collapsed": false
   },
   "outputs": [
    {
     "data": {
      "text/plain": [
       "<matplotlib.text.Text at 0x11c4bda50>"
      ]
     },
     "execution_count": 96,
     "metadata": {},
     "output_type": "execute_result"
    },
    {
     "data": {
      "image/png": "[encoded data removed]",
      "text/plain": [
       "<matplotlib.figure.Figure at 0x11c4f4e50>"
      ]
     },
     "metadata": {},
     "output_type": "display_data"
    }
   ],
   "source": [
    "plt.bar(bin_edges_random[:-1], counts_random, .1, color='k')\n",
    "plt.xlim([0,5])\n",
    "plt.tick_params(axis='y', direction='out')\n",
    "plt.tick_params(axis='x', direction='out')\n",
    "adjust_spines(plt.gca(), ['left', 'bottom'])\n",
    "plt.title('Random eigenvalue histogram', fontsize=20)"
   ]
  },
  {
   "cell_type": "code",
   "execution_count": 83,
   "metadata": {
    "collapsed": true
   },
   "outputs": [],
   "source": [
    "counts_true, bin_edges_true = np.histogram(u, 100)"
   ]
  },
  {
   "cell_type": "code",
   "execution_count": 95,
   "metadata": {
    "collapsed": false
   },
   "outputs": [
    {
     "data": {
      "text/plain": [
       "<matplotlib.text.Text at 0x11c4c5510>"
      ]
     },
     "execution_count": 95,
     "metadata": {},
     "output_type": "execute_result"
    },
    {
     "data": {
      "image/png": "[encoded data removed]",
      "text/plain": [
       "<matplotlib.figure.Figure at 0x11acfacd0>"
      ]
     },
     "metadata": {},
     "output_type": "display_data"
    }
   ],
   "source": [
    "plt.bar(bin_edges_true[:-1], counts_true, .1, color='k')\n",
    "plt.tick_params(axis='y', direction='out')\n",
    "plt.tick_params(axis='x', direction='out')\n",
    "adjust_spines(plt.gca(), ['left', 'bottom'])\n",
    "plt.title('True data eigenvalue histogram', fontsize=20)"
   ]
  },
  {
   "cell_type": "code",
   "execution_count": 86,
   "metadata": {
    "collapsed": true
   },
   "outputs": [],
   "source": [
    "path_to_stc = '/Users/lmcintosh/Dropbox/deep-retina/saved/lenna.salamander/2015-12-07 12.16.59 Convnet STC/'\n",
    "stc_filename = 'full_stc_convnet_15_10_07.h5'\n",
    "h = h5py.File(os.path.join(path_to_stc, stc_filename), 'r')"
   ]
  },
  {
   "cell_type": "code",
   "execution_count": 87,
   "metadata": {
    "collapsed": true
   },
   "outputs": [],
   "source": [
    "model_stc = h['stc']"
   ]
  },
  {
   "cell_type": "code",
   "execution_count": 88,
   "metadata": {
    "collapsed": true
   },
   "outputs": [],
   "source": [
    "u_model,v_model = np.linalg.eigh(model_stc)"
   ]
  },
  {
   "cell_type": "code",
   "execution_count": 94,
   "metadata": {
    "collapsed": false
   },
   "outputs": [
    {
     "data": {
      "text/plain": [
       "<matplotlib.text.Text at 0x11bd93e10>"
      ]
     },
     "execution_count": 94,
     "metadata": {},
     "output_type": "execute_result"
    },
    {
     "data": {
      "image/png": "[encoded data removed]",
      "text/plain": [
       "<matplotlib.figure.Figure at 0x11c318b90>"
      ]
     },
     "metadata": {},
     "output_type": "display_data"
    }
   ],
   "source": [
    "counts_model, bin_edges_model = np.histogram(u_model, 100)\n",
    "plt.bar(bin_edges_model[:-1], counts_model, .1, color='k')\n",
    "plt.xlim([0,5])\n",
    "plt.tick_params(axis='y', direction='out')\n",
    "plt.tick_params(axis='x', direction='out')\n",
    "adjust_spines(plt.gca(), ['left', 'bottom'])\n",
    "plt.title('Model eigenvalue histogram', fontsize=20)"
   ]
  },
  {
   "cell_type": "code",
   "execution_count": 97,
   "metadata": {
    "collapsed": false
   },
   "outputs": [
    {
     "data": {
      "text/plain": [
       "<matplotlib.text.Text at 0x11b7d2d90>"
      ]
     },
     "execution_count": 97,
     "metadata": {},
     "output_type": "execute_result"
    },
    {
     "data": {
      "image/png": "[encoded data removed]",
      "text/plain": [
       "<matplotlib.figure.Figure at 0x11c3199d0>"
      ]
     },
     "metadata": {},
     "output_type": "display_data"
    }
   ],
   "source": [
    "plt.bar(bin_edges_random[:-1], counts_random, .1, color='r', alpha=.2)\n",
    "plt.bar(bin_edges_true[:-1], counts_true, .1, color='k', alpha=.2)\n",
    "plt.bar(bin_edges_model[:-1], counts_model, .1, color='g', alpha=.2)\n",
    "plt.xlim([0,5])\n",
    "plt.tick_params(axis='y', direction='out')\n",
    "plt.tick_params(axis='x', direction='out')\n",
    "adjust_spines(plt.gca(), ['left', 'bottom'])\n",
    "plt.title('Red: Random, Green: Model, Black: True Data. \\n Eigenvalue histogram', fontsize=20)"
   ]
  },
  {
   "cell_type": "code",
   "execution_count": null,
   "metadata": {
    "collapsed": true
   },
   "outputs": [],
   "source": []
  }
 ],
 "metadata": {
  "kernelspec": {
   "display_name": "Python 2",
   "language": "python",
   "name": "python2"
  },
  "language_info": {
   "codemirror_mode": {
    "name": "ipython",
    "version": 2
   },
   "file_extension": ".py",
   "mimetype": "text/x-python",
   "name": "python",
   "nbconvert_exporter": "python",
   "pygments_lexer": "ipython2",
   "version": "2.7.3"
  }
 },
 "nbformat": 4,
 "nbformat_minor": 0
}
