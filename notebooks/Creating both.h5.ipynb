{
 "cells": [
  {
   "cell_type": "markdown",
   "metadata": {},
   "source": [
    "# Create .h5 file for training deepretina on both whitenoise and naturalscenes"
   ]
  },
  {
   "cell_type": "code",
   "execution_count": 52,
   "metadata": {
    "collapsed": false
   },
   "outputs": [
    {
     "name": "stdout",
     "output_type": "stream",
     "text": [
      "The autoreload extension is already loaded. To reload it, use:\n",
      "  %reload_ext autoreload\n"
     ]
    }
   ],
   "source": [
    "import numpy as np\n",
    "from sklearn.decomposition import PCA\n",
    "import scipy.io\n",
    "import itertools\n",
    "import os\n",
    "import h5py\n",
    "import pyret.visualizations as pyviz\n",
    "import pyret.filtertools as ft\n",
    "import pyret.spiketools as st\n",
    "import pyret.stimulustools as stimtools\n",
    "import jetpack\n",
    "from experiments.iotools import read_channel # from niru-analysis github\n",
    "from experiments.photodiode import find_peaks, find_start_times\n",
    "# import binary     # in igor >> recording\n",
    "import pdb\n",
    "import string\n",
    "# from jetpack.signals import peakdet\n",
    "from scipy.signal import find_peaks_cwt\n",
    "from os.path import expanduser\n",
    "\n",
    "# This is a bit of magic to make matplotlib figures appear inline in the\n",
    "# notebook rather than in a new window.\n",
    "%matplotlib inline\n",
    "import matplotlib.pyplot as plt\n",
    "from matplotlib.pyplot import plot, xlabel, ylabel, title, imshow\n",
    "\n",
    "# note that nonposx(y) for log plots will no longer work with this package\n",
    "import mpld3\n",
    "#mpld3.enable_notebook()\n",
    "\n",
    "from pylab import rcParams\n",
    "rcParams['figure.figsize'] = (10.0, 8.0) # set default size of plots\n",
    "rcParams['image.interpolation'] = 'nearest'\n",
    "rcParams['image.cmap'] = 'gray'\n",
    "\n",
    "# Some more magic so that the notebook will reload external python modules;\n",
    "# see http://stackoverflow.com/questions/1907993/autoreload-of-modules-in-ipython\n",
    "%load_ext autoreload\n",
    "%autoreload 2"
   ]
  },
  {
   "cell_type": "markdown",
   "metadata": {},
   "source": [
    "# load data"
   ]
  },
  {
   "cell_type": "code",
   "execution_count": 84,
   "metadata": {
    "collapsed": true
   },
   "outputs": [],
   "source": [
    "whitenoise_datafile = '/Users/lmcintosh/experiments/data/15-10-07/whitenoise.h5'\n",
    "naturalscene_datafile = '/Users/lmcintosh/experiments/data/15-10-07/naturalscene.h5'\n",
    "datafile = '/Users/lmcintosh/experiments/data/15-10-07/experiment.h5'"
   ]
  },
  {
   "cell_type": "code",
   "execution_count": 85,
   "metadata": {
    "collapsed": true
   },
   "outputs": [],
   "source": [
    "wn = h5py.File(whitenoise_datafile, 'r')\n",
    "ns = h5py.File(naturalscene_datafile, 'r')\n",
    "f = h5py.File(datafile, 'r')"
   ]
  },
  {
   "cell_type": "code",
   "execution_count": 4,
   "metadata": {
    "collapsed": false
   },
   "outputs": [
    {
     "data": {
      "text/plain": [
       "[u'cell01',\n",
       " u'cell02',\n",
       " u'cell03',\n",
       " u'cell04',\n",
       " u'cell05',\n",
       " u'cell06',\n",
       " u'cell07',\n",
       " u'cell08',\n",
       " u'cell09',\n",
       " u'expt1',\n",
       " u'expt10',\n",
       " u'expt11',\n",
       " u'expt12',\n",
       " u'expt13',\n",
       " u'expt14',\n",
       " u'expt15',\n",
       " u'expt16',\n",
       " u'expt17',\n",
       " u'expt18',\n",
       " u'expt19',\n",
       " u'expt2',\n",
       " u'expt20',\n",
       " u'expt21',\n",
       " u'expt22',\n",
       " u'expt23',\n",
       " u'expt24',\n",
       " u'expt3',\n",
       " u'expt4',\n",
       " u'expt5',\n",
       " u'expt6',\n",
       " u'expt7',\n",
       " u'expt8',\n",
       " u'expt9']"
      ]
     },
     "execution_count": 4,
     "metadata": {},
     "output_type": "execute_result"
    }
   ],
   "source": [
    "list(f)"
   ]
  },
  {
   "cell_type": "code",
   "execution_count": 6,
   "metadata": {
    "collapsed": false
   },
   "outputs": [
    {
     "data": {
      "text/plain": [
       "[u'start_time', u'stim', u'stop_time', u'timestamps']"
      ]
     },
     "execution_count": 6,
     "metadata": {},
     "output_type": "execute_result"
    }
   ],
   "source": [
    "list(f['expt1'])"
   ]
  },
  {
   "cell_type": "markdown",
   "metadata": {},
   "source": [
    "# Store spike times"
   ]
  },
  {
   "cell_type": "code",
   "execution_count": 12,
   "metadata": {
    "collapsed": true
   },
   "outputs": [],
   "source": [
    "num_cells = 9\n",
    "spikes = []\n",
    "for c in range(num_cells):\n",
    "    spikes.append(f['cell%02i' %(c+1)][:])"
   ]
  },
  {
   "cell_type": "markdown",
   "metadata": {},
   "source": [
    "# Parse spikes and stim into train and test sets"
   ]
  },
  {
   "cell_type": "code",
   "execution_count": 113,
   "metadata": {
    "collapsed": false
   },
   "outputs": [],
   "source": [
    "total_trials = 24\n",
    "num_repeats = 6\n",
    "stim_types = 2\n",
    "\n",
    "last_train_time = 0.0\n",
    "last_test_time = 0.0\n",
    "\n",
    "train_binned = []\n",
    "train_spikes_5ms = []\n",
    "train_spikes_10ms = []\n",
    "train_spikes_20ms = []\n",
    "train_stim = []\n",
    "train_time = []\n",
    "\n",
    "test_binned = []\n",
    "test_spikes_5ms = []\n",
    "test_spikes_10ms = []\n",
    "test_spikes_20ms = []\n",
    "test_stim = []\n",
    "test_time = []\n",
    "\n",
    "# we have to exclude expt24 because we couldn't get a start and stop time\n",
    "for expt in range(total_trials-1):\n",
    "    expt_name = 'expt%i' %(expt+1)\n",
    "    expt_stim = np.array(f[expt_name + '/stim'])\n",
    "    start = np.array(f[expt_name + '/start_time'])\n",
    "    stop = np.array(f[expt_name + '/stop_time'])\n",
    "    time = np.array(f[expt_name + '/timestamps'])\n",
    "    \n",
    "    # upsample stim\n",
    "    stim = np.array(f[expt_name + '/stim'])\n",
    "    stim_us, time_us = stimtools.upsample_stim(stim, 3, time=time) # upsample 30 hz stim by factor of 3\n",
    "    \n",
    "    binned = []\n",
    "    rates_5ms = []\n",
    "    rates_10ms = []\n",
    "    rates_20ms = []\n",
    "    for c in spikes:\n",
    "        one_cell_spikes = [sp-start for sp in c if sp >= start and sp <= stop]\n",
    "        bspk, tax = st.binspikes(one_cell_spikes, time=time_us)\n",
    "        binned.append(bspk)\n",
    "        rates_5ms.append(st.estfr(tax, bspk, sigma=0.005)) # 5 ms Gaussian\n",
    "        rates_10ms.append(st.estfr(tax, bspk, sigma=0.01)) # 10 ms Gaussian\n",
    "        rates_20ms.append(st.estfr(tax, bspk, sigma=0.02)) # 20 ms Gaussian\n",
    "    \n",
    "    expt_binned = np.vstack(binned)\n",
    "    expt_rates_5ms = np.vstack(rates_5ms)\n",
    "    expt_rates_10ms = np.vstack(rates_10ms)\n",
    "    expt_rates_20ms = np.vstack(rates_20ms)\n",
    "\n",
    "    # train data\n",
    "    if expt % stim_types == 0:\n",
    "        train_stim.append(stim_us[:-1, :, :])\n",
    "        train_binned.append(expt_binned)\n",
    "        train_spikes_5ms.append(expt_rates_5ms)\n",
    "        train_spikes_10ms.append(expt_rates_10ms)\n",
    "        train_spikes_20ms.append(expt_rates_20ms)\n",
    "        train_time.append(time_us[:-1] + last_train_time)\n",
    "        last_train_time = time_us[-1]\n",
    "    # test data\n",
    "    else:\n",
    "        test_stim.append(stim_us[:-1, :, :])\n",
    "        test_binned.append(expt_binned)\n",
    "        test_spikes_5ms.append(expt_rates_5ms)\n",
    "        test_spikes_10ms.append(expt_rates_10ms)\n",
    "        test_spikes_20ms.append(expt_rates_20ms)\n",
    "        test_time.append(time_us[:-1] + last_test_time)\n",
    "        last_test_time = time_us[-1]"
   ]
  },
  {
   "cell_type": "code",
   "execution_count": 66,
   "metadata": {
    "collapsed": false
   },
   "outputs": [
    {
     "data": {
      "text/plain": [
       "(59966, 50, 50)"
      ]
     },
     "execution_count": 66,
     "metadata": {},
     "output_type": "execute_result"
    }
   ],
   "source": [
    "train_stim[0].shape"
   ]
  },
  {
   "cell_type": "code",
   "execution_count": 114,
   "metadata": {
    "collapsed": false
   },
   "outputs": [
    {
     "data": {
      "text/plain": [
       "(9, 59966)"
      ]
     },
     "execution_count": 114,
     "metadata": {},
     "output_type": "execute_result"
    }
   ],
   "source": [
    "train_spikes_10ms[0].shape"
   ]
  },
  {
   "cell_type": "code",
   "execution_count": 68,
   "metadata": {
    "collapsed": false
   },
   "outputs": [
    {
     "data": {
      "text/plain": [
       "(59966,)"
      ]
     },
     "execution_count": 68,
     "metadata": {},
     "output_type": "execute_result"
    }
   ],
   "source": [
    "train_time[0].shape"
   ]
  },
  {
   "cell_type": "code",
   "execution_count": 72,
   "metadata": {
    "collapsed": false
   },
   "outputs": [
    {
     "data": {
      "text/plain": [
       "(5996, 50, 50)"
      ]
     },
     "execution_count": 72,
     "metadata": {},
     "output_type": "execute_result"
    }
   ],
   "source": [
    "test_stim[10].shape"
   ]
  },
  {
   "cell_type": "code",
   "execution_count": 115,
   "metadata": {
    "collapsed": false
   },
   "outputs": [
    {
     "data": {
      "text/plain": [
       "(9, 5996)"
      ]
     },
     "execution_count": 115,
     "metadata": {},
     "output_type": "execute_result"
    }
   ],
   "source": [
    "test_binned[10].shape"
   ]
  },
  {
   "cell_type": "code",
   "execution_count": 78,
   "metadata": {
    "collapsed": false
   },
   "outputs": [
    {
     "data": {
      "text/plain": [
       "(65956, 50, 50)"
      ]
     },
     "execution_count": 78,
     "metadata": {},
     "output_type": "execute_result"
    }
   ],
   "source": [
    "np.vstack(test_stim).shape"
   ]
  },
  {
   "cell_type": "code",
   "execution_count": 116,
   "metadata": {
    "collapsed": false
   },
   "outputs": [
    {
     "data": {
      "text/plain": [
       "(9, 65956)"
      ]
     },
     "execution_count": 116,
     "metadata": {},
     "output_type": "execute_result"
    }
   ],
   "source": [
    "np.hstack(test_spikes_5ms).shape"
   ]
  },
  {
   "cell_type": "code",
   "execution_count": 86,
   "metadata": {
    "collapsed": false
   },
   "outputs": [
    {
     "data": {
      "text/plain": [
       "(65956,)"
      ]
     },
     "execution_count": 86,
     "metadata": {},
     "output_type": "execute_result"
    }
   ],
   "source": [
    "np.hstack(test_time).shape"
   ]
  },
  {
   "cell_type": "markdown",
   "metadata": {},
   "source": [
    "# Concatenate the training data"
   ]
  },
  {
   "cell_type": "code",
   "execution_count": 117,
   "metadata": {
    "collapsed": true
   },
   "outputs": [],
   "source": [
    "all_train_stim = np.vstack(train_stim)\n",
    "all_train_binned = np.hstack(train_binned)\n",
    "all_train_spikes_5ms = np.hstack(train_spikes_5ms)\n",
    "all_train_spikes_10ms = np.hstack(train_spikes_10ms)\n",
    "all_train_spikes_20ms = np.hstack(train_spikes_20ms)\n",
    "all_train_time = np.hstack(train_time)"
   ]
  },
  {
   "cell_type": "code",
   "execution_count": 121,
   "metadata": {
    "collapsed": false
   },
   "outputs": [
    {
     "data": {
      "text/plain": [
       "[<matplotlib.lines.Line2D at 0x27a5ae790>]"
      ]
     },
     "execution_count": 121,
     "metadata": {},
     "output_type": "execute_result"
    },
    {
     "data": {
      "image/png": "[encoded data removed]",
      "text/plain": [
       "<matplotlib.figure.Figure at 0x27a306b90>"
      ]
     },
     "metadata": {},
     "output_type": "display_data"
    }
   ],
   "source": [
    "plt.plot(np.convolve(all_train_spikes_20ms[0, :], 0.002*np.ones((500,)), 'same')[::200])"
   ]
  },
  {
   "cell_type": "markdown",
   "metadata": {},
   "source": [
    "# Concatenate the test data from the whitenoise and naturalscene h5 files"
   ]
  },
  {
   "cell_type": "code",
   "execution_count": 93,
   "metadata": {
    "collapsed": false
   },
   "outputs": [
    {
     "data": {
      "text/plain": [
       "[u'repeats', u'response', u'stimulus', u'time']"
      ]
     },
     "execution_count": 93,
     "metadata": {},
     "output_type": "execute_result"
    }
   ],
   "source": [
    "list(wn['test'])"
   ]
  },
  {
   "cell_type": "code",
   "execution_count": 96,
   "metadata": {
    "collapsed": false
   },
   "outputs": [
    {
     "data": {
      "text/plain": [
       "(9, 5997)"
      ]
     },
     "execution_count": 96,
     "metadata": {},
     "output_type": "execute_result"
    }
   ],
   "source": [
    "np.array(wn['test/response/firing_rate_10ms']).shape"
   ]
  },
  {
   "cell_type": "code",
   "execution_count": 124,
   "metadata": {
    "collapsed": true
   },
   "outputs": [],
   "source": [
    "all_test_stim = np.vstack([np.array(wn['test/stimulus']), np.array(ns['test/stimulus'])])\n",
    "all_test_binned = np.hstack([np.array(wn['test/response/binned']), \n",
    "                                  np.array(ns['test/response/binned'])])\n",
    "all_test_spikes_5ms = np.hstack([np.array(wn['test/response/firing_rate_5ms']), \n",
    "                                  np.array(ns['test/response/firing_rate_5ms'])])\n",
    "all_test_spikes_10ms = np.hstack([np.array(wn['test/response/firing_rate_10ms']), \n",
    "                                  np.array(ns['test/response/firing_rate_10ms'])])\n",
    "all_test_spikes_20ms = np.hstack([np.array(wn['test/response/firing_rate_20ms']), \n",
    "                                  np.array(ns['test/response/firing_rate_20ms'])])\n",
    "all_test_time = np.hstack([np.array(wn['test/time']), np.array(ns['test/time'])])"
   ]
  },
  {
   "cell_type": "code",
   "execution_count": 125,
   "metadata": {
    "collapsed": false
   },
   "outputs": [
    {
     "data": {
      "text/plain": [
       "(11994, 50, 50)"
      ]
     },
     "execution_count": 125,
     "metadata": {},
     "output_type": "execute_result"
    }
   ],
   "source": [
    "all_test_stim.shape"
   ]
  },
  {
   "cell_type": "code",
   "execution_count": 126,
   "metadata": {
    "collapsed": false
   },
   "outputs": [
    {
     "data": {
      "text/plain": [
       "(9, 11994)"
      ]
     },
     "execution_count": 126,
     "metadata": {},
     "output_type": "execute_result"
    }
   ],
   "source": [
    "all_test_spikes_10ms.shape"
   ]
  },
  {
   "cell_type": "markdown",
   "metadata": {},
   "source": [
    "# Save these to both.h5"
   ]
  },
  {
   "cell_type": "code",
   "execution_count": 130,
   "metadata": {
    "collapsed": false
   },
   "outputs": [],
   "source": [
    "h = h5py.File('/Users/lmcintosh/experiments/data/15-10-07/both.h5', 'w')\n",
    "\n",
    "\n",
    "##### spikes #####\n",
    "for idx in range(num_cells):\n",
    "    h.create_dataset('spikes/cell%02d' %(idx+1), data=np.array(spikes[idx]))\n",
    "\n",
    "##### train #####\n",
    "h.create_dataset('train/stimulus', data=all_train_stim)\n",
    "h.create_dataset('train/time', data=all_train_time)\n",
    "h.create_dataset('train/response/binned', data=all_train_binned)\n",
    "h.create_dataset('train/response/firing_rate_10ms', data=all_train_spikes_10ms)\n",
    "h.create_dataset('train/response/firing_rate_20ms', data=all_train_spikes_20ms)\n",
    "h.create_dataset('train/response/firing_rate_5ms', data=all_train_spikes_5ms)\n",
    "\n",
    "##### test #####\n",
    "h.create_dataset('test/stimulus', data=all_test_stim)\n",
    "h.create_dataset('test/time', data=all_test_time)\n",
    "h.create_dataset('test/response/binned', data=all_test_binned)\n",
    "h.create_dataset('test/response/firing_rate_10ms', data=all_test_spikes_10ms)\n",
    "h.create_dataset('test/response/firing_rate_20ms', data=all_test_spikes_20ms)\n",
    "h.create_dataset('test/response/firing_rate_5ms', data=all_test_spikes_5ms)\n",
    "\n",
    "h.close()"
   ]
  },
  {
   "cell_type": "code",
   "execution_count": null,
   "metadata": {
    "collapsed": true
   },
   "outputs": [],
   "source": []
  },
  {
   "cell_type": "code",
   "execution_count": null,
   "metadata": {
    "collapsed": true
   },
   "outputs": [],
   "source": []
  },
  {
   "cell_type": "code",
   "execution_count": null,
   "metadata": {
    "collapsed": true
   },
   "outputs": [],
   "source": []
  },
  {
   "cell_type": "code",
   "execution_count": null,
   "metadata": {
    "collapsed": true
   },
   "outputs": [],
   "source": []
  },
  {
   "cell_type": "code",
   "execution_count": null,
   "metadata": {
    "collapsed": true
   },
   "outputs": [],
   "source": []
  },
  {
   "cell_type": "code",
   "execution_count": null,
   "metadata": {
    "collapsed": true
   },
   "outputs": [],
   "source": []
  },
  {
   "cell_type": "code",
   "execution_count": null,
   "metadata": {
    "collapsed": true
   },
   "outputs": [],
   "source": []
  },
  {
   "cell_type": "code",
   "execution_count": null,
   "metadata": {
    "collapsed": true
   },
   "outputs": [],
   "source": []
  },
  {
   "cell_type": "code",
   "execution_count": null,
   "metadata": {
    "collapsed": true
   },
   "outputs": [],
   "source": []
  },
  {
   "cell_type": "code",
   "execution_count": null,
   "metadata": {
    "collapsed": true
   },
   "outputs": [],
   "source": []
  }
 ],
 "metadata": {
  "kernelspec": {
   "display_name": "Python 2",
   "language": "python",
   "name": "python2"
  },
  "language_info": {
   "codemirror_mode": {
    "name": "ipython",
    "version": 2
   },
   "file_extension": ".py",
   "mimetype": "text/x-python",
   "name": "python",
   "nbconvert_exporter": "python",
   "pygments_lexer": "ipython2",
   "version": "2.7.11"
  }
 },
 "nbformat": 4,
 "nbformat_minor": 0
}
