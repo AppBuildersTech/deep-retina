{
 "cells": [
  {
   "cell_type": "code",
   "execution_count": 8,
   "metadata": {
    "collapsed": false
   },
   "outputs": [
    {
     "name": "stdout",
     "output_type": "stream",
     "text": [
      "The autoreload extension is already loaded. To reload it, use:\n",
      "  %reload_ext autoreload\n"
     ]
    }
   ],
   "source": [
    "import numpy as np\n",
    "from os.path import expanduser\n",
    "import os\n",
    "import json\n",
    "import theano\n",
    "import pyret.filtertools as ft\n",
    "import pyret.visualizations as pyviz\n",
    "from keras.models import model_from_json\n",
    "import h5py\n",
    "import matplotlib.pyplot as plt\n",
    "from scipy.stats import pearsonr\n",
    "%matplotlib inline\n",
    "#%matplotlib qt\n",
    "\n",
    "from pylab import rcParams\n",
    "rcParams['figure.figsize'] = (10.0, 8.0) # set default size of plots\n",
    "rcParams['image.interpolation'] = 'nearest'\n",
    "rcParams['image.cmap'] = 'gray'\n",
    "\n",
    "%load_ext autoreload\n",
    "%autoreload 2"
   ]
  },
  {
   "cell_type": "code",
   "execution_count": 3,
   "metadata": {
    "collapsed": false
   },
   "outputs": [],
   "source": [
    "# deep retina imports\n",
    "import visualizations as viz\n",
    "from preprocessing import datagen, loadexpt\n",
    "from utils import load_model"
   ]
  },
  {
   "cell_type": "code",
   "execution_count": 4,
   "metadata": {
    "collapsed": false
   },
   "outputs": [],
   "source": [
    "# model trained on white noise\n",
    "natural_model_path = expanduser('~/Dropbox/deep-retina/saved/lenna.nirum/2015-12-13 00.27.52 convnet/')\n",
    "natural_weight_name = 'epoch098_iter07000_weights.h5'\n",
    "natural_multimodel = load_model(natural_model_path, natural_weight_name)\n",
    "\n",
    "# model trained on natural scenes\n",
    "white_model_path = expanduser('~/Dropbox/deep-retina/saved/lenna.nirum/2015-12-13 23.20.03 convnet/')\n",
    "white_weight_name = 'epoch097_iter06950_weights.h5'\n",
    "white_multimodel = load_model(white_model_path, white_weight_name)"
   ]
  },
  {
   "cell_type": "markdown",
   "metadata": {},
   "source": [
    "### Get held-out correlation coefficients for each cell individually"
   ]
  },
  {
   "cell_type": "code",
   "execution_count": 5,
   "metadata": {
    "collapsed": false
   },
   "outputs": [
    {
     "name": "stdout",
     "output_type": "stream",
     "text": [
      "Loading testing data... Done.\n",
      "Loading testing data... Done.\n"
     ]
    }
   ],
   "source": [
    "naturalscenes_test = loadexpt([0,1,2,3,4], 'naturalscene', 'test', 40)\n",
    "whitenoise_test = loadexpt([0,1,2,3,4], 'whitenoise', 'test', 40)"
   ]
  },
  {
   "cell_type": "code",
   "execution_count": 6,
   "metadata": {
    "collapsed": true
   },
   "outputs": [],
   "source": [
    "whitenoise_truth = []\n",
    "naturalscenes_truth = []\n",
    "whitenoise_on_whitenoise = []\n",
    "whitenoise_on_naturalscenes = []\n",
    "naturalscenes_on_whitenoise = []\n",
    "naturalscenes_on_naturalscenes = []"
   ]
  },
  {
   "cell_type": "markdown",
   "metadata": {},
   "source": [
    "#### White noise"
   ]
  },
  {
   "cell_type": "code",
   "execution_count": 6,
   "metadata": {
    "collapsed": true
   },
   "outputs": [],
   "source": [
    "for X, y in datagen(50, *whitenoise_test):\n",
    "    whitenoise_truth.extend(y)\n",
    "    whitenoise_on_whitenoise.extend(white_multimodel.predict(X))\n",
    "    naturalscenes_on_whitenoise.extend(natural_multimodel.predict(X))"
   ]
  },
  {
   "cell_type": "code",
   "execution_count": 7,
   "metadata": {
    "collapsed": false
   },
   "outputs": [],
   "source": [
    "whitenoise_truth = np.array(whitenoise_truth)\n",
    "whitenoise_on_whitenoise = np.array(whitenoise_on_whitenoise)"
   ]
  },
  {
   "cell_type": "code",
   "execution_count": 8,
   "metadata": {
    "collapsed": false
   },
   "outputs": [
    {
     "data": {
      "text/plain": [
       "(5950, 5)"
      ]
     },
     "execution_count": 8,
     "metadata": {},
     "output_type": "execute_result"
    }
   ],
   "source": [
    "whitenoise_truth.shape"
   ]
  },
  {
   "cell_type": "code",
   "execution_count": 9,
   "metadata": {
    "collapsed": false
   },
   "outputs": [
    {
     "data": {
      "text/plain": [
       "(5950, 5)"
      ]
     },
     "execution_count": 9,
     "metadata": {},
     "output_type": "execute_result"
    }
   ],
   "source": [
    "whitenoise_on_whitenoise.shape"
   ]
  },
  {
   "cell_type": "code",
   "execution_count": 16,
   "metadata": {
    "collapsed": false
   },
   "outputs": [
    {
     "name": "stdout",
     "output_type": "stream",
     "text": [
      "0.71307593374\n",
      "0.595419152601\n",
      "0.597505528895\n",
      "0.759430525623\n",
      "0.657418143471\n"
     ]
    }
   ],
   "source": [
    "whitenoise_test_cc = []\n",
    "for c in range(5):\n",
    "    whitenoise_test_cc.append(pearsonr(whitenoise_truth[:,c], whitenoise_on_whitenoise[:,c])[0])\n",
    "    print whitenoise_test_cc[-1]"
   ]
  },
  {
   "cell_type": "markdown",
   "metadata": {},
   "source": [
    "#### Natural Scenes"
   ]
  },
  {
   "cell_type": "code",
   "execution_count": 11,
   "metadata": {
    "collapsed": false
   },
   "outputs": [],
   "source": [
    "for X, y in datagen(50, *naturalscenes_test):\n",
    "    naturalscenes_truth.extend(y)\n",
    "    whitenoise_on_naturalscenes.extend(white_multimodel.predict(X))\n",
    "    naturalscenes_on_naturalscenes.extend(natural_multimodel.predict(X))"
   ]
  },
  {
   "cell_type": "code",
   "execution_count": 20,
   "metadata": {
    "collapsed": true
   },
   "outputs": [],
   "source": [
    "naturalscenes_truth = np.array(naturalscenes_truth)\n",
    "whitenoise_on_naturalscenes = np.array(whitenoise_on_naturalscenes)\n",
    "naturalscenes_on_naturalscenes = np.array(naturalscenes_on_naturalscenes)"
   ]
  },
  {
   "cell_type": "code",
   "execution_count": 21,
   "metadata": {
    "collapsed": false
   },
   "outputs": [
    {
     "name": "stdout",
     "output_type": "stream",
     "text": [
      "0.554897368714\n",
      "0.408830967164\n",
      "0.448623911001\n",
      "0.515086977577\n",
      "0.567501401348\n"
     ]
    }
   ],
   "source": [
    "naturalscenes_test_cc = []\n",
    "for c in range(5):\n",
    "    naturalscenes_test_cc.append(pearsonr(naturalscenes_truth[:,c], naturalscenes_on_naturalscenes[:,c])[0])\n",
    "    print naturalscenes_test_cc[-1]"
   ]
  },
  {
   "cell_type": "code",
   "execution_count": 22,
   "metadata": {
    "collapsed": false
   },
   "outputs": [
    {
     "data": {
      "image/png": "[encoded data removed]",
      "text/plain": [
       "<matplotlib.figure.Figure at 0x12bb97910>"
      ]
     },
     "metadata": {},
     "output_type": "display_data"
    }
   ],
   "source": [
    "naturalscenes_weights = h5py.File(natural_model_path + natural_weight_name, 'r')\n",
    "naturalscenes_W0 = naturalscenes_weights['layer_0']['param_0']\n",
    "viz.visualize_convnet_weights(naturalscenes_W0, title='convnet', fig_size=(8,10), dpi=500, space=True, time=True, \n",
    "                              display=True, save=False)"
   ]
  },
  {
   "cell_type": "code",
   "execution_count": 23,
   "metadata": {
    "collapsed": false
   },
   "outputs": [
    {
     "data": {
      "image/png": "[encoded data removed]",
      "text/plain": [
       "<matplotlib.figure.Figure at 0x115f13510>"
      ]
     },
     "metadata": {},
     "output_type": "display_data"
    }
   ],
   "source": [
    "whitenoise_weights = h5py.File(white_model_path + white_weight_name, 'r')\n",
    "whitenoise_W0 = whitenoise_weights['layer_0']['param_0']\n",
    "viz.visualize_convnet_weights(whitenoise_W0, title='convnet', fig_size=(8,10), dpi=500, space=True, time=True, \n",
    "                              display=True, save=False)"
   ]
  },
  {
   "cell_type": "code",
   "execution_count": 28,
   "metadata": {
    "collapsed": false
   },
   "outputs": [
    {
     "data": {
      "text/plain": [
       "[u'param_0', u'param_1']"
      ]
     },
     "execution_count": 28,
     "metadata": {},
     "output_type": "execute_result"
    }
   ],
   "source": [
    "list(naturalscenes_weights['layer_4'])"
   ]
  },
  {
   "cell_type": "code",
   "execution_count": 10,
   "metadata": {
    "collapsed": false
   },
   "outputs": [
    {
     "ename": "AssertionError",
     "evalue": "",
     "output_type": "error",
     "traceback": [
      "\u001b[0;31m---------------------------------------------------------------------------\u001b[0m",
      "\u001b[0;31mAssertionError\u001b[0m                            Traceback (most recent call last)",
      "\u001b[0;32m<ipython-input-10-762d7ea0e8f2>\u001b[0m in \u001b[0;36m<module>\u001b[0;34m()\u001b[0m\n\u001b[0;32m----> 1\u001b[0;31m \u001b[0mnatural_sta_layer1\u001b[0m \u001b[0;34m=\u001b[0m \u001b[0mviz\u001b[0m\u001b[0;34m.\u001b[0m\u001b[0mget_sta\u001b[0m\u001b[0;34m(\u001b[0m\u001b[0mnatural_multimodel\u001b[0m\u001b[0;34m,\u001b[0m \u001b[0;36m4\u001b[0m\u001b[0;34m)\u001b[0m\u001b[0;34m\u001b[0m\u001b[0m\n\u001b[0m",
      "\u001b[0;32m/Users/lmcintosh/code/deep-retina/visualizations.py\u001b[0m in \u001b[0;36mget_sta\u001b[0;34m(model, layer_id, samples, batch_size)\u001b[0m\n\u001b[1;32m    276\u001b[0m     \u001b[0;31m#sta = sta.reshape((*(list(true_response_shape) + [-1])))\u001b[0m\u001b[0;34m\u001b[0m\u001b[0;34m\u001b[0m\u001b[0m\n\u001b[1;32m    277\u001b[0m     \u001b[0;31m#sta = sta.reshape((*true_response_shape, -1))\u001b[0m\u001b[0;34m\u001b[0m\u001b[0;34m\u001b[0m\u001b[0m\n\u001b[0;32m--> 278\u001b[0;31m     \u001b[0;32massert\u001b[0m \u001b[0mlen\u001b[0m\u001b[0;34m(\u001b[0m\u001b[0mtrue_response_shape\u001b[0m\u001b[0;34m)\u001b[0m \u001b[0;34m==\u001b[0m \u001b[0;36m3\u001b[0m\u001b[0;34m\u001b[0m\u001b[0m\n\u001b[0m\u001b[1;32m    279\u001b[0m     \u001b[0msta\u001b[0m \u001b[0;34m=\u001b[0m \u001b[0msta\u001b[0m\u001b[0;34m.\u001b[0m\u001b[0mreshape\u001b[0m\u001b[0;34m(\u001b[0m\u001b[0mtrue_response_shape\u001b[0m\u001b[0;34m[\u001b[0m\u001b[0;36m0\u001b[0m\u001b[0;34m]\u001b[0m\u001b[0;34m,\u001b[0m \u001b[0mtrue_response_shape\u001b[0m\u001b[0;34m[\u001b[0m\u001b[0;36m1\u001b[0m\u001b[0;34m]\u001b[0m\u001b[0;34m,\u001b[0m \u001b[0mtrue_response_shape\u001b[0m\u001b[0;34m[\u001b[0m\u001b[0;36m2\u001b[0m\u001b[0;34m]\u001b[0m\u001b[0;34m,\u001b[0m \u001b[0;34m-\u001b[0m\u001b[0;36m1\u001b[0m\u001b[0;34m)\u001b[0m\u001b[0;34m\u001b[0m\u001b[0m\n\u001b[1;32m    280\u001b[0m     \u001b[0;32mreturn\u001b[0m \u001b[0msta\u001b[0m\u001b[0;34m\u001b[0m\u001b[0m\n",
      "\u001b[0;31mAssertionError\u001b[0m: "
     ]
    }
   ],
   "source": [
    "natural_sta_layer1 = viz.get_sta(natural_multimodel, 4)"
   ]
  },
  {
   "cell_type": "code",
   "execution_count": null,
   "metadata": {
    "collapsed": true
   },
   "outputs": [],
   "source": []
  },
  {
   "cell_type": "code",
   "execution_count": null,
   "metadata": {
    "collapsed": true
   },
   "outputs": [],
   "source": []
  },
  {
   "cell_type": "code",
   "execution_count": 7,
   "metadata": {
    "collapsed": false
   },
   "outputs": [
    {
     "data": {
      "text/plain": [
       "array([[ 6.22887945,  1.90983856,  1.91682184,  7.16639328,  0.41306093]])"
      ]
     },
     "execution_count": 7,
     "metadata": {},
     "output_type": "execute_result"
    }
   ],
   "source": [
    "naturalscenes_multimodel.predict(np.random.randn(1,40,50,50))"
   ]
  },
  {
   "cell_type": "code",
   "execution_count": null,
   "metadata": {
    "collapsed": true
   },
   "outputs": [],
   "source": []
  }
 ],
 "metadata": {
  "kernelspec": {
   "display_name": "Python 2",
   "language": "python",
   "name": "python2"
  },
  "language_info": {
   "codemirror_mode": {
    "name": "ipython",
    "version": 2
   },
   "file_extension": ".py",
   "mimetype": "text/x-python",
   "name": "python",
   "nbconvert_exporter": "python",
   "pygments_lexer": "ipython2",
   "version": "2.7.11"
  }
 },
 "nbformat": 4,
 "nbformat_minor": 0
}
