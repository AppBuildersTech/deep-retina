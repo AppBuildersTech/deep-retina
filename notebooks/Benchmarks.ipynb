{
 "cells": [
  {
   "cell_type": "markdown",
   "metadata": {},
   "source": [
    "# Get the benchmark for retinal ganglion cell precision"
   ]
  },
  {
   "cell_type": "code",
   "execution_count": 77,
   "metadata": {
    "collapsed": false
   },
   "outputs": [
    {
     "name": "stdout",
     "output_type": "stream",
     "text": [
      "The autoreload extension is already loaded. To reload it, use:\n",
      "  %reload_ext autoreload\n"
     ]
    }
   ],
   "source": [
    "from __future__ import print_function\n",
    "import tableprint\n",
    "import numpy as np\n",
    "import h5py\n",
    "from deepretina.modeltools import cc, fev, lli\n",
    "from scipy.stats import pearsonr\n",
    "from math import isnan\n",
    "import matplotlib.pyplot as plt\n",
    "%matplotlib inline\n",
    "%load_ext autoreload\n",
    "%autoreload 2"
   ]
  },
  {
   "cell_type": "markdown",
   "metadata": {},
   "source": [
    "# Whitenoise"
   ]
  },
  {
   "cell_type": "code",
   "execution_count": 2,
   "metadata": {
    "collapsed": false
   },
   "outputs": [
    {
     "data": {
      "text/plain": [
       "[u'spikes', u'test', u'train']"
      ]
     },
     "execution_count": 2,
     "metadata": {},
     "output_type": "execute_result"
    }
   ],
   "source": [
    "filename = '/Users/lmcintosh/experiments/data/15-10-07/whitenoise.h5'\n",
    "f = h5py.File(filename, 'r')\n",
    "list(f)"
   ]
  },
  {
   "cell_type": "code",
   "execution_count": 3,
   "metadata": {
    "collapsed": true
   },
   "outputs": [],
   "source": [
    "all_repeats = f['test/repeats']"
   ]
  },
  {
   "cell_type": "code",
   "execution_count": 4,
   "metadata": {
    "collapsed": false
   },
   "outputs": [],
   "source": [
    "num_repeats = 6\n",
    "num_cells = 9\n",
    "\n",
    "pearsonrs = np.zeros((num_repeats, num_cells)) # pearson r\n",
    "ccs = np.zeros((num_repeats, num_cells)) # correlation coefficient via numpy\n",
    "fevs = np.zeros((num_repeats, num_cells)) # fraction variance explained\n",
    "llis = np.zeros((num_repeats, num_cells)) # log likelihood improvement\n",
    "\n",
    "for cell_idx, key in enumerate(list(all_repeats)):\n",
    "    repeats = f['test/repeats/' + key]\n",
    "    for rep in range(repeats.shape[0]):\n",
    "        other_repeats = [i for i in range(repeats.shape[0]) if i != rep]\n",
    "        average_other_repeat = np.mean(repeats[other_repeats], axis=0)\n",
    "        pearsonrs[rep, cell_idx] = pearsonr(average_other_repeat, repeats[rep])[0]\n",
    "        ccs[rep, cell_idx] = cc(average_other_repeat, repeats[rep])\n",
    "        fevs[rep, cell_idx] = fev(average_other_repeat, repeats[rep])\n",
    "        llis[rep, cell_idx] = lli(np.array(average_other_repeat), repeats[rep])"
   ]
  },
  {
   "cell_type": "code",
   "execution_count": 7,
   "metadata": {
    "collapsed": false
   },
   "outputs": [
    {
     "name": "stdout",
     "output_type": "stream",
     "text": [
      "+-----------+------------+------------+------------+------------+------------+------------+------------+-----------+\n",
      "|cell 0     | cell 1     | cell 2     | cell 3     | cell 4     | cell 5     | cell 6     | cell 7     | cell 8    |\n",
      "+-----------+------------+------------+------------+------------+------------+------------+------------+-----------+\n",
      "|   0.82179 |    0.59263 |    0.51395 |    0.84968 |    0.67737 |    0.58897 |    0.35028 |     0.3574 |   0.012609|\n",
      "|   0.82179 |    0.59263 |    0.51395 |    0.84968 |    0.67737 |    0.58897 |    0.35028 |     0.3574 |   0.012609|\n",
      "|   0.55903 |   -0.23348 |   -0.67488 |    0.64526 |   0.055597 |   -0.26886 |    -1.5741 |    -1.6394 |    -5.3845|\n",
      "|    6.5662 |     6.5931 |     23.515 |     8.6988 |     15.686 |     7.1085 |    -5.7121 |    -10.069 |    -10.139|\n",
      "+-----------+------------+------------+------------+------------+------------+------------+------------+-----------+\n"
     ]
    }
   ],
   "source": [
    "print(tableprint.hr(9))\n",
    "print(tableprint.header(['cell 0', 'cell 1', 'cell 2', 'cell 3', 'cell 4', 'cell 5', 'cell 6', 'cell 7', 'cell 8']))\n",
    "print(tableprint.hr(9))\n",
    "print(tableprint.row(np.mean(pearsonrs, axis=0)))\n",
    "print(tableprint.row(np.mean(ccs, axis=0)))\n",
    "print(tableprint.row(np.mean(fevs, axis=0)))\n",
    "print(tableprint.row(np.mean(llis, axis=0)))\n",
    "print(tableprint.hr(9))"
   ]
  },
  {
   "cell_type": "markdown",
   "metadata": {},
   "source": [
    "#### Across cells 0 to 4 (first five cells)"
   ]
  },
  {
   "cell_type": "code",
   "execution_count": 12,
   "metadata": {
    "collapsed": false
   },
   "outputs": [
    {
     "name": "stdout",
     "output_type": "stream",
     "text": [
      "+-----------+------------+-----------+\n",
      "|correlation | f.e.v.     | l.l.i.    |\n",
      "+-----------+------------+-----------+\n",
      "|   0.69108 |   0.070303 |     12.212|\n",
      "+-----------+------------+-----------+\n"
     ]
    }
   ],
   "source": [
    "print(tableprint.hr(3))\n",
    "print(tableprint.header(['correlation', 'f.e.v.', 'l.l.i.']))\n",
    "print(tableprint.hr(3))\n",
    "print(tableprint.row([np.mean(pearsonrs[:,:5]), np.mean(fevs[:,:5]), np.mean(llis[:,:5])]))\n",
    "print(tableprint.hr(3))"
   ]
  },
  {
   "cell_type": "code",
   "execution_count": 13,
   "metadata": {
    "collapsed": true
   },
   "outputs": [],
   "source": [
    "f.close()"
   ]
  },
  {
   "cell_type": "markdown",
   "metadata": {},
   "source": [
    "# Natural scenes"
   ]
  },
  {
   "cell_type": "code",
   "execution_count": 15,
   "metadata": {
    "collapsed": false
   },
   "outputs": [],
   "source": [
    "filename = '/Users/lmcintosh/experiments/data/15-10-07/naturalscene.h5'\n",
    "f = h5py.File(filename, 'r')\n",
    "all_repeats = f['test/repeats']"
   ]
  },
  {
   "cell_type": "code",
   "execution_count": 17,
   "metadata": {
    "collapsed": false
   },
   "outputs": [
    {
     "name": "stdout",
     "output_type": "stream",
     "text": [
      "+-----------+------------+------------+------------+------------+------------+------------+------------+-----------+\n",
      "|cell 0     | cell 1     | cell 2     | cell 3     | cell 4     | cell 5     | cell 6     | cell 7     | cell 8    |\n",
      "+-----------+------------+------------+------------+------------+------------+------------+------------+-----------+\n",
      "|   0.64975 |     0.4166 |     0.3958 |    0.66056 |    0.62141 |    0.50569 |    0.39033 |    0.34272 |  -0.015435|\n",
      "|   0.64975 |     0.4166 |     0.3958 |    0.66056 |    0.62141 |    0.50569 |    0.39033 |    0.34272 |  -0.015435|\n",
      "|   0.37654 |   -0.45578 |   -0.57656 |    0.41076 |    0.29812 |   -0.10092 |   -0.58713 |   -0.83546 |    -4.0507|\n",
      "|    8.9547 |     2.7442 |     3.7002 |     12.163 |     18.548 |     4.8342 |   -0.90738 |    -7.7262 |    -7.8972|\n",
      "+-----------+------------+------------+------------+------------+------------+------------+------------+-----------+\n"
     ]
    }
   ],
   "source": [
    "num_repeats = 6\n",
    "num_cells = 9\n",
    "\n",
    "pearsonrs = np.zeros((num_repeats, num_cells)) # pearson r\n",
    "ccs = np.zeros((num_repeats, num_cells)) # correlation coefficient via numpy\n",
    "fevs = np.zeros((num_repeats, num_cells)) # fraction variance explained\n",
    "llis = np.zeros((num_repeats, num_cells)) # log likelihood improvement\n",
    "\n",
    "for cell_idx, key in enumerate(list(all_repeats)):\n",
    "    repeats = f['test/repeats/' + key]\n",
    "    for rep in range(repeats.shape[0]):\n",
    "        other_repeats = [i for i in range(repeats.shape[0]) if i != rep]\n",
    "        average_other_repeat = np.mean(repeats[other_repeats], axis=0)\n",
    "        pearsonrs[rep, cell_idx] = pearsonr(average_other_repeat, repeats[rep])[0]\n",
    "        ccs[rep, cell_idx] = cc(average_other_repeat, repeats[rep])\n",
    "        fevs[rep, cell_idx] = fev(average_other_repeat, repeats[rep])\n",
    "        llis[rep, cell_idx] = lli(np.array(average_other_repeat), repeats[rep])\n",
    "\n",
    "print(tableprint.hr(9))\n",
    "print(tableprint.header(['cell 0', 'cell 1', 'cell 2', 'cell 3', 'cell 4', 'cell 5', 'cell 6', 'cell 7', 'cell 8']))\n",
    "print(tableprint.hr(9))\n",
    "print(tableprint.row(np.mean(pearsonrs, axis=0)))\n",
    "print(tableprint.row(np.mean(ccs, axis=0)))\n",
    "print(tableprint.row(np.mean(fevs, axis=0)))\n",
    "print(tableprint.row(np.mean(llis, axis=0)))\n",
    "print(tableprint.hr(9))"
   ]
  },
  {
   "cell_type": "markdown",
   "metadata": {},
   "source": [
    "#### Across first five cells"
   ]
  },
  {
   "cell_type": "code",
   "execution_count": 18,
   "metadata": {
    "collapsed": false
   },
   "outputs": [
    {
     "name": "stdout",
     "output_type": "stream",
     "text": [
      "+-----------+------------+-----------+\n",
      "|correlation | f.e.v.     | l.l.i.    |\n",
      "+-----------+------------+-----------+\n",
      "|   0.54882 |   0.010614 |     9.2219|\n",
      "+-----------+------------+-----------+\n"
     ]
    }
   ],
   "source": [
    "print(tableprint.hr(3))\n",
    "print(tableprint.header(['correlation', 'f.e.v.', 'l.l.i.']))\n",
    "print(tableprint.hr(3))\n",
    "print(tableprint.row([np.mean(pearsonrs[:,:5]), np.mean(fevs[:,:5]), np.mean(llis[:,:5])]))\n",
    "print(tableprint.hr(3))"
   ]
  },
  {
   "cell_type": "code",
   "execution_count": 19,
   "metadata": {
    "collapsed": true
   },
   "outputs": [],
   "source": [
    "f.close()"
   ]
  },
  {
   "cell_type": "markdown",
   "metadata": {},
   "source": [
    "# Structured stimuli"
   ]
  },
  {
   "cell_type": "code",
   "execution_count": 47,
   "metadata": {
    "collapsed": false
   },
   "outputs": [],
   "source": [
    "filename = '/Users/lmcintosh/experiments/data/16-01-07/structured.h5'\n",
    "f = h5py.File(filename, 'r')\n",
    "all_repeats = f['test/repeats']"
   ]
  },
  {
   "cell_type": "code",
   "execution_count": 48,
   "metadata": {
    "collapsed": false
   },
   "outputs": [
    {
     "name": "stdout",
     "output_type": "stream",
     "text": [
      "+-----------+------------+------------+------------+------------+------------+------------+------------+-----------+\n",
      "|cell 0     | cell 1     | cell 2     | cell 3     | cell 4     | cell 5     | cell 6     | cell 7     | cell 8    |\n",
      "+-----------+------------+------------+------------+------------+------------+------------+------------+-----------+\n",
      "|   0.72879 |    0.49239 |    0.43043 |   0.013919 |   0.084205 |    0.11707 |    0.24442 |    0.50037 |    0.66739|\n",
      "|   0.72879 |    0.49239 |    0.43043 |   0.013919 |   0.084205 |    0.11707 |    0.24442 |    0.50037 |    0.66739|\n",
      "|   0.38646 |   -0.24777 |   -0.44839 |    -1.9425 |    -1.6905 |    -1.5702 |    -1.1436 |   -0.33145 |    0.24141|\n",
      "|     8.257 |    -69.072 |    -2.1248 |    -33.928 |    -62.165 |    -25.032 |    -91.812 |    -7.4598 |     8.5147|\n",
      "+-----------+------------+------------+------------+------------+------------+------------+------------+-----------+\n"
     ]
    }
   ],
   "source": [
    "num_repeats = 3\n",
    "num_cells = 33\n",
    "\n",
    "pearsonrs = np.zeros((num_repeats, num_cells)) # pearson r\n",
    "ccs = np.zeros((num_repeats, num_cells)) # correlation coefficient via numpy\n",
    "fevs = np.zeros((num_repeats, num_cells)) # fraction variance explained\n",
    "llis = np.zeros((num_repeats, num_cells)) # log likelihood improvement\n",
    "\n",
    "for cell_idx, key in enumerate(list(all_repeats)):\n",
    "    repeats = f['test/repeats/' + key]\n",
    "    for rep in range(repeats.shape[0]):\n",
    "        other_repeats = [i for i in range(repeats.shape[0]) if i != rep]\n",
    "        average_other_repeat = np.mean(repeats[other_repeats], axis=0)\n",
    "        pearsonrs[rep, cell_idx] = pearsonr(average_other_repeat, repeats[rep])[0]\n",
    "        ccs[rep, cell_idx] = cc(average_other_repeat, repeats[rep])\n",
    "        fevs[rep, cell_idx] = fev(average_other_repeat, repeats[rep])\n",
    "        llis[rep, cell_idx] = lli(np.array(average_other_repeat), repeats[rep])\n",
    "\n",
    "# just look at first 9 cells\n",
    "print(tableprint.hr(9))\n",
    "print(tableprint.header(['cell 0', 'cell 1', 'cell 2', 'cell 3', 'cell 4', 'cell 5', 'cell 6', 'cell 7', 'cell 8']))\n",
    "print(tableprint.hr(9))\n",
    "print(tableprint.row(np.mean(pearsonrs[:,:9], axis=0)))\n",
    "print(tableprint.row(np.mean(ccs[:,:9], axis=0)))\n",
    "print(tableprint.row(np.mean(fevs[:,:9], axis=0)))\n",
    "print(tableprint.row(np.mean(llis[:,:9], axis=0)))\n",
    "print(tableprint.hr(9))"
   ]
  },
  {
   "cell_type": "code",
   "execution_count": 56,
   "metadata": {
    "collapsed": false
   },
   "outputs": [
    {
     "data": {
      "text/plain": [
       "<Container object of 10 artists>"
      ]
     },
     "execution_count": 56,
     "metadata": {},
     "output_type": "execute_result"
    },
    {
     "data": {
      "image/png": "[encoded data removed]",
      "text/plain": [
       "<matplotlib.figure.Figure at 0x113caea50>"
      ]
     },
     "metadata": {},
     "output_type": "display_data"
    }
   ],
   "source": [
    "counts, bins = np.histogram(np.nanmean(pearsonrs, axis=0))\n",
    "plt.bar(bins[:-1], counts, width=0.07, color='k')"
   ]
  },
  {
   "cell_type": "code",
   "execution_count": 46,
   "metadata": {
    "collapsed": true
   },
   "outputs": [],
   "source": [
    "f.close()"
   ]
  },
  {
   "cell_type": "code",
   "execution_count": 87,
   "metadata": {
    "collapsed": true
   },
   "outputs": [],
   "source": [
    "filename = '/Users/lmcintosh/experiments/data/16-01-08/structured.h5'\n",
    "f = h5py.File(filename, 'r')\n",
    "all_repeats = f['test/repeats']"
   ]
  },
  {
   "cell_type": "code",
   "execution_count": 88,
   "metadata": {
    "collapsed": false
   },
   "outputs": [
    {
     "name": "stdout",
     "output_type": "stream",
     "text": [
      "+-----------+------------+------------+------------+------------+------------+------------+------------+-----------+\n",
      "|cell 0     | cell 1     | cell 2     | cell 3     | cell 4     | cell 5     | cell 6     | cell 7     | cell 8    |\n",
      "+-----------+------------+------------+------------+------------+------------+------------+------------+-----------+\n",
      "|    0.6551 |    0.17254 |    0.29339 |    0.58913 |        nan |    0.22524 |   0.098713 |        nan |    0.22317|\n",
      "|    0.6551 |    0.17254 |    0.29339 |    0.58913 |        nan |    0.22524 |   0.098713 |        nan |    0.22317|\n",
      "|   0.20148 |    -1.3782 |    -0.9509 |  -0.060762 |    -2.6688 |    -2.0744 |    -2.1229 |    -1.4669 |    -1.2985|\n",
      "|   -3.1931 |    -29.701 |    -21.036 |    -4.8229 |        nan |    -83.806 |    -86.464 |        nan |    -17.696|\n",
      "+-----------+------------+------------+------------+------------+------------+------------+------------+-----------+\n"
     ]
    }
   ],
   "source": [
    "num_repeats = 3\n",
    "num_cells = 14\n",
    "\n",
    "pearsonrs = np.zeros((num_repeats, num_cells)) # pearson r\n",
    "ccs = np.zeros((num_repeats, num_cells)) # correlation coefficient via numpy\n",
    "fevs = np.zeros((num_repeats, num_cells)) # fraction variance explained\n",
    "llis = np.zeros((num_repeats, num_cells)) # log likelihood improvement\n",
    "\n",
    "for cell_idx, key in enumerate(list(all_repeats)):\n",
    "    repeats = f['test/repeats/' + key]\n",
    "    for rep in range(repeats.shape[0]):\n",
    "        other_repeats = [i for i in range(repeats.shape[0]) if i != rep]\n",
    "        average_other_repeat = np.mean(repeats[other_repeats], axis=0)\n",
    "        pearsonrs[rep, cell_idx] = pearsonr(average_other_repeat, repeats[rep])[0]\n",
    "        ccs[rep, cell_idx] = cc(average_other_repeat, repeats[rep])\n",
    "        fevs[rep, cell_idx] = fev(average_other_repeat, repeats[rep])\n",
    "        llis[rep, cell_idx] = lli(np.array(average_other_repeat), repeats[rep])\n",
    "\n",
    "# just look at first 9 cells\n",
    "print(tableprint.hr(9))\n",
    "print(tableprint.header(['cell 0', 'cell 1', 'cell 2', 'cell 3', 'cell 4', 'cell 5', 'cell 6', 'cell 7', 'cell 8']))\n",
    "print(tableprint.hr(9))\n",
    "print(tableprint.row(np.mean(pearsonrs[:,:9], axis=0)))\n",
    "print(tableprint.row(np.mean(ccs[:,:9], axis=0)))\n",
    "print(tableprint.row(np.mean(fevs[:,:9], axis=0)))\n",
    "print(tableprint.row(np.mean(llis[:,:9], axis=0)))\n",
    "print(tableprint.hr(9))"
   ]
  },
  {
   "cell_type": "code",
   "execution_count": 89,
   "metadata": {
    "collapsed": false
   },
   "outputs": [
    {
     "data": {
      "text/plain": [
       "<Container object of 10 artists>"
      ]
     },
     "execution_count": 89,
     "metadata": {},
     "output_type": "execute_result"
    },
    {
     "data": {
      "image/png": "[encoded data removed]",
      "text/plain": [
       "<matplotlib.figure.Figure at 0x1143860d0>"
      ]
     },
     "metadata": {},
     "output_type": "display_data"
    }
   ],
   "source": [
    "mean_cc = np.nanmean(pearsonrs, axis=0)\n",
    "avoid_nans = [i for i in range(len(mean_cc)) if not isnan(mean_cc[i])]\n",
    "counts, bins = np.histogram(mean_cc[avoid_nans])\n",
    "plt.bar(bins[:-1], counts, width=.05, color='k')"
   ]
  },
  {
   "cell_type": "code",
   "execution_count": null,
   "metadata": {
    "collapsed": true
   },
   "outputs": [],
   "source": []
  },
  {
   "cell_type": "markdown",
   "metadata": {},
   "source": [
    "# Natural movie"
   ]
  },
  {
   "cell_type": "code",
   "execution_count": 27,
   "metadata": {
    "collapsed": true
   },
   "outputs": [],
   "source": [
    "filename = '/Users/lmcintosh/experiments/data/16-01-07/naturalmovie.h5'\n",
    "f = h5py.File(filename, 'r')\n",
    "all_repeats = f['test/repeats']"
   ]
  },
  {
   "cell_type": "code",
   "execution_count": 28,
   "metadata": {
    "collapsed": false
   },
   "outputs": [
    {
     "name": "stdout",
     "output_type": "stream",
     "text": [
      "+-----------+------------+------------+------------+------------+------------+------------+------------+-----------+\n",
      "|cell 0     | cell 1     | cell 2     | cell 3     | cell 4     | cell 5     | cell 6     | cell 7     | cell 8    |\n",
      "+-----------+------------+------------+------------+------------+------------+------------+------------+-----------+\n",
      "|   0.64431 |    0.63779 |    0.37948 | -0.0029353 | -0.0019541 |    0.27431 |    0.40143 |    0.48189 |    0.40408|\n",
      "|   0.64431 |    0.63779 |    0.37948 | -0.0029353 | -0.0019541 |    0.27431 |    0.40143 |    0.48189 |    0.40408|\n",
      "|   0.13911 |   0.061803 |   -0.63463 |    -2.0613 |    -2.2045 |   -0.97492 |    -0.6544 |   -0.77887 |   -0.55454|\n",
      "|   -14.354 |      -6.84 |    -15.346 |     -46.73 |    -70.223 |    -40.103 |    -124.91 |     151.72 |    -467.37|\n",
      "+-----------+------------+------------+------------+------------+------------+------------+------------+-----------+\n"
     ]
    }
   ],
   "source": [
    "num_repeats = 3\n",
    "num_cells = 33\n",
    "\n",
    "pearsonrs = np.zeros((num_repeats, num_cells)) # pearson r\n",
    "ccs = np.zeros((num_repeats, num_cells)) # correlation coefficient via numpy\n",
    "fevs = np.zeros((num_repeats, num_cells)) # fraction variance explained\n",
    "llis = np.zeros((num_repeats, num_cells)) # log likelihood improvement\n",
    "\n",
    "for cell_idx, key in enumerate(list(all_repeats)):\n",
    "    repeats = f['test/repeats/' + key]\n",
    "    for rep in range(repeats.shape[0]):\n",
    "        other_repeats = [i for i in range(repeats.shape[0]) if i != rep]\n",
    "        average_other_repeat = np.mean(repeats[other_repeats], axis=0)\n",
    "        pearsonrs[rep, cell_idx] = pearsonr(average_other_repeat, repeats[rep])[0]\n",
    "        ccs[rep, cell_idx] = cc(average_other_repeat, repeats[rep])\n",
    "        fevs[rep, cell_idx] = fev(average_other_repeat, repeats[rep])\n",
    "        llis[rep, cell_idx] = lli(np.array(average_other_repeat), repeats[rep])\n",
    "\n",
    "# just look at first 9 cells\n",
    "print(tableprint.hr(9))\n",
    "print(tableprint.header(['cell 0', 'cell 1', 'cell 2', 'cell 3', 'cell 4', 'cell 5', 'cell 6', 'cell 7', 'cell 8']))\n",
    "print(tableprint.hr(9))\n",
    "print(tableprint.row(np.mean(pearsonrs[:,:9], axis=0)))\n",
    "print(tableprint.row(np.mean(ccs[:,:9], axis=0)))\n",
    "print(tableprint.row(np.mean(fevs[:,:9], axis=0)))\n",
    "print(tableprint.row(np.mean(llis[:,:9], axis=0)))\n",
    "print(tableprint.hr(9))"
   ]
  },
  {
   "cell_type": "code",
   "execution_count": 38,
   "metadata": {
    "collapsed": false
   },
   "outputs": [
    {
     "data": {
      "text/plain": [
       "<Container object of 10 artists>"
      ]
     },
     "execution_count": 38,
     "metadata": {},
     "output_type": "execute_result"
    },
    {
     "data": {
      "image/png": "[encoded data removed]",
      "text/plain": [
       "<matplotlib.figure.Figure at 0x1133364d0>"
      ]
     },
     "metadata": {},
     "output_type": "display_data"
    }
   ],
   "source": [
    "counts, bins = np.histogram(np.mean(pearsonrs, axis=0))\n",
    "plt.bar(bins[:-1], counts, width=.05, color='k')"
   ]
  },
  {
   "cell_type": "code",
   "execution_count": 57,
   "metadata": {
    "collapsed": true
   },
   "outputs": [],
   "source": [
    "f.close()"
   ]
  },
  {
   "cell_type": "code",
   "execution_count": 58,
   "metadata": {
    "collapsed": true
   },
   "outputs": [],
   "source": [
    "filename = '/Users/lmcintosh/experiments/data/16-01-08/naturalmovie.h5'\n",
    "f = h5py.File(filename, 'r')\n",
    "all_repeats = f['test/repeats']"
   ]
  },
  {
   "cell_type": "code",
   "execution_count": 59,
   "metadata": {
    "collapsed": false
   },
   "outputs": [
    {
     "name": "stdout",
     "output_type": "stream",
     "text": [
      "+-----------+------------+------------+------------+------------+------------+------------+------------+-----------+\n",
      "|cell 0     | cell 1     | cell 2     | cell 3     | cell 4     | cell 5     | cell 6     | cell 7     | cell 8    |\n",
      "+-----------+------------+------------+------------+------------+------------+------------+------------+-----------+\n",
      "|    0.7853 |    0.34393 |    0.37864 |     0.7012 |        nan |   0.092987 |    0.10988 |        nan |    0.37406|\n",
      "|    0.7853 |    0.34393 |    0.37864 |     0.7012 |        nan |   0.092987 |    0.10988 |        nan |    0.37406|\n",
      "|    0.3865 |   -0.99419 |   -0.74028 |   0.082993 |        nan |    -2.3629 |    -3.3756 |    -18.766 |    -1.0254|\n",
      "|    2.7893 |    -34.465 |    -23.098 |    -6.4358 |        nan |    -3549.5 |    -123.17 |        nan |    -33.062|\n",
      "+-----------+------------+------------+------------+------------+------------+------------+------------+-----------+\n"
     ]
    }
   ],
   "source": [
    "num_repeats = 3\n",
    "num_cells = 14\n",
    "\n",
    "pearsonrs = np.zeros((num_repeats, num_cells)) # pearson r\n",
    "ccs = np.zeros((num_repeats, num_cells)) # correlation coefficient via numpy\n",
    "fevs = np.zeros((num_repeats, num_cells)) # fraction variance explained\n",
    "llis = np.zeros((num_repeats, num_cells)) # log likelihood improvement\n",
    "\n",
    "for cell_idx, key in enumerate(list(all_repeats)):\n",
    "    repeats = f['test/repeats/' + key]\n",
    "    for rep in range(repeats.shape[0]):\n",
    "        other_repeats = [i for i in range(repeats.shape[0]) if i != rep]\n",
    "        average_other_repeat = np.mean(repeats[other_repeats], axis=0)\n",
    "        pearsonrs[rep, cell_idx] = pearsonr(average_other_repeat, repeats[rep])[0]\n",
    "        ccs[rep, cell_idx] = cc(average_other_repeat, repeats[rep])\n",
    "        fevs[rep, cell_idx] = fev(average_other_repeat, repeats[rep])\n",
    "        llis[rep, cell_idx] = lli(np.array(average_other_repeat), repeats[rep])\n",
    "\n",
    "# just look at first 9 cells\n",
    "print(tableprint.hr(9))\n",
    "print(tableprint.header(['cell 0', 'cell 1', 'cell 2', 'cell 3', 'cell 4', 'cell 5', 'cell 6', 'cell 7', 'cell 8']))\n",
    "print(tableprint.hr(9))\n",
    "print(tableprint.row(np.mean(pearsonrs[:,:9], axis=0)))\n",
    "print(tableprint.row(np.mean(ccs[:,:9], axis=0)))\n",
    "print(tableprint.row(np.mean(fevs[:,:9], axis=0)))\n",
    "print(tableprint.row(np.mean(llis[:,:9], axis=0)))\n",
    "print(tableprint.hr(9))"
   ]
  },
  {
   "cell_type": "code",
   "execution_count": 86,
   "metadata": {
    "collapsed": false
   },
   "outputs": [
    {
     "data": {
      "text/plain": [
       "<Container object of 10 artists>"
      ]
     },
     "execution_count": 86,
     "metadata": {},
     "output_type": "execute_result"
    },
    {
     "data": {
      "image/png": "[encoded data removed]",
      "text/plain": [
       "<matplotlib.figure.Figure at 0x1140a6ed0>"
      ]
     },
     "metadata": {},
     "output_type": "display_data"
    }
   ],
   "source": [
    "mean_cc = np.nanmean(pearsonrs, axis=0)\n",
    "avoid_nans = [i for i in range(len(mean_cc)) if not isnan(mean_cc[i])]\n",
    "counts, bins = np.histogram(mean_cc[avoid_nans])\n",
    "plt.bar(bins[:-1], counts, width=.05, color='k')"
   ]
  },
  {
   "cell_type": "code",
   "execution_count": 75,
   "metadata": {
    "collapsed": false
   },
   "outputs": [],
   "source": []
  },
  {
   "cell_type": "code",
   "execution_count": null,
   "metadata": {
    "collapsed": true
   },
   "outputs": [],
   "source": []
  }
 ],
 "metadata": {
  "kernelspec": {
   "display_name": "Python 2",
   "language": "python",
   "name": "python2"
  },
  "language_info": {
   "codemirror_mode": {
    "name": "ipython",
    "version": 2
   },
   "file_extension": ".py",
   "mimetype": "text/x-python",
   "name": "python",
   "nbconvert_exporter": "python",
   "pygments_lexer": "ipython2",
   "version": "2.7.11"
  }
 },
 "nbformat": 4,
 "nbformat_minor": 0
}
