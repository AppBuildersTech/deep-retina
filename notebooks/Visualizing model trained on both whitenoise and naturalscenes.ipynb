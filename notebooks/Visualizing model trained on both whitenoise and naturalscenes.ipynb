{
 "cells": [
  {
   "cell_type": "markdown",
   "metadata": {},
   "source": [
    "# Convnet trained on both whitenoise and natural scenes for all cells in 15-10-07 experiment"
   ]
  },
  {
   "cell_type": "code",
   "execution_count": 1,
   "metadata": {
    "collapsed": false
   },
   "outputs": [
    {
     "name": "stderr",
     "output_type": "stream",
     "text": [
      "Using gpu device 0: GeForce GT 750M (CNMeM is disabled)\n"
     ]
    }
   ],
   "source": [
    "import numpy as np\n",
    "from os.path import expanduser\n",
    "import os\n",
    "import json\n",
    "import theano\n",
    "import tableprint\n",
    "import pyret.filtertools as ft\n",
    "import pyret.visualizations as pyviz\n",
    "from keras.models import model_from_json\n",
    "import h5py\n",
    "import matplotlib.pyplot as plt\n",
    "from scipy.stats import pearsonr\n",
    "%matplotlib inline\n",
    "#%matplotlib qt\n",
    "\n",
    "from pylab import rcParams\n",
    "rcParams['figure.figsize'] = (10.0, 8.0) # set default size of plots\n",
    "rcParams['image.interpolation'] = 'nearest'\n",
    "rcParams['image.cmap'] = 'gray'\n",
    "\n",
    "%load_ext autoreload\n",
    "%autoreload 2"
   ]
  },
  {
   "cell_type": "code",
   "execution_count": 7,
   "metadata": {
    "collapsed": true
   },
   "outputs": [],
   "source": [
    "# deep retina imports\n",
    "import deepretina.visualizations as viz\n",
    "from deepretina.preprocessing import datagen, loadexpt\n",
    "from deepretina.modeltools import load_model, load_partial_model, list_layers, get_performance, get_weights, get_test_responses"
   ]
  },
  {
   "cell_type": "markdown",
   "metadata": {},
   "source": [
    "## Load model"
   ]
  },
  {
   "cell_type": "code",
   "execution_count": 3,
   "metadata": {
    "collapsed": true
   },
   "outputs": [],
   "source": [
    "model_path = '/Users/lmcintosh/data/deep-retina/saved/lenna.salamander/2016-01-26 10.35.16 convnet/'\n",
    "weight_name = 'epoch029_iter04250_weights.h5'"
   ]
  },
  {
   "cell_type": "code",
   "execution_count": 4,
   "metadata": {
    "collapsed": true
   },
   "outputs": [],
   "source": [
    "mdl = load_model(model_path, weight_name)"
   ]
  },
  {
   "cell_type": "code",
   "execution_count": 5,
   "metadata": {
    "collapsed": false
   },
   "outputs": [
    {
     "name": "stdout",
     "output_type": "stream",
     "text": [
      "+-----------+------------+-----------+\n",
      "|layer      | weights    | biases    |\n",
      "+-----------+------------+-----------+\n",
      "|   layer_0 |    param_0 |    param_1|\n",
      "|   layer_1 |            |           |\n",
      "|   layer_2 |            |           |\n",
      "|   layer_3 |            |           |\n",
      "|   layer_4 |    param_0 |    param_1|\n",
      "|   layer_5 |            |           |\n",
      "|   layer_6 |    param_0 |    param_1|\n",
      "+-----------+------------+-----------+\n"
     ]
    }
   ],
   "source": [
    "list_layers(model_path, weight_name)"
   ]
  },
  {
   "cell_type": "code",
   "execution_count": null,
   "metadata": {
    "collapsed": false
   },
   "outputs": [
    {
     "name": "stdout",
     "output_type": "stream",
     "text": [
      "Loading testing data... "
     ]
    }
   ],
   "source": [
    "true_white, predicted_white = get_test_responses(mdl, stim_type='white', cells=[0,1,2,3,4])\n",
    "true_natural, predicted_natural = get_test_responses(mdl, stim_type='natural', cells=[0,1,2,3,4])"
   ]
  },
  {
   "cell_type": "code",
   "execution_count": null,
   "metadata": {
    "collapsed": true
   },
   "outputs": [],
   "source": []
  }
 ],
 "metadata": {
  "kernelspec": {
   "display_name": "Python 2",
   "language": "python",
   "name": "python2"
  },
  "language_info": {
   "codemirror_mode": {
    "name": "ipython",
    "version": 2
   },
   "file_extension": ".py",
   "mimetype": "text/x-python",
   "name": "python",
   "nbconvert_exporter": "python",
   "pygments_lexer": "ipython2",
   "version": "2.7.11"
  }
 },
 "nbformat": 4,
 "nbformat_minor": 0
}
