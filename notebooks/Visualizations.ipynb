{
 "cells": [
  {
   "cell_type": "markdown",
   "metadata": {},
   "source": [
    "# Best performing model on natural scenes was 8 conv + 16 affine. Visualize it!"
   ]
  },
  {
   "cell_type": "code",
   "execution_count": 1,
   "metadata": {
    "collapsed": false
   },
   "outputs": [
    {
     "name": "stderr",
     "output_type": "stream",
     "text": [
      "Using gpu device 0: GeForce GT 750M (CNMeM is disabled)\n"
     ]
    }
   ],
   "source": [
    "import numpy as np\n",
    "from os.path import expanduser\n",
    "import os\n",
    "import json\n",
    "import theano\n",
    "import pyret.filtertools as ft\n",
    "import pyret.visualizations as pyviz\n",
    "import deepretina.visualizations as viz\n",
    "from deepretina.preprocessing import datagen, loadexpt\n",
    "from keras.models import model_from_json\n",
    "import h5py\n",
    "import matplotlib.pyplot as plt\n",
    "from scipy.stats import pearsonr\n",
    "%matplotlib inline\n",
    "#%matplotlib qt\n",
    "\n",
    "from pylab import rcParams\n",
    "rcParams['figure.figsize'] = (10.0, 8.0) # set default size of plots\n",
    "rcParams['image.interpolation'] = 'nearest'\n",
    "rcParams['image.cmap'] = 'gray'"
   ]
  },
  {
   "cell_type": "code",
   "execution_count": 2,
   "metadata": {
    "collapsed": true
   },
   "outputs": [],
   "source": [
    "architecture_filename = 'architecture.json'\n",
    "whitenoise_data_dir = expanduser('~/Dropbox/deep-retina/saved/lenna.salamander/2015-11-08 15.42.33 convnet/')\n",
    "whitenoise_weight_filename = 'epoch018_iter01300_weights.h5' # .63 cc on held-out\n",
    "naturalscenes_data_dir = expanduser('~/Dropbox/deep-retina/saved/lenna.salamander/2015-11-07 16.52.44 convnet/')\n",
    "naturalscenes_weight_filename = 'epoch038_iter02700_weights.h5' # .53 cc on held-out"
   ]
  },
  {
   "cell_type": "markdown",
   "metadata": {},
   "source": [
    "#### Load white noise model"
   ]
  },
  {
   "cell_type": "code",
   "execution_count": 3,
   "metadata": {
    "collapsed": false
   },
   "outputs": [],
   "source": [
    "whitenoise_architecture_data = open(whitenoise_data_dir + architecture_filename, 'r')\n",
    "whitenoise_architecture_string = whitenoise_architecture_data.read()\n",
    "whitenoise_model = model_from_json(whitenoise_architecture_string)\n",
    "whitenoise_model.load_weights(whitenoise_data_dir + whitenoise_weight_filename)"
   ]
  },
  {
   "cell_type": "code",
   "execution_count": 6,
   "metadata": {
    "collapsed": false
   },
   "outputs": [
    {
     "data": {
      "text/plain": [
       "[u'layer_0', u'layer_1', u'layer_2', u'layer_3', u'layer_4']"
      ]
     },
     "execution_count": 6,
     "metadata": {},
     "output_type": "execute_result"
    }
   ],
   "source": [
    "whitenoise_weights = h5py.File(whitenoise_data_dir + whitenoise_weight_filename, 'r')\n",
    "list(whitenoise_weights)"
   ]
  },
  {
   "cell_type": "markdown",
   "metadata": {},
   "source": [
    "#### Load natural scenes model"
   ]
  },
  {
   "cell_type": "code",
   "execution_count": 4,
   "metadata": {
    "collapsed": false
   },
   "outputs": [],
   "source": [
    "naturalscenes_architecture_data = open(naturalscenes_data_dir + architecture_filename, 'r')\n",
    "naturalscenes_architecture_string = naturalscenes_architecture_data.read()\n",
    "naturalscenes_model = model_from_json(naturalscenes_architecture_string)\n",
    "naturalscenes_model.load_weights(naturalscenes_data_dir + naturalscenes_weight_filename)"
   ]
  },
  {
   "cell_type": "code",
   "execution_count": 7,
   "metadata": {
    "collapsed": false
   },
   "outputs": [
    {
     "data": {
      "text/plain": [
       "[u'layer_0', u'layer_1', u'layer_2', u'layer_3', u'layer_4']"
      ]
     },
     "execution_count": 7,
     "metadata": {},
     "output_type": "execute_result"
    }
   ],
   "source": [
    "naturalscenes_weights = h5py.File(naturalscenes_data_dir + naturalscenes_weight_filename, 'r')\n",
    "list(naturalscenes_weights)"
   ]
  },
  {
   "cell_type": "markdown",
   "metadata": {},
   "source": [
    "# Cross-stimuli testing"
   ]
  },
  {
   "cell_type": "code",
   "execution_count": 8,
   "metadata": {
    "collapsed": false
   },
   "outputs": [
    {
     "name": "stdout",
     "output_type": "stream",
     "text": [
      "Loading testing data... Done.\n",
      "Loading testing data... Done.\n"
     ]
    }
   ],
   "source": [
    "naturalscenes_training = loadexpt(0, 'naturalscene', 'test', 40)\n",
    "whitenoise_training = loadexpt(0, 'whitenoise', 'test', 40)"
   ]
  },
  {
   "cell_type": "code",
   "execution_count": 9,
   "metadata": {
    "collapsed": true
   },
   "outputs": [],
   "source": [
    "whitenoise_truth = []\n",
    "naturalscenes_truth = []\n",
    "whitenoise_on_whitenoise = []\n",
    "whitenoise_on_naturalscenes = []\n",
    "naturalscenes_on_whitenoise = []\n",
    "naturalscenes_on_naturalscenes = []"
   ]
  },
  {
   "cell_type": "markdown",
   "metadata": {},
   "source": [
    "### Test on white noise"
   ]
  },
  {
   "cell_type": "code",
   "execution_count": 10,
   "metadata": {
    "collapsed": true
   },
   "outputs": [],
   "source": [
    "for X, y in datagen(50, *whitenoise_training):\n",
    "    whitenoise_truth.extend(y[)\n",
    "    whitenoise_on_whitenoise.extend(whitenoise_model.predict(X))\n",
    "    naturalscenes_on_whitenoise.extend(naturalscenes_model.predict(X))"
   ]
  },
  {
   "cell_type": "markdown",
   "metadata": {},
   "source": [
    "#### Performance on white noise"
   ]
  },
  {
   "cell_type": "markdown",
   "metadata": {},
   "source": [
    "Trained on white noise"
   ]
  },
  {
   "cell_type": "code",
   "execution_count": 17,
   "metadata": {
    "collapsed": false
   },
   "outputs": [
    {
     "data": {
      "text/plain": [
       "0.62972344335667296"
      ]
     },
     "execution_count": 17,
     "metadata": {},
     "output_type": "execute_result"
    }
   ],
   "source": [
    "pearsonr(np.array(whitenoise_truth), np.array(whitenoise_on_whitenoise).squeeze())[0]"
   ]
  },
  {
   "cell_type": "markdown",
   "metadata": {},
   "source": [
    "Trained on natural scenes"
   ]
  },
  {
   "cell_type": "code",
   "execution_count": 18,
   "metadata": {
    "collapsed": false
   },
   "outputs": [
    {
     "data": {
      "text/plain": [
       "0.36232118323330381"
      ]
     },
     "execution_count": 18,
     "metadata": {},
     "output_type": "execute_result"
    }
   ],
   "source": [
    "pearsonr(np.array(whitenoise_truth), np.array(naturalscenes_on_whitenoise).squeeze())[0]"
   ]
  },
  {
   "cell_type": "markdown",
   "metadata": {},
   "source": [
    "#### Test on natural scenes"
   ]
  },
  {
   "cell_type": "code",
   "execution_count": 19,
   "metadata": {
    "collapsed": true
   },
   "outputs": [],
   "source": [
    "for X, y in datagen(50, *naturalscenes_training):\n",
    "    naturalscenes_truth.extend(y)\n",
    "    whitenoise_on_naturalscenes.extend(whitenoise_model.predict(X))\n",
    "    naturalscenes_on_naturalscenes.extend(naturalscenes_model.predict(X))"
   ]
  },
  {
   "cell_type": "markdown",
   "metadata": {},
   "source": [
    "Trained on natural scenes"
   ]
  },
  {
   "cell_type": "code",
   "execution_count": null,
   "metadata": {
    "collapsed": true
   },
   "outputs": [],
   "source": [
    "pearsonr(np.array(naturalscenes_truth), np.array(naturalscenes_on_naturalscenes).squeeze())[0]"
   ]
  },
  {
   "cell_type": "markdown",
   "metadata": {},
   "source": [
    "Trained on white noise"
   ]
  },
  {
   "cell_type": "code",
   "execution_count": null,
   "metadata": {
    "collapsed": true
   },
   "outputs": [],
   "source": [
    "pearsonr(np.array(naturalscenes_truth), np.array(whitenoise_on_naturalscenes).squeeze())[0]"
   ]
  },
  {
   "cell_type": "markdown",
   "metadata": {},
   "source": [
    "# Filter differences between natural scenes and white noise models"
   ]
  },
  {
   "cell_type": "code",
   "execution_count": null,
   "metadata": {
    "collapsed": true
   },
   "outputs": [],
   "source": []
  }
 ],
 "metadata": {
  "kernelspec": {
   "display_name": "Python 2",
   "language": "python",
   "name": "python2"
  },
  "language_info": {
   "codemirror_mode": {
    "name": "ipython",
    "version": 2
   },
   "file_extension": ".py",
   "mimetype": "text/x-python",
   "name": "python",
   "nbconvert_exporter": "python",
   "pygments_lexer": "ipython2",
   "version": "2.7.3"
  }
 },
 "nbformat": 4,
 "nbformat_minor": 0
}
