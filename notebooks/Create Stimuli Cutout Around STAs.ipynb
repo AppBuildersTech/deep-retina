{
 "cells": [
  {
   "cell_type": "code",
   "execution_count": 1,
   "metadata": {
    "collapsed": false
   },
   "outputs": [
    {
     "name": "stderr",
     "output_type": "stream",
     "text": [
      "Using gpu device 0: GeForce GT 750M (CNMeM is disabled)\n",
      "/Library/Frameworks/Python.framework/Versions/2.7/lib/python2.7/site-packages/matplotlib/__init__.py:872: UserWarning: axes.color_cycle is deprecated and replaced with axes.prop_cycle; please use the latter.\n",
      "  warnings.warn(self.msg_depr % (key, alt_key))\n"
     ]
    }
   ],
   "source": [
    "import numpy as np\n",
    "from os.path import expanduser\n",
    "import os\n",
    "import json\n",
    "import theano\n",
    "import pyret.filtertools as ft\n",
    "import pyret.visualizations as pyviz\n",
    "#import deepretina.visualizations as viz\n",
    "import preprocessing\n",
    "from preprocessing import datagen, loadexpt\n",
    "from utils import rolling_window\n",
    "from keras.models import model_from_json\n",
    "import h5py\n",
    "import matplotlib.pyplot as plt\n",
    "from scipy.stats import pearsonr\n",
    "%matplotlib inline\n",
    "#%matplotlib qt\n",
    "\n",
    "from pylab import rcParams\n",
    "rcParams['figure.figsize'] = (10.0, 8.0) # set default size of plots\n",
    "rcParams['image.interpolation'] = 'nearest'\n",
    "rcParams['image.cmap'] = 'gray'\n",
    "\n",
    "%load_ext autoreload\n",
    "%autoreload 2"
   ]
  },
  {
   "cell_type": "code",
   "execution_count": 2,
   "metadata": {
    "collapsed": true
   },
   "outputs": [],
   "source": [
    "f = h5py.File(os.path.join(preprocessing.datadirs['lane.local'], '15-10-07/whitenoise.h5'), 'r')"
   ]
  },
  {
   "cell_type": "code",
   "execution_count": 3,
   "metadata": {
    "collapsed": true
   },
   "outputs": [],
   "source": [
    "time = np.array(f['train/time'])"
   ]
  },
  {
   "cell_type": "code",
   "execution_count": 4,
   "metadata": {
    "collapsed": false
   },
   "outputs": [
    {
     "data": {
      "text/plain": [
       "[u'spikes', u'test', u'train']"
      ]
     },
     "execution_count": 4,
     "metadata": {},
     "output_type": "execute_result"
    }
   ],
   "source": [
    "list(f)"
   ]
  },
  {
   "cell_type": "code",
   "execution_count": 18,
   "metadata": {
    "collapsed": false
   },
   "outputs": [
    {
     "data": {
      "text/plain": [
       "[u'response', u'stimulus', u'time']"
      ]
     },
     "execution_count": 18,
     "metadata": {},
     "output_type": "execute_result"
    }
   ],
   "source": [
    "list(f['train'])"
   ]
  },
  {
   "cell_type": "code",
   "execution_count": 19,
   "metadata": {
    "collapsed": false
   },
   "outputs": [
    {
     "data": {
      "text/plain": [
       "[u'response', u'stimulus', u'time']"
      ]
     },
     "execution_count": 19,
     "metadata": {},
     "output_type": "execute_result"
    }
   ],
   "source": [
    "list(f['test'])"
   ]
  },
  {
   "cell_type": "code",
   "execution_count": 16,
   "metadata": {
    "collapsed": false
   },
   "outputs": [
    {
     "data": {
      "text/plain": [
       "[359802, 50, 50]"
      ]
     },
     "execution_count": 16,
     "metadata": {},
     "output_type": "execute_result"
    }
   ],
   "source": [
    "list(f['train/stimulus'].shape)"
   ]
  },
  {
   "cell_type": "code",
   "execution_count": 37,
   "metadata": {
    "collapsed": false
   },
   "outputs": [
    {
     "data": {
      "text/plain": [
       "[u'binned', u'firing_rate_10ms', u'firing_rate_20ms', u'firing_rate_5ms']"
      ]
     },
     "execution_count": 37,
     "metadata": {},
     "output_type": "execute_result"
    }
   ],
   "source": [
    "list(f['train/response'])"
   ]
  },
  {
   "cell_type": "code",
   "execution_count": 34,
   "metadata": {
    "collapsed": false
   },
   "outputs": [
    {
     "data": {
      "text/plain": [
       "(9, 359802)"
      ]
     },
     "execution_count": 34,
     "metadata": {},
     "output_type": "execute_result"
    }
   ],
   "source": [
    "f['train/response/firing_rate_10ms'].shape"
   ]
  },
  {
   "cell_type": "code",
   "execution_count": 25,
   "metadata": {
    "collapsed": false
   },
   "outputs": [
    {
     "data": {
      "text/plain": [
       "[u'cell01',\n",
       " u'cell02',\n",
       " u'cell03',\n",
       " u'cell04',\n",
       " u'cell05',\n",
       " u'cell06',\n",
       " u'cell07',\n",
       " u'cell08',\n",
       " u'cell09']"
      ]
     },
     "execution_count": 25,
     "metadata": {},
     "output_type": "execute_result"
    }
   ],
   "source": [
    "list(f['spikes'])"
   ]
  },
  {
   "cell_type": "code",
   "execution_count": 8,
   "metadata": {
    "collapsed": true
   },
   "outputs": [],
   "source": [
    "ncells = 9"
   ]
  },
  {
   "cell_type": "code",
   "execution_count": 44,
   "metadata": {
    "collapsed": true
   },
   "outputs": [],
   "source": [
    "h.close()"
   ]
  },
  {
   "cell_type": "code",
   "execution_count": 46,
   "metadata": {
    "collapsed": false
   },
   "outputs": [
    {
     "name": "stdout",
     "output_type": "stream",
     "text": [
      "Cutting out stimulus for cell01\n",
      "Cutting out stimulus for cell02\n",
      "Cutting out stimulus for cell03\n",
      "Cutting out stimulus for cell04\n",
      "Cutting out stimulus for cell05\n",
      "Cutting out stimulus for cell06\n",
      "Cutting out stimulus for cell07\n",
      "Cutting out stimulus for cell08\n",
      "Cutting out stimulus for cell09\n"
     ]
    },
    {
     "data": {
      "image/png": "[encoded data removed]",
      "text/plain": [
       "<matplotlib.figure.Figure at 0x1134b6b90>"
      ]
     },
     "metadata": {},
     "output_type": "display_data"
    }
   ],
   "source": [
    "for n in range(ncells):\n",
    "    print 'Cutting out stimulus for cell%02d' %(n+1)\n",
    "    spk = f['spikes/cell%02d' %(n+1)]\n",
    "    sta, tax = ft.getsta(f['train/time'], f['train/stimulus'], spk, 40)\n",
    "    space, time = ft.decompose(ft.cutout(sta, idx=np.flipud(ft.filterpeak(sta)[1]), width=5))\n",
    "    plt.imshow(space, cmap='seismic')\n",
    "    plt.savefig(os.path.join(preprocessing.datadirs['lane.local'], 'STA Cutout of Cell %02d.png' %(n+1)))\n",
    "    \n",
    "    new_filename = 'whitenoise_cutout_cell%02d.h5' %(n+1)\n",
    "    h = h5py.File(os.path.join(preprocessing.datadirs['lane.local'], new_filename), 'w')\n",
    "    # keep most of the datasets the same\n",
    "    for idx in range(ncells):\n",
    "        h.create_dataset('spikes/cell%02d' %(idx+1), data=f['spikes/cell%02d' %(idx+1)])\n",
    "    h.create_dataset('train/response/binned', data=f['train/response/binned'])\n",
    "    h.create_dataset('train/response/firing_rate_10ms', data=f['train/response/firing_rate_10ms'])\n",
    "    h.create_dataset('train/response/firing_rate_20ms', data=f['train/response/firing_rate_20ms'])\n",
    "    h.create_dataset('train/response/firing_rate_5ms', data=f['train/response/firing_rate_5ms'])\n",
    "    h.create_dataset('train/time', data=f['train/time'])\n",
    "    h.create_dataset('test/response/binned', data=f['test/response/binned'])\n",
    "    h.create_dataset('test/response/firing_rate_10ms', data=f['test/response/firing_rate_10ms'])\n",
    "    h.create_dataset('test/response/firing_rate_20ms', data=f['test/response/firing_rate_20ms'])\n",
    "    h.create_dataset('test/response/firing_rate_5ms', data=f['test/response/firing_rate_5ms'])\n",
    "    h.create_dataset('test/time', data=f['test/time'])\n",
    "    \n",
    "    # get stimulus cutouts\n",
    "    Xcut_train = ft.cutout(np.array(f['train/stimulus']), idx=np.flipud(ft.filterpeak(sta)[1]), width=5)\n",
    "    Xcut_test = ft.cutout(np.array(f['test/stimulus']), idx=np.flipud(ft.filterpeak(sta)[1]), width=5)\n",
    "    \n",
    "    # create stimuli datasets\n",
    "    h.create_dataset('train/stimulus', data=Xcut_train)\n",
    "    h.create_dataset('test/stimulus', data=Xcut_test)\n",
    "    \n",
    "    h.close()"
   ]
  },
  {
   "cell_type": "code",
   "execution_count": null,
   "metadata": {
    "collapsed": true
   },
   "outputs": [],
   "source": []
  }
 ],
 "metadata": {
  "kernelspec": {
   "display_name": "Python 2",
   "language": "python",
   "name": "python2"
  },
  "language_info": {
   "codemirror_mode": {
    "name": "ipython",
    "version": 2
   },
   "file_extension": ".py",
   "mimetype": "text/x-python",
   "name": "python",
   "nbconvert_exporter": "python",
   "pygments_lexer": "ipython2",
   "version": "2.7.3"
  }
 },
 "nbformat": 4,
 "nbformat_minor": 0
}
