{
 "cells": [
  {
   "cell_type": "code",
   "execution_count": 1,
   "metadata": {
    "collapsed": false
   },
   "outputs": [
    {
     "name": "stderr",
     "output_type": "stream",
     "text": [
      "WARNING:py.warnings:/usr/local/lib/python2.7/site-packages/skimage/filter/__init__.py:6: skimage_deprecation: The `skimage.filter` module has been renamed to `skimage.filters`.  This placeholder module will be removed in v0.13.\n",
      "  warn(skimage_deprecation('The `skimage.filter` module has been renamed '\n",
      "\n"
     ]
    }
   ],
   "source": [
    "import numpy as np\n",
    "import time\n",
    "import cv2\n",
    "from moviepy.editor import VideoClip\n",
    "from scipy.io import savemat\n",
    "from os import listdir\n",
    "from os.path import expanduser\n",
    "import glob\n",
    "import matplotlib.pyplot as plt\n",
    "%matplotlib inline\n",
    "#%matplotlib qt\n",
    "\n",
    "from pylab import rcParams\n",
    "rcParams['figure.figsize'] = (10.0, 8.0) # set default size of plots\n",
    "rcParams['image.interpolation'] = 'nearest'\n",
    "rcParams['image.cmap'] = 'gray'\n",
    "\n",
    "%load_ext autoreload\n",
    "%autoreload 2"
   ]
  },
  {
   "cell_type": "code",
   "execution_count": 2,
   "metadata": {
    "collapsed": false
   },
   "outputs": [
    {
     "data": {
      "text/plain": [
       "['/Users/lmcintosh/data/movies/natural02.mp4',\n",
       " '/Users/lmcintosh/data/movies/natural03.mp4']"
      ]
     },
     "execution_count": 2,
     "metadata": {},
     "output_type": "execute_result"
    }
   ],
   "source": [
    "mov_path = expanduser('~/data/movies/')\n",
    "mov_format = '.mp4'\n",
    "movies = glob.glob(mov_path + '*' + mov_format)\n",
    "movies"
   ]
  },
  {
   "cell_type": "code",
   "execution_count": 3,
   "metadata": {
    "collapsed": true
   },
   "outputs": [],
   "source": [
    "def rescale_to_uint8(X):\n",
    "    X -= np.min(X)\n",
    "    X = X/(np.max(X)/255.)\n",
    "    return X"
   ]
  },
  {
   "cell_type": "code",
   "execution_count": 12,
   "metadata": {
    "collapsed": true
   },
   "outputs": [],
   "source": [
    "? cv2.filter2D"
   ]
  },
  {
   "cell_type": "code",
   "execution_count": 32,
   "metadata": {
    "collapsed": true
   },
   "outputs": [],
   "source": [
    "def window(X, dim=(50,50), top_border=0, bottom_border=0, left_border=0, right_border=0, filt=True):\n",
    "    ''' \n",
    "    Crops a window around the center of X and downsamples it to the dimensions specified by dim.\n",
    "    \n",
    "    INPUT:\n",
    "        X     a 2d numpy array\n",
    "    OUTPUT:\n",
    "        Y     a 2d numpy array of shape dim\n",
    "    '''\n",
    "    H, W = X.shape\n",
    "    center = [np.int(H/2), np.int(W/2)]\n",
    "    crop_radius = np.min([np.int(H/2), np.int(W/2)])\n",
    "    \n",
    "    # get cropped square center\n",
    "    X_cropped = X[center[0]-crop_radius+bottom_border:center[0]+crop_radius-top_border, \n",
    "                  center[1]-crop_radius+left_border:center[1]+crop_radius-right_border]\n",
    "    H_cropped, W_cropped = X_cropped.shape\n",
    "    #assert H_cropped == W_cropped, 'New height and width of window need to match!'\n",
    "    \n",
    "    # interpolate cropped square center to appropriate dimensions\n",
    "    H_sample_rate = H_cropped/dim[0]\n",
    "    W_sample_rate = W_cropped/dim[1]\n",
    "    \n",
    "    if filt:\n",
    "        kernel = np.ones((H_sample_rate, W_sample_rate), np.float32)/(H_sample_rate * W_sample_rate)\n",
    "        X_cropped = cv2.filter2D(X_cropped, -1, kernel)\n",
    "        \n",
    "    Y = X_cropped[::H_sample_rate, ::W_sample_rate]\n",
    "    return Y[:dim[0], :dim[1]]"
   ]
  },
  {
   "cell_type": "code",
   "execution_count": 33,
   "metadata": {
    "collapsed": true
   },
   "outputs": [],
   "source": [
    "def load_frames(filename, nframes=None, downsample=0, window_flag=False, dim=(50,50), top_border=0,\n",
    "                bottom_border=0, left_border=0, right_border=0, start_frame=0, exclude_frames=[],\n",
    "                filt=True):\n",
    "    ''' \n",
    "    Takes a movie file (.mp4, .mov) and returns a numpy array of the frames.\n",
    "    \n",
    "    INPUT:\n",
    "         filename (full path or name of file in cwd)\n",
    "         nframes (None or number of frames you want)\n",
    "         downsample (0 to n, each time downsamples in space by 2x)\n",
    "    '''\n",
    "    cap = cv2.VideoCapture(filename)\n",
    "    data_frames = cap.get(cv2.CAP_PROP_FRAME_COUNT)\n",
    "    if nframes is None:\n",
    "        nframes = int(data_frames)\n",
    "    else:\n",
    "        nframes = int(np.minimum(nframes, cap.get(cv2.CAP_PROP_FRAME_COUNT)))\n",
    "    width = cap.get(cv2.CAP_PROP_FRAME_WIDTH)\n",
    "    height = cap.get(cv2.CAP_PROP_FRAME_HEIGHT)\n",
    "    fps = cap.get(cv2.CAP_PROP_FPS)\n",
    "    t = 0\n",
    "    frames = []\n",
    "    while(cap.isOpened() and t < nframes):\n",
    "        ret, frame = cap.read()\n",
    "        # Convert to grayscale\n",
    "        gray = cv2.cvtColor(frame, cv2.COLOR_BGR2GRAY)\n",
    "        for _ in range(downsample):\n",
    "            # Downsample by 2x per time\n",
    "            gray = cv2.pyrDown(gray)\n",
    "#         if frames is None:\n",
    "#             if window_flag:\n",
    "#                 frames = np.zeros( (nframes,) + dim, dtype=np.float32)\n",
    "#             else:\n",
    "#                 frames = np.zeros( (nframes,) + gray.shape,dtype=np.float32)\n",
    "        if t >= start_frame and t not in exclude_frames:\n",
    "            if window_flag:\n",
    "                frames.append(window(gray, dim=dim, top_border=top_border, bottom_border=bottom_border,\n",
    "                                     left_border=left_border, right_border=right_border, filt=filt))\n",
    "            else:\n",
    "                frames.append(gray)\n",
    "        t+=1\n",
    "        if (t+1) % 1000 == 0:\n",
    "            print '%d / %d' % (t+1, nframes)\n",
    "    frames = np.array(frames)\n",
    "    rescaled_frames = rescale_to_uint8(frames)\n",
    "    return rescaled_frames.astype(np.uint8), fps"
   ]
  },
  {
   "cell_type": "code",
   "execution_count": 6,
   "metadata": {
    "collapsed": false
   },
   "outputs": [],
   "source": [
    "# def make_frame(t):\n",
    "#     \"\"\" returns an image of the frame at time t \"\"\"\n",
    "#     # ... create the frame with any library\n",
    "#     return movie_clips[1][t] # (Height x Width x 3) Numpy array\n",
    "\n",
    "# animation = VideoClip(make_frame, duration=5)\n",
    "\n",
    "# # For the export, many options/formats/optimizations are supported\n",
    "# #animation.write_videofile(\"my_animation.mp4\", fps=30) # export as video\n",
    "# animation.write_gif(\"my_animation.gif\", fps=30, program='ImageMagick') # export as GIF (slow)"
   ]
  },
  {
   "cell_type": "code",
   "execution_count": 7,
   "metadata": {
    "collapsed": false
   },
   "outputs": [],
   "source": [
    "# from moviepy.video.VideoClip import DataVideoClip"
   ]
  },
  {
   "cell_type": "code",
   "execution_count": 8,
   "metadata": {
    "collapsed": false
   },
   "outputs": [],
   "source": [
    "# times = np.arange(0,33)\n",
    "# clip = DataVideoClip(times, make_frame, fps=100)\n",
    "# animation.write_gif(\"my_animation.gif\", fps=30, program='ImageMagick') # export as GIF (slow)"
   ]
  },
  {
   "cell_type": "code",
   "execution_count": 9,
   "metadata": {
    "collapsed": true
   },
   "outputs": [],
   "source": [
    "# total_length = 30*60 # in seconds\n",
    "# desired_fps = 30\n",
    "# num_movies = 3\n",
    "# frames_per_movie = int(total_length*desired_fps/num_movies)"
   ]
  },
  {
   "cell_type": "code",
   "execution_count": 10,
   "metadata": {
    "collapsed": false
   },
   "outputs": [],
   "source": [
    "# movie_clips = []\n",
    "# fpss = []\n",
    "# for movie in listdir(mov_path):\n",
    "#     full_mov_path = mov_path + movie\n",
    "#     frames, fps = load_frames(full_mov_path, nframes=frames_per_movie, window_flag=True, border=100, start_frame=500)\n",
    "#     movie_clips.append(frames)\n",
    "#     fpss.append(fps)"
   ]
  },
  {
   "cell_type": "code",
   "execution_count": 11,
   "metadata": {
    "collapsed": true
   },
   "outputs": [],
   "source": [
    "# for idm, movie in enumerate(movie_clips):\n",
    "#     filename = 'natural_movie_0%d.mat' %(idm)\n",
    "#     savemat(filename, mdict={'frames':movie})"
   ]
  },
  {
   "cell_type": "markdown",
   "metadata": {},
   "source": [
    "# make movies larger"
   ]
  },
  {
   "cell_type": "code",
   "execution_count": 34,
   "metadata": {
    "collapsed": false
   },
   "outputs": [],
   "source": [
    "mov3_exclude = np.arange(7200, 9100)\n",
    "mov3_exclude = np.append(mov3_exclude, np.arange(11250, 25000))"
   ]
  },
  {
   "cell_type": "code",
   "execution_count": 35,
   "metadata": {
    "collapsed": false
   },
   "outputs": [
    {
     "name": "stdout",
     "output_type": "stream",
     "text": [
      "1000 / 16725\n",
      "2000 / 16725\n",
      "3000 / 16725\n",
      "4000 / 16725\n",
      "5000 / 16725\n",
      "6000 / 16725\n",
      "7000 / 16725\n",
      "8000 / 16725\n",
      "9000 / 16725\n",
      "10000 / 16725\n",
      "11000 / 16725\n",
      "12000 / 16725\n",
      "13000 / 16725\n",
      "14000 / 16725\n",
      "15000 / 16725\n",
      "16000 / 16725\n",
      "1000 / 13165\n",
      "2000 / 13165\n",
      "3000 / 13165\n",
      "4000 / 13165\n",
      "5000 / 13165\n",
      "6000 / 13165\n",
      "7000 / 13165\n",
      "8000 / 13165\n",
      "9000 / 13165\n",
      "10000 / 13165\n",
      "11000 / 13165\n",
      "12000 / 13165\n",
      "13000 / 13165\n"
     ]
    }
   ],
   "source": [
    "start_frames = [0, 1800]\n",
    "exclude = [[], mov3_exclude]\n",
    "movie_clips = []\n",
    "fpss = []\n",
    "for idm, movie in enumerate(movies):\n",
    "    if idm == 0:\n",
    "        frames, fps = load_frames(movie, window_flag=True, top_border=200, bottom_border=50,\n",
    "                                  left_border=50, right_border=50,\n",
    "                                  start_frame=start_frames[idm], dim=(100,100), \n",
    "                                  exclude_frames=exclude[idm], filt=True)\n",
    "    else:\n",
    "        frames, fps = load_frames(movie, window_flag=True, top_border=50, bottom_border=50,\n",
    "                                  left_border=50, right_border=50,\n",
    "                                  start_frame=start_frames[idm], dim=(100,100), \n",
    "                                  exclude_frames=exclude[idm], filt=True)\n",
    "    movie_clips.append(frames)\n",
    "    fpss.append(fps)"
   ]
  },
  {
   "cell_type": "code",
   "execution_count": 36,
   "metadata": {
    "collapsed": false
   },
   "outputs": [
    {
     "data": {
      "text/plain": [
       "(16725, 100, 100)"
      ]
     },
     "execution_count": 36,
     "metadata": {},
     "output_type": "execute_result"
    }
   ],
   "source": [
    "movie_clips[0].shape"
   ]
  },
  {
   "cell_type": "code",
   "execution_count": 37,
   "metadata": {
    "collapsed": false
   },
   "outputs": [
    {
     "data": {
      "text/plain": [
       "(7550, 100, 100)"
      ]
     },
     "execution_count": 37,
     "metadata": {},
     "output_type": "execute_result"
    }
   ],
   "source": [
    "movie_clips[1].shape"
   ]
  },
  {
   "cell_type": "code",
   "execution_count": 38,
   "metadata": {
    "collapsed": true
   },
   "outputs": [],
   "source": [
    "for idm, movie in enumerate(movie_clips):\n",
    "    filename = 'natural_movie_0%d.mat' %(idm)\n",
    "    savemat(filename, mdict={'frames':movie})"
   ]
  },
  {
   "cell_type": "code",
   "execution_count": 21,
   "metadata": {
    "collapsed": false
   },
   "outputs": [
    {
     "data": {
      "text/plain": [
       "<matplotlib.image.AxesImage at 0x10ffc6a10>"
      ]
     },
     "execution_count": 21,
     "metadata": {},
     "output_type": "execute_result"
    },
    {
     "data": {
      "image/png": "[encoded data removed]",
      "text/plain": [
       "<matplotlib.figure.Figure at 0x11107cbd0>"
      ]
     },
     "metadata": {},
     "output_type": "display_data"
    }
   ],
   "source": [
    "plt.imshow(movie_clips[0][900])"
   ]
  },
  {
   "cell_type": "code",
   "execution_count": 24,
   "metadata": {
    "collapsed": false
   },
   "outputs": [
    {
     "data": {
      "text/plain": [
       "array([[155, 155, 157, ..., 155, 155, 155],\n",
       "       [155, 156, 205, ..., 156, 156, 156],\n",
       "       [155, 155, 149, ..., 157, 179, 163],\n",
       "       ..., \n",
       "       [121, 120, 123, ..., 136, 136, 135],\n",
       "       [120, 122, 127, ..., 134, 134, 131],\n",
       "       [116, 115, 117, ..., 129, 131, 131]], dtype=uint8)"
      ]
     },
     "execution_count": 24,
     "metadata": {},
     "output_type": "execute_result"
    }
   ],
   "source": [
    "movie_clips[0][900]"
   ]
  },
  {
   "cell_type": "code",
   "execution_count": 24,
   "metadata": {
    "collapsed": true
   },
   "outputs": [],
   "source": [
    "blah = np.ones((50,50))"
   ]
  },
  {
   "cell_type": "code",
   "execution_count": null,
   "metadata": {
    "collapsed": true
   },
   "outputs": [],
   "source": []
  }
 ],
 "metadata": {
  "kernelspec": {
   "display_name": "Python 2",
   "language": "python",
   "name": "python2"
  },
  "language_info": {
   "codemirror_mode": {
    "name": "ipython",
    "version": 2
   },
   "file_extension": ".py",
   "mimetype": "text/x-python",
   "name": "python",
   "nbconvert_exporter": "python",
   "pygments_lexer": "ipython2",
   "version": "2.7.11"
  }
 },
 "nbformat": 4,
 "nbformat_minor": 0
}
