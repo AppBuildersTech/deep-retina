{
 "cells": [
  {
   "cell_type": "markdown",
   "metadata": {},
   "source": [
    "# Parse README.md files, performance.csv, and add elements to a spreadsheet summarizing all of our models"
   ]
  },
  {
   "cell_type": "code",
   "execution_count": 105,
   "metadata": {
    "collapsed": true
   },
   "outputs": [],
   "source": [
    "import numpy as np\n",
    "import os\n",
    "import csv"
   ]
  },
  {
   "cell_type": "code",
   "execution_count": 47,
   "metadata": {
    "collapsed": false
   },
   "outputs": [],
   "source": [
    "walker = os.walk(os.path.expanduser('~/Dropbox/deep-retina/saved'), topdown=True)"
   ]
  },
  {
   "cell_type": "code",
   "execution_count": 48,
   "metadata": {
    "collapsed": false
   },
   "outputs": [],
   "source": [
    "full_paths = []\n",
    "for dirs, subdirs, files in walker:\n",
    "    full_paths.append([dirs, subdirs, files])"
   ]
  },
  {
   "cell_type": "code",
   "execution_count": 49,
   "metadata": {
    "collapsed": false
   },
   "outputs": [
    {
     "data": {
      "text/plain": [
       "['/Users/lmcintosh/Dropbox/deep-retina/saved',\n",
       " ['glm',\n",
       "  'lane-desktop.lane',\n",
       "  'lane.local.lmcintosh',\n",
       "  'lenna.nirum',\n",
       "  'lenna.salamander',\n",
       "  'mbp.nirum'],\n",
       " ['.DS_Store']]"
      ]
     },
     "execution_count": 49,
     "metadata": {},
     "output_type": "execute_result"
    }
   ],
   "source": [
    "full_paths[0]"
   ]
  },
  {
   "cell_type": "code",
   "execution_count": 54,
   "metadata": {
    "collapsed": false
   },
   "outputs": [
    {
     "data": {
      "text/plain": [
       "['architecture.json', 'performance.csv', 'README.md']"
      ]
     },
     "execution_count": 54,
     "metadata": {},
     "output_type": "execute_result"
    }
   ],
   "source": [
    "full_paths[6][2]"
   ]
  },
  {
   "cell_type": "code",
   "execution_count": 53,
   "metadata": {
    "collapsed": false
   },
   "outputs": [
    {
     "data": {
      "text/plain": [
       "True"
      ]
     },
     "execution_count": 53,
     "metadata": {},
     "output_type": "execute_result"
    }
   ],
   "source": [
    "'README.md' in full_paths[6][2]"
   ]
  },
  {
   "cell_type": "code",
   "execution_count": 164,
   "metadata": {
    "collapsed": false
   },
   "outputs": [],
   "source": [
    "all_models = []\n",
    "for path in full_paths:\n",
    "    readme_name = 'README.md'\n",
    "    performance_name = 'performance.csv'\n",
    "    if readme_name in path[2]:\n",
    "        # Parse README.md\n",
    "        readme_path = path[0] + '/' + readme_name\n",
    "        f = open(readme_path, 'r')\n",
    "        description = f.readlines()\n",
    "        path_components = readme_path.split('/')\n",
    "        for idd, d in enumerate(description):\n",
    "            if d.find('Cell') >= 0:\n",
    "                cells = d[:-1]\n",
    "            elif d.find('Stimulus') >= 0:\n",
    "                experiment = description[idd+1][:-1]\n",
    "                stimulus = description[idd+2][:-1]\n",
    "        \n",
    "        # Parse performance.csv\n",
    "        performance_path = path[0] + '/' + 'performance.csv'\n",
    "        h = open(performance_path, 'r')\n",
    "        stats = csv.reader(h)\n",
    "        all_rows = []\n",
    "        for row in stats:\n",
    "            all_rows.append(row)\n",
    "        num_epochs = len(all_rows) - 1 # -1 for the header\n",
    "        \n",
    "        # skip models for which we have no performance data\n",
    "        if num_epochs >= 1:\n",
    "            table = np.array(all_rows)\n",
    "            just_numbers = table[1:, :].astype('float')\n",
    "\n",
    "            model = {\n",
    "                'type': description[0][2:-1],\n",
    "                'date': description[1][3:-1],\n",
    "                'machine': path_components[6],\n",
    "                'folder': path_components[7],\n",
    "                'stimulus': stimulus,\n",
    "                'experiment': experiment,\n",
    "                'cells': cells,\n",
    "                'epochs': num_epochs,\n",
    "                'max_train_cc': np.max(just_numbers, axis=0)[2],\n",
    "                'mean_train_cc': np.mean(just_numbers, axis=0)[2],\n",
    "                'max_test_cc': np.max(just_numbers, axis=0)[3],\n",
    "                'mean_test_cc': np.mean(just_numbers, axis=0)[3],\n",
    "            }\n",
    "            all_models.append(model)\n",
    "        "
   ]
  },
  {
   "cell_type": "code",
   "execution_count": 165,
   "metadata": {
    "collapsed": false
   },
   "outputs": [
    {
     "data": {
      "text/plain": [
       "55"
      ]
     },
     "execution_count": 165,
     "metadata": {},
     "output_type": "execute_result"
    }
   ],
   "source": [
    "len(all_models)"
   ]
  },
  {
   "cell_type": "code",
   "execution_count": 166,
   "metadata": {
    "collapsed": false
   },
   "outputs": [
    {
     "data": {
      "text/plain": [
       "{'cells': 'Cell #[0, 1, 2, 3, 4]',\n",
       " 'date': 'January 20, 2016',\n",
       " 'epochs': 50,\n",
       " 'experiment': 'Experiment 10-07-15',\n",
       " 'folder': '2016-01-20 11.57.50 fixedlstm',\n",
       " 'machine': 'lenna.salamander',\n",
       " 'max_test_cc': 0.16915949846600001,\n",
       " 'max_train_cc': 0.15430736180999999,\n",
       " 'mean_test_cc': 0.059871836500338213,\n",
       " 'mean_train_cc': 0.052905355619362646,\n",
       " 'stimulus': 'naturalscene',\n",
       " 'type': 'fixedlstm'}"
      ]
     },
     "execution_count": 166,
     "metadata": {},
     "output_type": "execute_result"
    }
   ],
   "source": [
    "all_models[40]"
   ]
  },
  {
   "cell_type": "code",
   "execution_count": 167,
   "metadata": {
    "collapsed": false
   },
   "outputs": [],
   "source": [
    "header = {}\n",
    "for k in sorted(all_models[0].keys()):\n",
    "    header[k] = k"
   ]
  },
  {
   "cell_type": "code",
   "execution_count": 168,
   "metadata": {
    "collapsed": false
   },
   "outputs": [],
   "source": [
    "all_models.insert(0, header)"
   ]
  },
  {
   "cell_type": "code",
   "execution_count": 169,
   "metadata": {
    "collapsed": false
   },
   "outputs": [],
   "source": [
    "g = open('modelzoo.csv','w')\n",
    "w = csv.DictWriter(g, all_models[0].keys())\n",
    "w.writerows(all_models)\n",
    "g.close()"
   ]
  },
  {
   "cell_type": "code",
   "execution_count": null,
   "metadata": {
    "collapsed": true
   },
   "outputs": [],
   "source": []
  },
  {
   "cell_type": "code",
   "execution_count": null,
   "metadata": {
    "collapsed": true
   },
   "outputs": [],
   "source": []
  },
  {
   "cell_type": "code",
   "execution_count": null,
   "metadata": {
    "collapsed": true
   },
   "outputs": [],
   "source": []
  },
  {
   "cell_type": "code",
   "execution_count": null,
   "metadata": {
    "collapsed": true
   },
   "outputs": [],
   "source": []
  }
 ],
 "metadata": {
  "kernelspec": {
   "display_name": "Python 3",
   "language": "python",
   "name": "python3"
  },
  "language_info": {
   "codemirror_mode": {
    "name": "ipython",
    "version": 3
   },
   "file_extension": ".py",
   "mimetype": "text/x-python",
   "name": "python",
   "nbconvert_exporter": "python",
   "pygments_lexer": "ipython3",
   "version": "3.5.1"
  }
 },
 "nbformat": 4,
 "nbformat_minor": 0
}
