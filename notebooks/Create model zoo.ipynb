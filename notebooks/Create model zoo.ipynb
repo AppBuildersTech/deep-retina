{
 "cells": [
  {
   "cell_type": "markdown",
   "metadata": {},
   "source": [
    "# Parse README.md files, performance.csv, and add elements to a spreadsheet summarizing all of our models"
   ]
  },
  {
   "cell_type": "code",
   "execution_count": 105,
   "metadata": {
    "collapsed": true
   },
   "outputs": [],
   "source": [
    "import numpy as np\n",
    "import os\n",
    "import csv"
   ]
  },
  {
   "cell_type": "code",
   "execution_count": 47,
   "metadata": {
    "collapsed": false
   },
   "outputs": [],
   "source": [
    "walker = os.walk(os.path.expanduser('~/Dropbox/deep-retina/saved'), topdown=True)"
   ]
  },
  {
   "cell_type": "code",
   "execution_count": 48,
   "metadata": {
    "collapsed": false
   },
   "outputs": [],
   "source": [
    "full_paths = []\n",
    "for dirs, subdirs, files in walker:\n",
    "    full_paths.append([dirs, subdirs, files])"
   ]
  },
  {
   "cell_type": "code",
   "execution_count": 49,
   "metadata": {
    "collapsed": false
   },
   "outputs": [
    {
     "data": {
      "text/plain": [
       "['/Users/lmcintosh/Dropbox/deep-retina/saved',\n",
       " ['glm',\n",
       "  'lane-desktop.lane',\n",
       "  'lane.local.lmcintosh',\n",
       "  'lenna.nirum',\n",
       "  'lenna.salamander',\n",
       "  'mbp.nirum'],\n",
       " ['.DS_Store']]"
      ]
     },
     "execution_count": 49,
     "metadata": {},
     "output_type": "execute_result"
    }
   ],
   "source": [
    "full_paths[0]"
   ]
  },
  {
   "cell_type": "code",
   "execution_count": 54,
   "metadata": {
    "collapsed": false
   },
   "outputs": [
    {
     "data": {
      "text/plain": [
       "['architecture.json', 'performance.csv', 'README.md']"
      ]
     },
     "execution_count": 54,
     "metadata": {},
     "output_type": "execute_result"
    }
   ],
   "source": [
    "full_paths[6][2]"
   ]
  },
  {
   "cell_type": "code",
   "execution_count": 53,
   "metadata": {
    "collapsed": false
   },
   "outputs": [
    {
     "data": {
      "text/plain": [
       "True"
      ]
     },
     "execution_count": 53,
     "metadata": {},
     "output_type": "execute_result"
    }
   ],
   "source": [
    "'README.md' in full_paths[6][2]"
   ]
  },
  {
   "cell_type": "code",
   "execution_count": 119,
   "metadata": {
    "collapsed": false
   },
   "outputs": [],
   "source": [
    "all_models = []\n",
    "for path in full_paths:\n",
    "    readme_name = 'README.md'\n",
    "    performance_name = 'performance.csv'\n",
    "    if readme_name in path[2]:\n",
    "        # Parse README.md\n",
    "        readme_path = path[0] + '/' + readme_name\n",
    "        f = open(readme_path, 'r')\n",
    "        description = f.readlines()\n",
    "        path_components = readme_path.split('/')\n",
    "        \n",
    "        # Parse performance.csv\n",
    "        performance_path = path[0] + '/' + 'performance.csv'\n",
    "        h = open(performance_path, 'r')\n",
    "        stats = csv.reader(h)\n",
    "        all_rows = []\n",
    "        for row in stats:\n",
    "            all_rows.append(row)\n",
    "        num_epochs = len(all_rows) - 1 # -1 for the header\n",
    "        \n",
    "        # skip models for which we have no performance data\n",
    "        if num_epochs >= 1:\n",
    "            table = np.array(all_rows)\n",
    "            just_numbers = table[1:, :].astype('float')\n",
    "\n",
    "            model = {\n",
    "                'type': description[0][2:-1],\n",
    "                'date': description[1][3:-1],\n",
    "                'machine': path_components[6],\n",
    "                'folder': path_components[7],\n",
    "                'stimulus': description[12][:-1],\n",
    "                'experiment': description[11][:-1],\n",
    "                'cells': description[14][:-1],\n",
    "                'epochs': num_epochs,\n",
    "                'max_train_cc': np.max(just_numbers, axis=0)[2],\n",
    "                'mean_train_cc': np.mean(just_numbers, axis=0)[2],\n",
    "                'max_test_cc': np.max(just_numbers, axis=0)[3],\n",
    "                'mean_test_cc': np.mean(just_numbers, axis=0)[3],\n",
    "            }\n",
    "            all_models.append(model)\n",
    "        "
   ]
  },
  {
   "cell_type": "code",
   "execution_count": 120,
   "metadata": {
    "collapsed": false
   },
   "outputs": [
    {
     "data": {
      "text/plain": [
       "55"
      ]
     },
     "execution_count": 120,
     "metadata": {},
     "output_type": "execute_result"
    }
   ],
   "source": [
    "len(all_models)"
   ]
  },
  {
   "cell_type": "code",
   "execution_count": 129,
   "metadata": {
    "collapsed": false
   },
   "outputs": [
    {
     "data": {
      "text/plain": [
       "{'cells': 'Cell #[0, 1, 2, 3, 4]',\n",
       " 'date': 'January 21, 2016',\n",
       " 'epochs': 1,\n",
       " 'experiment': 'Experiment 10-07-15',\n",
       " 'folder': '2016-01-21 22.14.16 fixedlstm',\n",
       " 'machine': 'lenna.salamander',\n",
       " 'max_test_cc': -0.0207398513884,\n",
       " 'max_train_cc': -0.0047959025688200001,\n",
       " 'mean_test_cc': -0.0207398513884,\n",
       " 'mean_train_cc': -0.0047959025688200001,\n",
       " 'stimulus': 'whitenoise',\n",
       " 'type': 'fixedlstm'}"
      ]
     },
     "execution_count": 129,
     "metadata": {},
     "output_type": "execute_result"
    }
   ],
   "source": [
    "all_models[50]"
   ]
  },
  {
   "cell_type": "code",
   "execution_count": null,
   "metadata": {
    "collapsed": true
   },
   "outputs": [],
   "source": []
  }
 ],
 "metadata": {
  "kernelspec": {
   "display_name": "Python 3",
   "language": "python",
   "name": "python3"
  },
  "language_info": {
   "codemirror_mode": {
    "name": "ipython",
    "version": 3
   },
   "file_extension": ".py",
   "mimetype": "text/x-python",
   "name": "python",
   "nbconvert_exporter": "python",
   "pygments_lexer": "ipython3",
   "version": "3.5.1"
  }
 },
 "nbformat": 4,
 "nbformat_minor": 0
}
