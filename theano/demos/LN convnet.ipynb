{
 "cells": [
  {
   "cell_type": "code",
   "execution_count": 2,
   "metadata": {
    "collapsed": false
   },
   "outputs": [],
   "source": [
    "import numpy as np\n",
    "import theano\n",
    "import theano.tensor as T\n",
    "\n",
    "from theano.sandbox.rng_mrg import MRG_RandomStreams as RandomStreams\n",
    "from theano.tensor.nnet.conv import conv2d\n",
    "from theano.tensor.signal.downsample import max_pool_2d\n",
    "\n",
    "%matplotlib inline"
   ]
  },
  {
   "cell_type": "code",
   "execution_count": 51,
   "metadata": {
    "collapsed": true
   },
   "outputs": [],
   "source": [
    "def rolling_window(a, window):\n",
    "    \"\"\"\n",
    "    Make an ndarray with a rolling window of the last dimension\n",
    "\n",
    "    Parameters\n",
    "    ----------\n",
    "    a : array_like\n",
    "        Array to add rolling window to\n",
    "    window : int\n",
    "        Size of rolling window\n",
    "\n",
    "    Returns\n",
    "    -------\n",
    "    Array that is a view of the original array with a added dimension\n",
    "    of size w.\n",
    "\n",
    "    Examples\n",
    "    --------\n",
    "    >>> x=np.arange(10).reshape((2,5))\n",
    "    >>> rolling_window(x, 3)\n",
    "    array([[[0, 1, 2], [1, 2, 3], [2, 3, 4]],\n",
    "           [[5, 6, 7], [6, 7, 8], [7, 8, 9]]])\n",
    "\n",
    "    Calculate rolling mean of last dimension:\n",
    "\n",
    "    >>> np.mean(rolling_window(x, 3), -1)\n",
    "    array([[ 1.,  2.,  3.],\n",
    "           [ 6.,  7.,  8.]])\n",
    "\n",
    "    \"\"\"\n",
    "    assert window >= 1, \"`window` must be at least 1.\"\n",
    "    assert window < a.shape[-1], \"`window` is too long.\"\n",
    "\n",
    "    # # with strides\n",
    "    shape = a.shape[:-1] + (a.shape[-1] - window, window)\n",
    "    strides = a.strides + (a.strides[-1],)\n",
    "    return np.lib.stride_tricks.as_strided(a, shape=shape, strides=strides)"
   ]
  },
  {
   "cell_type": "code",
   "execution_count": 88,
   "metadata": {
    "collapsed": true
   },
   "outputs": [],
   "source": [
    "def floatX(X):\n",
    "    return np.asarray(X, dtype=theano.config.floatX)\n",
    "\n",
    "def init_weights(shape):\n",
    "    return theano.shared(floatX(np.random.randn(*shape) * 0.01))\n",
    "\n",
    "def rectify(X):\n",
    "    return T.maximum(X, 0.)\n",
    "\n",
    "def softmax(X):\n",
    "    e_x = T.exp(X - X.max(axis=1).dimshuffle(0, 'x'))\n",
    "    return e_x / e_x.sum(axis=1).dimshuffle(0, 'x')\n",
    "\n",
    "def poiss(X):\n",
    "    \n",
    "\n",
    "def dropout(X, p=0.):\n",
    "    if p > 0:\n",
    "        retain_prob = 1 - p\n",
    "        X *= srng.binomial(X.shape, p=retain_prob, dtype=theano.config.floatX)\n",
    "        X /= retain_prob\n",
    "    return X\n",
    "\n",
    "def RMSprop(cost, params, lr=0.001, rho=0.9, epsilon=1e-6):\n",
    "    grads = T.grad(cost=cost, wrt=params)\n",
    "    updates = []\n",
    "    for p, g in zip(params, grads):\n",
    "        acc = theano.shared(p.get_value() * 0.)\n",
    "        acc_new = rho * acc + (1 - rho) * g ** 2\n",
    "        gradient_scaling = T.sqrt(acc_new + epsilon)\n",
    "        g = g / gradient_scaling\n",
    "        updates.append((acc, acc_new))\n",
    "        updates.append((p, p - lr * g))\n",
    "    return updates\n",
    "\n",
    "def model(X, w):\n",
    "    return rectify(conv2d(X, w, border_mode='full'))"
   ]
  },
  {
   "cell_type": "markdown",
   "metadata": {},
   "source": [
    "# simulate a toy conv-LN model"
   ]
  },
  {
   "cell_type": "code",
   "execution_count": 45,
   "metadata": {
    "collapsed": true
   },
   "outputs": [],
   "source": [
    "# fake filter\n",
    "filter_dims = (5,5,10)\n",
    "xm, ym = np.meshgrid(np.linspace(-5,5,filter_dims[0]), np.linspace(-5,5,filter_dims[1]))\n",
    "\n",
    "z = xm**2 + ym**2\n",
    "z = np.abs(z.max() - z)\n",
    "\n",
    "f_star = np.outer(z, np.sin(np.linspace(0, 2*np.pi, filter_dims[2]))).reshape(5,5,-1)"
   ]
  },
  {
   "cell_type": "code",
   "execution_count": 81,
   "metadata": {
    "collapsed": false
   },
   "outputs": [],
   "source": [
    "# generate stimulus\n",
    "num_samples = 1000\n",
    "stim_size = (32,32)\n",
    "\n",
    "stim = np.random.randn(*(stim_size + (num_samples,)))"
   ]
  },
  {
   "cell_type": "code",
   "execution_count": 82,
   "metadata": {
    "collapsed": false
   },
   "outputs": [],
   "source": [
    "stim_us = rolling_window(stim, filter_dims[2])\n",
    "stim_us = np.rollaxis(np.rollaxis(stim_us, 3), 3)"
   ]
  },
  {
   "cell_type": "code",
   "execution_count": 83,
   "metadata": {
    "collapsed": false
   },
   "outputs": [],
   "source": [
    "f_conv = np.rollaxis(f_star,2)[np.newaxis,:,:,:]"
   ]
  },
  {
   "cell_type": "code",
   "execution_count": null,
   "metadata": {
    "collapsed": true
   },
   "outputs": [],
   "source": []
  },
  {
   "cell_type": "code",
   "execution_count": null,
   "metadata": {
    "collapsed": true
   },
   "outputs": [],
   "source": []
  },
  {
   "cell_type": "code",
   "execution_count": null,
   "metadata": {
    "collapsed": true
   },
   "outputs": [],
   "source": []
  },
  {
   "cell_type": "code",
   "execution_count": 106,
   "metadata": {
    "collapsed": false
   },
   "outputs": [
    {
     "data": {
      "text/plain": [
       "(100,)"
      ]
     },
     "execution_count": 106,
     "metadata": {},
     "output_type": "execute_result"
    }
   ],
   "source": [
    "# toy example\n",
    "w = init_weights(f_star.shape)"
   ]
  },
  {
   "cell_type": "code",
   "execution_count": 111,
   "metadata": {
    "collapsed": true
   },
   "outputs": [],
   "source": [
    "x = T.ftensor4()\n",
    "y = T.fvector()"
   ]
  },
  {
   "cell_type": "code",
   "execution_count": 118,
   "metadata": {
    "collapsed": false
   },
   "outputs": [],
   "source": [
    "def sqerr(x, y):\n",
    "    u = T.tensordot(w, x, ([0,1,2],[0,1,2]))\n",
    "    return 0.5*((y-u)**2)\n",
    "\n",
    "cost = T.mean(sqerr(x,y))\n",
    "updates = RMSprop(cost, [w], lr=0.001)"
   ]
  },
  {
   "cell_type": "code",
   "execution_count": null,
   "metadata": {
    "collapsed": false
   },
   "outputs": [],
   "source": [
    "train = theano.function(inputs=[x, y], outputs=cost, updates=updates, allow_input_downcast=True)"
   ]
  },
  {
   "cell_type": "code",
   "execution_count": null,
   "metadata": {
    "collapsed": true
   },
   "outputs": [],
   "source": []
  }
 ],
 "metadata": {
  "kernelspec": {
   "display_name": "Python 2",
   "language": "python",
   "name": "python2"
  },
  "language_info": {
   "codemirror_mode": {
    "name": "ipython",
    "version": 2
   },
   "file_extension": ".py",
   "mimetype": "text/x-python",
   "name": "python",
   "nbconvert_exporter": "python",
   "pygments_lexer": "ipython2",
   "version": "2.7.9"
  }
 },
 "nbformat": 4,
 "nbformat_minor": 0
}
