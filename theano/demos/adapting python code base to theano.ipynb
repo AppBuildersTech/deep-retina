{
 "cells": [
  {
   "cell_type": "code",
   "execution_count": 1,
   "metadata": {
    "collapsed": false
   },
   "outputs": [
    {
     "name": "stderr",
     "output_type": "stream",
     "text": [
      "/Library/Frameworks/EPD64.framework/Versions/7.3/lib/python2.7/site-packages/scikits/__init__.py:1: UserWarning: Module IPython was already imported from /Users/lmcintosh/Git/ipython/IPython/__init__.pyc, but /Library/Frameworks/EPD64.framework/Versions/7.3/lib/python2.7/site-packages is being added to sys.path\n",
      "  __import__('pkg_resources').declare_namespace(__name__)\n"
     ]
    }
   ],
   "source": [
    "import numpy as np\n",
    "import theano\n",
    "import theano.tensor as T\n",
    "%matplotlib inline"
   ]
  },
  {
   "cell_type": "markdown",
   "metadata": {},
   "source": [
    "# generate a problem instance"
   ]
  },
  {
   "cell_type": "code",
   "execution_count": 2,
   "metadata": {
    "collapsed": true
   },
   "outputs": [],
   "source": [
    "num_samples = 1000\n",
    "num_spatial_dims = 25\n",
    "num_temporal_dims = 10"
   ]
  },
  {
   "cell_type": "code",
   "execution_count": 4,
   "metadata": {
    "collapsed": false
   },
   "outputs": [],
   "source": [
    "stim = np.random.randn(num_samples, num_temporal_dims, num_spatial_dims, num_spatial_dims)\n",
    "w_star = np.random.randn(num_temporal_dims, num_spatial_dims, num_spatial_dims)\n",
    "\n",
    "# simulate\n",
    "u = np.tensordot(stim, w_star, axes=3)\n",
    "rate = np.log(1 + np.exp(0.1*u))\n",
    "counts= np.random.poisson(rate)"
   ]
  },
  {
   "cell_type": "code",
   "execution_count": 5,
   "metadata": {
    "collapsed": false
   },
   "outputs": [
    {
     "data": {
      "text/plain": [
       "(1000,)"
      ]
     },
     "execution_count": 5,
     "metadata": {},
     "output_type": "execute_result"
    }
   ],
   "source": [
    "u.shape"
   ]
  },
  {
   "cell_type": "markdown",
   "metadata": {},
   "source": [
    "\n",
    "# make the model in Theano"
   ]
  },
  {
   "cell_type": "code",
   "execution_count": 8,
   "metadata": {
    "collapsed": false
   },
   "outputs": [
    {
     "name": "stderr",
     "output_type": "stream",
     "text": [
      "WARNING (theano.tensor.blas): The environment variable 'DYLD_FALLBACK_LIBRARY_PATH' does not contain the '/Library/Frameworks/EPD64.framework/Versions/7.3/lib' path in its value. This will make Theano use a slow version of BLAS. Update 'DYLD_FALLBACK_LIBRARY_PATH' to contain the said value, this will disable this warning.\n",
      "WARNING:theano.tensor.blas:The environment variable 'DYLD_FALLBACK_LIBRARY_PATH' does not contain the '/Library/Frameworks/EPD64.framework/Versions/7.3/lib' path in its value. This will make Theano use a slow version of BLAS. Update 'DYLD_FALLBACK_LIBRARY_PATH' to contain the said value, this will disable this warning.\n"
     ]
    }
   ],
   "source": [
    "# symbolic variable\n",
    "w = T.dmatrix('w')\n",
    "\n",
    "# predicted rate\n",
    "u = T.tensordot(stim, w, ([1,2], [0,1]))\n",
    "rhat = T.log(1+T.exp(0.1*u))\n",
    "\n",
    "# cost function and gradient\n",
    "cost = T.mean(rhat - counts*T.log(rhat)) + 0.001*(w**2).sum()\n",
    "dcost = T.grad(cost, [w])\n",
    "\n",
    "# compiled functions\n",
    "obj = theano.function([w], cost)\n",
    "obj_grad = theano.function([w], dcost)"
   ]
  },
  {
   "cell_type": "markdown",
   "metadata": {},
   "source": [
    "# optimization"
   ]
  },
  {
   "cell_type": "markdown",
   "metadata": {},
   "source": [
    "## Instead of grad_descent import classifier_trainer"
   ]
  },
  {
   "cell_type": "code",
   "execution_count": 15,
   "metadata": {
    "collapsed": false
   },
   "outputs": [],
   "source": [
    "import sys\n",
    "from os.path import expanduser\n",
    "sys.path.append(expanduser('~/Git/deepRGC/python/'))"
   ]
  },
  {
   "cell_type": "code",
   "execution_count": 16,
   "metadata": {
    "collapsed": false
   },
   "outputs": [],
   "source": [
    "import classifier_trainer\n",
    "from classifiers.convnet import three_layer_convnet\n",
    "from classifiers.convnet import init_three_layer_convnet"
   ]
  },
  {
   "cell_type": "code",
   "execution_count": 17,
   "metadata": {
    "collapsed": true
   },
   "outputs": [],
   "source": [
    "trainer = classifier_trainer.ClassifierTrainer()"
   ]
  },
  {
   "cell_type": "markdown",
   "metadata": {},
   "source": [
    "## Make train and val indices"
   ]
  },
  {
   "cell_type": "code",
   "execution_count": null,
   "metadata": {
    "collapsed": true
   },
   "outputs": [],
   "source": []
  },
  {
   "cell_type": "markdown",
   "metadata": {},
   "source": [
    "## Train model"
   ]
  },
  {
   "cell_type": "code",
   "execution_count": null,
   "metadata": {
    "collapsed": true
   },
   "outputs": [],
   "source": [
    "model = init_three_layer_convnet()\n",
    "\n",
    "finetuned_model, loss_history, train_acc_history, val_acc_history = trainer.train_memmap(stim, rate, train_inds, \n",
    "                                                                                         val_inds, model, \n",
    "                                                                                         three_layer_convnet)"
   ]
  },
  {
   "cell_type": "code",
   "execution_count": 9,
   "metadata": {
    "collapsed": true
   },
   "outputs": [],
   "source": [
    "def grad_descent(obj, grad, x0, eta, numiter):\n",
    "    \n",
    "    # initialize\n",
    "    fval = np.zeros(numiter)\n",
    "    gradnorm = np.zeros(numiter)\n",
    "    xk = x0.copy()\n",
    "    \n",
    "    # for each iteration\n",
    "    for k in range(numiter):\n",
    "        \n",
    "        # compute objective\n",
    "        fval[k] = obj(xk)\n",
    "        \n",
    "        # compute gradient\n",
    "        dx = grad(xk)[0]\n",
    "        \n",
    "        # store gradient norm\n",
    "        gradnorm[k] = np.linalg.norm(dx.ravel())\n",
    "        \n",
    "        # gradient descent update\n",
    "        xk -= eta * dx\n",
    "        \n",
    "        if (k%1000) == 0:\n",
    "            print('[%i] obj: %5.4f \\t ||dx|| %5.4f' % (k, fval[k], gradnorm[k]))\n",
    "        \n",
    "    return xk, fval, gradnorm"
   ]
  },
  {
   "cell_type": "code",
   "execution_count": 10,
   "metadata": {
    "collapsed": false,
    "scrolled": true
   },
   "outputs": [
    {
     "name": "stdout",
     "output_type": "stream",
     "text": [
      "[0] obj: 1.0401 \t ||dx|| 0.0584\n",
      "[1000] obj: 0.8555 \t ||dx|| 0.0295\n",
      "[2000] obj: 0.8065 \t ||dx|| 0.0157\n",
      "[3000] obj: 0.7920 \t ||dx|| 0.0088\n",
      "[4000] obj: 0.7874 \t ||dx|| 0.0050\n",
      "[5000] obj: 0.7858 \t ||dx|| 0.0029\n",
      "[6000] obj: 0.7853 \t ||dx|| 0.0017\n",
      "[7000] obj: 0.7851 \t ||dx|| 0.0010\n",
      "[8000] obj: 0.7851 \t ||dx|| 0.0006\n",
      "[9000] obj: 0.7850 \t ||dx|| 0.0004\n"
     ]
    }
   ],
   "source": [
    "x0 = 0.01 * np.random.randn(*w_star.shape)\n",
    "w_opt, fvals, grads = grad_descent(obj, obj_grad, x0, 0.1, 10000)"
   ]
  },
  {
   "cell_type": "code",
   "execution_count": 11,
   "metadata": {
    "collapsed": false
   },
   "outputs": [
    {
     "data": {
      "text/plain": [
       "[<matplotlib.lines.Line2D at 0x7fc94fa41d10>]"
      ]
     },
     "execution_count": 11,
     "metadata": {},
     "output_type": "execute_result"
    },
    {
     "data": {
      "image/png": "[encoded data removed]",
      "text/plain": [
       "<matplotlib.figure.Figure at 0x7fc94fae14d0>"
      ]
     },
     "metadata": {},
     "output_type": "display_data"
    }
   ],
   "source": [
    "iters = np.arange(fvals.size)\n",
    "plt.semilogx(iters,fvals)"
   ]
  },
  {
   "cell_type": "code",
   "execution_count": 12,
   "metadata": {
    "collapsed": false
   },
   "outputs": [
    {
     "data": {
      "text/plain": [
       "[<matplotlib.lines.Line2D at 0x7fc94fa8af10>]"
      ]
     },
     "execution_count": 12,
     "metadata": {},
     "output_type": "execute_result"
    },
    {
     "data": {
      "image/png": "[encoded data removed]",
      "text/plain": [
       "<matplotlib.figure.Figure at 0x7fc94f95c8d0>"
      ]
     },
     "metadata": {},
     "output_type": "display_data"
    }
   ],
   "source": [
    "plt.semilogx(iters, grads)"
   ]
  },
  {
   "cell_type": "code",
   "execution_count": 14,
   "metadata": {
    "collapsed": false
   },
   "outputs": [
    {
     "name": "stdout",
     "output_type": "stream",
     "text": [
      "Obj at true params: 0.9053\n",
      "Obj after optimization: 0.7850\n"
     ]
    }
   ],
   "source": [
    "print('Obj at true params: %5.4f\\nObj after optimization: %5.4f' % (obj(w_star), fvals[-1]))"
   ]
  },
  {
   "cell_type": "code",
   "execution_count": 15,
   "metadata": {
    "collapsed": false
   },
   "outputs": [
    {
     "data": {
      "image/png": "[encoded data removed]",
      "text/plain": [
       "<matplotlib.figure.Figure at 0x7fc94f7da450>"
      ]
     },
     "metadata": {},
     "output_type": "display_data"
    },
    {
     "data": {
      "text/plain": [
       "<matplotlib.figure.Figure at 0x7fc94f7141d0>"
      ]
     },
     "metadata": {},
     "output_type": "display_data"
    }
   ],
   "source": [
    "image(w_star)"
   ]
  },
  {
   "cell_type": "code",
   "execution_count": 16,
   "metadata": {
    "collapsed": false
   },
   "outputs": [
    {
     "data": {
      "image/png": "[encoded data removed]",
      "text/plain": [
       "<matplotlib.figure.Figure at 0x7fc94f949990>"
      ]
     },
     "metadata": {},
     "output_type": "display_data"
    },
    {
     "data": {
      "text/plain": [
       "<matplotlib.figure.Figure at 0x7fc94f81bc10>"
      ]
     },
     "metadata": {},
     "output_type": "display_data"
    }
   ],
   "source": [
    "image(w_opt)"
   ]
  },
  {
   "cell_type": "code",
   "execution_count": 17,
   "metadata": {
    "collapsed": false
   },
   "outputs": [
    {
     "data": {
      "image/png": "[encoded data removed]",
      "text/plain": [
       "<matplotlib.figure.Figure at 0x7fc94f813550>"
      ]
     },
     "metadata": {},
     "output_type": "display_data"
    },
    {
     "data": {
      "text/plain": [
       "<matplotlib.figure.Figure at 0x7fc94f829b10>"
      ]
     },
     "metadata": {},
     "output_type": "display_data"
    }
   ],
   "source": [
    "image(np.vstack((w_star,w_opt,0.5*(w_star-w_opt)**2)))"
   ]
  },
  {
   "cell_type": "code",
   "execution_count": null,
   "metadata": {
    "collapsed": true
   },
   "outputs": [],
   "source": []
  }
 ],
 "metadata": {
  "kernelspec": {
   "display_name": "Python 2",
   "language": "python",
   "name": "python2"
  },
  "language_info": {
   "codemirror_mode": {
    "name": "ipython",
    "version": 2
   },
   "file_extension": ".py",
   "mimetype": "text/x-python",
   "name": "python",
   "nbconvert_exporter": "python",
   "pygments_lexer": "ipython2",
   "version": "2.7.3"
  }
 },
 "nbformat": 4,
 "nbformat_minor": 0
}
