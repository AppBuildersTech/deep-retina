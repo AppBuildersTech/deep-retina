{
 "metadata": {
  "name": "",
  "signature": "sha256:12ccad7555761cab205def46fb734db05eeb61fd9f4b146d1af40174e527c6b7"
 },
 "nbformat": 3,
 "nbformat_minor": 0,
 "worksheets": [
  {
   "cells": [
    {
     "cell_type": "code",
     "collapsed": false,
     "input": [
      "%matplotlib inline\n",
      "import blocks\n",
      "import theano\n",
      "import theano.tensor as T\n",
      "import numpy as np"
     ],
     "language": "python",
     "metadata": {},
     "outputs": [],
     "prompt_number": 107
    },
    {
     "cell_type": "code",
     "collapsed": false,
     "input": [
      "import os\n",
      "import h5py\n",
      "import pyret.filtertools as ft\n",
      "import pyret.stimulustools as st\n",
      "import pyret.spiketools as spkt\n",
      "import pyret.visualizations as viz"
     ],
     "language": "python",
     "metadata": {},
     "outputs": [],
     "prompt_number": 61
    },
    {
     "cell_type": "markdown",
     "metadata": {},
     "source": [
      "## Helper functions"
     ]
    },
    {
     "cell_type": "code",
     "collapsed": false,
     "input": [
      "def rolling_window(a, window):\n",
      "    \"\"\"\n",
      "    Make an ndarray with a rolling window of the last dimension\n",
      "\n",
      "    Parameters\n",
      "    ----------\n",
      "    a : array_like\n",
      "        Array to add rolling window to\n",
      "    window : int\n",
      "        Size of rolling window\n",
      "\n",
      "    Returns\n",
      "    -------\n",
      "    Array that is a view of the original array with a added dimension\n",
      "    of size w.\n",
      "\n",
      "    Examples\n",
      "    --------\n",
      "    >>> x=np.arange(10).reshape((2,5))\n",
      "    >>> rolling_window(x, 3)\n",
      "    array([[[0, 1, 2], [1, 2, 3], [2, 3, 4]],\n",
      "           [[5, 6, 7], [6, 7, 8], [7, 8, 9]]])\n",
      "\n",
      "    Calculate rolling mean of last dimension:\n",
      "\n",
      "    >>> np.mean(rolling_window(x, 3), -1)\n",
      "    array([[ 1.,  2.,  3.],\n",
      "           [ 6.,  7.,  8.]])\n",
      "\n",
      "    \"\"\"\n",
      "    assert window >= 1, \"`window` must be at least 1.\"\n",
      "    assert window < a.shape[-1], \"`window` is too long.\"\n",
      "\n",
      "    # # with strides\n",
      "    shape = a.shape[:-1] + (a.shape[-1] - window, window)\n",
      "    strides = a.strides + (a.strides[-1],)\n",
      "    return np.lib.stride_tricks.as_strided(a, shape=shape, strides=strides)"
     ],
     "language": "python",
     "metadata": {},
     "outputs": [],
     "prompt_number": 72
    },
    {
     "cell_type": "markdown",
     "metadata": {},
     "source": [
      "## Data loading"
     ]
    },
    {
     "cell_type": "code",
     "collapsed": false,
     "input": [
      "datadir = os.path.expanduser('~/experiments/data/012314b/')\n",
      "filename = 'retina_012314b.hdf5'\n",
      "f = h5py.File(os.path.join(datadir, filename))"
     ],
     "language": "python",
     "metadata": {},
     "outputs": [],
     "prompt_number": 5
    },
    {
     "cell_type": "code",
     "collapsed": false,
     "input": [
      "stim = f['stimulus/sequence']\n",
      "timestamps = f['stimulus/timestamps']\n",
      "spk = f['spikes']"
     ],
     "language": "python",
     "metadata": {},
     "outputs": [],
     "prompt_number": 62
    },
    {
     "cell_type": "code",
     "collapsed": false,
     "input": [
      "sta, tax = ft.getsta(np.array(timestamps), np.array(stim), np.array(spk['cell1']), 40)\n",
      "viz.plotsta(tax,sta)"
     ],
     "language": "python",
     "metadata": {},
     "outputs": [],
     "prompt_number": 39
    },
    {
     "cell_type": "code",
     "collapsed": false,
     "input": [
      "# bin spikes\n",
      "bspk, tbins = spkt.binspikes(spk['cell1'], time=np.append(timestamps, timestamps[-1]+0.01))\n",
      "bspk = bspk[40:]"
     ],
     "language": "python",
     "metadata": {},
     "outputs": [],
     "prompt_number": 78
    },
    {
     "cell_type": "markdown",
     "metadata": {},
     "source": [
      "## Blocks"
     ]
    },
    {
     "cell_type": "code",
     "collapsed": false,
     "input": [
      "stim_rolled = rolling_window(np.array(stim), 40)"
     ],
     "language": "python",
     "metadata": {},
     "outputs": [],
     "prompt_number": 74
    },
    {
     "cell_type": "code",
     "collapsed": false,
     "input": [
      "newstim = np.rollaxis(np.rollaxis(stim_rolled, 2, 0), 3, 1)"
     ],
     "language": "python",
     "metadata": {},
     "outputs": [],
     "prompt_number": 95
    },
    {
     "cell_type": "code",
     "collapsed": false,
     "input": [
      "np.rollaxis?"
     ],
     "language": "python",
     "metadata": {},
     "outputs": [],
     "prompt_number": 86
    },
    {
     "cell_type": "code",
     "collapsed": false,
     "input": [
      "from blocks.bricks.conv import Convolutional, ConvolutionalLayer, ConvolutionalActivation\n",
      "from blocks.initialization import IsotropicGaussian, Constant"
     ],
     "language": "python",
     "metadata": {},
     "outputs": [],
     "prompt_number": 160
    },
    {
     "cell_type": "code",
     "collapsed": false,
     "input": [
      "convbrick = Convolutional((11,11), 1, 40, batch_size=256, image_size=(100,100), weights_init=IsotropicGaussian(), biases_init=Constant(0.01))"
     ],
     "language": "python",
     "metadata": {},
     "outputs": [],
     "prompt_number": 137
    },
    {
     "cell_type": "code",
     "collapsed": false,
     "input": [
      "convbrick.initialize()"
     ],
     "language": "python",
     "metadata": {},
     "outputs": [],
     "prompt_number": 143
    },
    {
     "cell_type": "code",
     "collapsed": false,
     "input": [
      "x = T.ftensor4()"
     ],
     "language": "python",
     "metadata": {},
     "outputs": [],
     "prompt_number": 145
    },
    {
     "cell_type": "code",
     "collapsed": true,
     "input": [
      "y = convbrick.apply(x)"
     ],
     "language": "python",
     "metadata": {},
     "outputs": [],
     "prompt_number": 146
    },
    {
     "cell_type": "code",
     "collapsed": false,
     "input": [
      "f = theano.function(inputs=[x], outputs=[y])"
     ],
     "language": "python",
     "metadata": {},
     "outputs": [],
     "prompt_number": 147
    },
    {
     "cell_type": "code",
     "collapsed": false,
     "input": [
      "output = f(newstim[:512,:,:,:])"
     ],
     "language": "python",
     "metadata": {},
     "outputs": [],
     "prompt_number": 155
    },
    {
     "cell_type": "code",
     "collapsed": false,
     "input": [
      "output[0].shape"
     ],
     "language": "python",
     "metadata": {},
     "outputs": [
      {
       "metadata": {},
       "output_type": "pyout",
       "prompt_number": 156,
       "text": [
        "(512, 1, 90, 90)"
       ]
      }
     ],
     "prompt_number": 156
    },
    {
     "cell_type": "markdown",
     "metadata": {},
     "source": [
      "### convolutional layer"
     ]
    },
    {
     "cell_type": "code",
     "collapsed": false,
     "input": [
      "from blocks.bricks import Rectifier"
     ],
     "language": "python",
     "metadata": {},
     "outputs": [],
     "prompt_number": 167
    },
    {
     "cell_type": "code",
     "collapsed": false,
     "input": [
      "convlayer = ConvolutionalLayer(Rectifier().apply, filter_size=(11,11), num_filters=1, num_channels=40, batch_size=256, pooling_size=(10,10), image_size=(100,100), weights_init=IsotropicGaussian(), biases_init=Constant(0.01))"
     ],
     "language": "python",
     "metadata": {},
     "outputs": [],
     "prompt_number": 221
    },
    {
     "cell_type": "code",
     "collapsed": false,
     "input": [
      "convlayer.initialize()"
     ],
     "language": "python",
     "metadata": {},
     "outputs": [],
     "prompt_number": 222
    },
    {
     "cell_type": "code",
     "collapsed": false,
     "input": [
      "convlayer.apply(x)"
     ],
     "language": "python",
     "metadata": {},
     "outputs": [
      {
       "metadata": {},
       "output_type": "pyout",
       "prompt_number": 223,
       "text": [
        "convolutionallayer_apply_output"
       ]
      }
     ],
     "prompt_number": 223
    },
    {
     "cell_type": "code",
     "collapsed": false,
     "input": [
      "f = theano.function(inputs=[x], outputs=[convlayer.apply(x)])"
     ],
     "language": "python",
     "metadata": {},
     "outputs": [],
     "prompt_number": 224
    },
    {
     "cell_type": "code",
     "collapsed": false,
     "input": [
      "output = f(newstim[:512,:,:,:])"
     ],
     "language": "python",
     "metadata": {},
     "outputs": [],
     "prompt_number": 225
    },
    {
     "cell_type": "code",
     "collapsed": false,
     "input": [
      "output[0].shape"
     ],
     "language": "python",
     "metadata": {},
     "outputs": [
      {
       "metadata": {},
       "output_type": "pyout",
       "prompt_number": 226,
       "text": [
        "(512, 1, 9, 9)"
       ]
      }
     ],
     "prompt_number": 226
    },
    {
     "cell_type": "code",
     "collapsed": false,
     "input": [
      "plt.imshow(np.squeeze(output[0][0,0,:,:]))"
     ],
     "language": "python",
     "metadata": {},
     "outputs": [
      {
       "metadata": {},
       "output_type": "pyout",
       "prompt_number": 229,
       "text": [
        "<matplotlib.image.AxesImage at 0x7fdd124eb950>"
       ]
      },
      {
       "metadata": {},
       "output_type": "display_data",
       "png": "[encoded data removed]",
       "text": [
        "<matplotlib.figure.Figure at 0x7fdd12de8490>"
       ]
      }
     ],
     "prompt_number": 229
    },
    {
     "cell_type": "code",
     "collapsed": false,
     "input": [],
     "language": "python",
     "metadata": {},
     "outputs": []
    }
   ],
   "metadata": {}
  }
 ]
}