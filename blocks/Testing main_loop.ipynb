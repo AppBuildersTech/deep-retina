{
 "cells": [
  {
   "cell_type": "code",
   "execution_count": 5,
   "metadata": {
    "collapsed": false
   },
   "outputs": [],
   "source": [
    "import blocks\n",
    "import theano\n",
    "import theano.tensor as T\n",
    "import numpy as np\n",
    "\n",
    "%matplotlib inline\n",
    "import matplotlib.pyplot as plt\n",
    "plt.rcParams['figure.figsize'] = (10.0, 8.0) # set default size of plots\n",
    "plt.rcParams['image.interpolation'] = 'nearest'\n",
    "plt.rcParams['image.cmap'] = 'gray'\n",
    "\n",
    "from nems.utilities import rolling_window\n",
    "\n",
    "# Some more magic so that the notebook will reload external python modules;\n",
    "# see http://stackoverflow.com/questions/1907993/autoreload-of-modules-in-ipython\n",
    "%load_ext autoreload\n",
    "%autoreload 2"
   ]
  },
  {
   "cell_type": "markdown",
   "metadata": {},
   "source": [
    "# Load data"
   ]
  },
  {
   "cell_type": "code",
   "execution_count": 2,
   "metadata": {
    "collapsed": false
   },
   "outputs": [
    {
     "name": "stdout",
     "output_type": "stream",
     "text": [
      "((299850, 40, 32, 32), (299850, 11))\n"
     ]
    }
   ],
   "source": [
    "from scipy.io import loadmat\n",
    "import os.path as path\n",
    "from lnl_model_functions import gaussian\n",
    "\n",
    "data_dir = '/Users/lmcintosh/Git/deepRGC/datasets/white_noise/'\n",
    "metadata = np.load(path.join(data_dir, 'metadata.npz'))['metadata'].item()\n",
    "stim  = np.memmap(path.join(data_dir, 'stim_norm.dat'), dtype=metadata['stim_norm_dtype'], \n",
    "                  mode='r', shape=metadata['stim_norm_shape'])\n",
    "rates = np.memmap(path.join(data_dir, 'rates.dat'), dtype=metadata['rates_dtype'], \n",
    "                  mode='r', shape=metadata['rates_shape'])\n",
    "times = np.linspace(0, 0.01*rates.shape[0], rates.shape[0])\n",
    "\n",
    "rates_filt = np.zeros(rates.shape)\n",
    "filt       = gaussian(x=np.linspace(-5,5,10), sigma=1, mu=0)\n",
    "for cell in xrange(rates.shape[1]):\n",
    "    rates_filt[:,cell] = np.convolve(rates[:,cell], filt, mode='same')\n",
    "    \n",
    "stim_sliced = stim[34:-34, 34:-34,:]\n",
    "#stim_sliced = stim[52:64, 36:48]\n",
    "X = rolling_window(stim_sliced, 40)\n",
    "X = np.rollaxis(X, 2)\n",
    "X = np.rollaxis(X, 3, 1)\n",
    "\n",
    "Y = rates_filt[X.shape[1]:]\n",
    "\n",
    "print (X.shape, Y.shape)"
   ]
  },
  {
   "cell_type": "markdown",
   "metadata": {},
   "source": [
    "# Create a 1 layer convolution-rectification-pool model"
   ]
  },
  {
   "cell_type": "code",
   "execution_count": 3,
   "metadata": {
    "collapsed": true
   },
   "outputs": [],
   "source": [
    "from blocks.bricks.conv import Convolutional, ConvolutionalLayer, ConvolutionalActivation\n",
    "from blocks.initialization import IsotropicGaussian, Constant\n",
    "from blocks.bricks import Rectifier"
   ]
  },
  {
   "cell_type": "code",
   "execution_count": 4,
   "metadata": {
    "collapsed": true
   },
   "outputs": [],
   "source": [
    "convlayer = ConvolutionalLayer(Rectifier().apply, filter_size=(11,11), num_filters=1, num_channels=40, batch_size=256, pooling_size=(10,10), image_size=(32,32), weights_init=IsotropicGaussian(), biases_init=Constant(0.01))\n",
    "convlayer.initialize()"
   ]
  },
  {
   "cell_type": "markdown",
   "metadata": {},
   "source": [
    "# Test main_loop"
   ]
  },
  {
   "cell_type": "code",
   "execution_count": null,
   "metadata": {
    "collapsed": true
   },
   "outputs": [],
   "source": [
    "from trainer import Trainer\n",
    "\n",
    "train_me = Trainer()\n",
    "learning_rate = 5e-6\n",
    "reg = 0.0\n",
    "dropout = 1.0\n",
    "num_epochs = 1\n",
    "\n",
    "\n",
    "new_model = trainer.train_memmap(X, y[:,cell], trainMask, valMask, model, three_layer_convnet, \n",
    "                                 learning_rate=learning_rate, reg=reg, update='rmsprop',\n",
    "                                 dropout=dropout, num_epochs=num_epochs, batch_size=50, verbose=True,\n",
    "                                 acc_frequency=5, save_plots=True)"
   ]
  }
 ],
 "metadata": {
  "kernelspec": {
   "display_name": "Python 2",
   "language": "python",
   "name": "python2"
  },
  "language_info": {
   "codemirror_mode": {
    "name": "ipython",
    "version": 2
   },
   "file_extension": ".py",
   "mimetype": "text/x-python",
   "name": "python",
   "nbconvert_exporter": "python",
   "pygments_lexer": "ipython2",
   "version": "2.7.3"
  }
 },
 "nbformat": 4,
 "nbformat_minor": 0
}
