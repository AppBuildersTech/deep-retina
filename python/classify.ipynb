{
 "metadata": {
  "name": "",
  "signature": "sha256:c5533305b7bbe7089d1d73e324426ab6de539d03e0136427b8ec5bcd877e517b"
 },
 "nbformat": 3,
 "nbformat_minor": 0,
 "worksheets": [
  {
   "cells": [
    {
     "cell_type": "markdown",
     "metadata": {},
     "source": [
      "# Classify stimulus movie clips using python convnets"
     ]
    },
    {
     "cell_type": "code",
     "collapsed": false,
     "input": [
      "# A bit of setup\n",
      "\n",
      "import numpy as np\n",
      "import matplotlib.pyplot as plt\n",
      "from time import time\n",
      "import re\n",
      "from os import listdir\n",
      "from os.path import isfile, join\n",
      "from scipy import misc\n",
      "import scipy.io\n",
      "from lnl_model_functions import *\n",
      "\n",
      "%matplotlib inline\n",
      "plt.rcParams['figure.figsize'] = (10.0, 8.0) # set default size of plots\n",
      "plt.rcParams['image.interpolation'] = 'nearest'\n",
      "plt.rcParams['image.cmap'] = 'gray'\n",
      "\n",
      "# for auto-reloading extenrnal modules\n",
      "# see http://stackoverflow.com/questions/1907993/autoreload-of-modules-in-ipython\n",
      "%load_ext autoreload\n",
      "%autoreload 2"
     ],
     "language": "python",
     "metadata": {},
     "outputs": [],
     "prompt_number": 1
    },
    {
     "cell_type": "markdown",
     "metadata": {},
     "source": [
      "# Load labels"
     ]
    },
    {
     "cell_type": "code",
     "collapsed": false,
     "input": [
      "labels_dir = '/Users/lmcintosh/Git/deepRGC/datasets/experiment_2013_02_27/labels'\n",
      "filename   = 'all.txt'\n",
      "\n",
      "text_file = open(labels_dir + '/' + filename, \"r\")\n",
      "spikes = text_file.read().split('\\t')\n",
      "#cells.append([float(spike) for spike in spikes if not ((not spike) or (spike.startswith(\"c\")))])\n",
      "\n",
      "text_file.close()"
     ],
     "language": "python",
     "metadata": {},
     "outputs": [],
     "prompt_number": 2
    },
    {
     "cell_type": "code",
     "collapsed": false,
     "input": [
      "# labels are numCell tuples\n",
      "s_prev = 0.0\n",
      "eachCell = []\n",
      "cells = []\n",
      "for ids,s in enumerate(spikes):\n",
      "    if '\\r' in s:\n",
      "        newSpikes = re.split('\\r', s)\n",
      "        if 'NAN' in newSpikes[0]:\n",
      "            cells.append(eachCell)\n",
      "            eachCell = []\n",
      "            if newSpikes[1] == '':\n",
      "                continue\n",
      "            else:\n",
      "                eachCell.append(float(newSpikes[1]))\n",
      "        else:\n",
      "            eachCell.append(float(newSpikes[0]))\n",
      "            cells.append(eachCell)\n",
      "            eachCell = []\n",
      "            eachCell.append(float(newSpikes[1]))\n",
      "    elif 'NAN' in s:\n",
      "        continue\n",
      "    else:\n",
      "        eachCell.append(float(s))        "
     ],
     "language": "python",
     "metadata": {},
     "outputs": [],
     "prompt_number": 3
    },
    {
     "cell_type": "code",
     "collapsed": false,
     "input": [
      "print 'There are %d cells.' %(shape(cells)[0])"
     ],
     "language": "python",
     "metadata": {},
     "outputs": [
      {
       "output_type": "stream",
       "stream": "stdout",
       "text": [
        "There are 22 cells.\n"
       ]
      }
     ],
     "prompt_number": 4
    },
    {
     "cell_type": "code",
     "collapsed": false,
     "input": [
      "longest_duration = max([max(c) for c in cells])"
     ],
     "language": "python",
     "metadata": {},
     "outputs": [],
     "prompt_number": 5
    },
    {
     "cell_type": "code",
     "collapsed": false,
     "input": [
      "precision = 0.02 #0.010 # 10 ms\n",
      "numBins   = int(ceil(longest_duration/precision))+1"
     ],
     "language": "python",
     "metadata": {},
     "outputs": [],
     "prompt_number": 6
    },
    {
     "cell_type": "code",
     "collapsed": false,
     "input": [
      "numCells = shape(cells)[0]\n",
      "labels = np.zeros((numCells, numBins))\n",
      "\n",
      "for idc,c in enumerate(cells):\n",
      "    for s in c:\n",
      "        myBin = int(ceil(s/precision))\n",
      "        # even if more than one spike in this bin, threshold at 1\n",
      "        labels[idc, myBin] = 1"
     ],
     "language": "python",
     "metadata": {},
     "outputs": [],
     "prompt_number": 7
    },
    {
     "cell_type": "markdown",
     "metadata": {},
     "source": [
      "# Load stimulus"
     ]
    },
    {
     "cell_type": "code",
     "collapsed": false,
     "input": [
      "stimulus_dir = '/Users/lmcintosh/Git/deepRGC/datasets/experiment_2013_02_27/generate_frames/spatial_white'\n",
      "filename_prefix = 'frame'\n",
      "filename_suffix = '.png'"
     ],
     "language": "python",
     "metadata": {},
     "outputs": [],
     "prompt_number": 8
    },
    {
     "cell_type": "code",
     "collapsed": false,
     "input": [
      "allfiles = [f for f in listdir(stimulus_dir) if isfile(join(stimulus_dir,f)) and '.png' in f]\n",
      "print 'There are %d files.' %(len(allfiles))"
     ],
     "language": "python",
     "metadata": {},
     "outputs": [
      {
       "output_type": "stream",
       "stream": "stdout",
       "text": [
        "There are 12500 files.\n"
       ]
      }
     ],
     "prompt_number": 9
    },
    {
     "cell_type": "code",
     "collapsed": false,
     "input": [
      "test = misc.imread(stimulus_dir + '/' + filename_prefix + str(1) + filename_suffix, flatten=True)"
     ],
     "language": "python",
     "metadata": {},
     "outputs": [],
     "prompt_number": 10
    },
    {
     "cell_type": "code",
     "collapsed": false,
     "input": [
      "imshow(test)"
     ],
     "language": "python",
     "metadata": {},
     "outputs": [
      {
       "metadata": {},
       "output_type": "pyout",
       "prompt_number": 11,
       "text": [
        "<matplotlib.image.AxesImage at 0x112e7fe50>"
       ]
      },
      {
       "metadata": {},
       "output_type": "display_data",
       "png": "[encoded data removed]",
       "text": [
        "<matplotlib.figure.Figure at 0x10de58bd0>"
       ]
      }
     ],
     "prompt_number": 11
    },
    {
     "cell_type": "code",
     "collapsed": false,
     "input": [
      "imshow(test[::8,::8])"
     ],
     "language": "python",
     "metadata": {},
     "outputs": [
      {
       "metadata": {},
       "output_type": "pyout",
       "prompt_number": 14,
       "text": [
        "<matplotlib.image.AxesImage at 0x112e2e350>"
       ]
      },
      {
       "metadata": {},
       "output_type": "display_data",
       "png": "[encoded data removed]",
       "text": [
        "<matplotlib.figure.Figure at 0x111099350>"
       ]
      }
     ],
     "prompt_number": 14
    },
    {
     "cell_type": "code",
     "collapsed": false,
     "input": [
      "test[::8,::8].shape"
     ],
     "language": "python",
     "metadata": {},
     "outputs": [
      {
       "metadata": {},
       "output_type": "pyout",
       "prompt_number": 15,
       "text": [
        "(64, 64)"
       ]
      }
     ],
     "prompt_number": 15
    },
    {
     "cell_type": "code",
     "collapsed": false,
     "input": [
      "maxNumExamples = 4500\n",
      "subsampleFactor = 8\n",
      "\n",
      "framesPerExample = 20\n",
      "numExamples = min(len(allfiles) - framesPerExample + 1, maxNumExamples)\n",
      "test = misc.imread(stimulus_dir + '/' + filename_prefix + str(1) + filename_suffix, flatten=True)\n",
      "test = test[::subsampleFactor,::subsampleFactor]\n",
      "examples = np.zeros((numExamples, framesPerExample, test.shape[0], test.shape[1]), dtype=uint8)\n",
      "for i in xrange(min(len(allfiles), maxNumExamples + framesPerExample + 1)):\n",
      "    if i % 1000 == 0:\n",
      "        print 'Done with %d out of %d examples.' %(i, numExamples)\n",
      "    im = misc.imread(stimulus_dir + '/' + filename_prefix + str(i+1) + filename_suffix, flatten=True)\n",
      "    examplesWithFrame = min(framesPerExample,i+1)\n",
      "    pairs = [(ex+max(0,i-framesPerExample+1),examplesWithFrame-1-ex) for ex in xrange(examplesWithFrame) if ex+max(0,i-framesPerExample+1) < numExamples]\n",
      "    for p in pairs:\n",
      "        examples[p[0],p[1],:,:] = im[::8,::8]\n",
      "    "
     ],
     "language": "python",
     "metadata": {},
     "outputs": [
      {
       "output_type": "stream",
       "stream": "stdout",
       "text": [
        "Done with 0 out of 4500 examples.\n",
        "Done with 1000 out of 4500 examples."
       ]
      },
      {
       "output_type": "stream",
       "stream": "stdout",
       "text": [
        "\n",
        "Done with 2000 out of 4500 examples."
       ]
      },
      {
       "output_type": "stream",
       "stream": "stdout",
       "text": [
        "\n",
        "Done with 3000 out of 4500 examples."
       ]
      },
      {
       "output_type": "stream",
       "stream": "stdout",
       "text": [
        "\n",
        "Done with 4000 out of 4500 examples."
       ]
      },
      {
       "output_type": "stream",
       "stream": "stdout",
       "text": [
        "\n"
       ]
      }
     ],
     "prompt_number": 254
    },
    {
     "cell_type": "code",
     "collapsed": false,
     "input": [
      "examples.shape"
     ],
     "language": "python",
     "metadata": {},
     "outputs": [
      {
       "metadata": {},
       "output_type": "pyout",
       "prompt_number": 255,
       "text": [
        "(4500, 20, 64, 64)"
       ]
      }
     ],
     "prompt_number": 255
    },
    {
     "cell_type": "code",
     "collapsed": false,
     "input": [
      "tmp = []\n",
      "im = misc.imread(stimulus_dir + '/' + filename_prefix + str(1) + filename_suffix, flatten=True)\n",
      "for t in xrange(1,12500):\n",
      "    nextim = misc.imread(stimulus_dir + '/' + filename_prefix + str(t+1) + filename_suffix, flatten=True)\n",
      "    tmp.append(np.sum(abs(im-nextim)))"
     ],
     "language": "python",
     "metadata": {},
     "outputs": [],
     "prompt_number": 283
    },
    {
     "cell_type": "code",
     "collapsed": false,
     "input": [
      "min(tmp)"
     ],
     "language": "python",
     "metadata": {},
     "outputs": [
      {
       "metadata": {},
       "output_type": "pyout",
       "prompt_number": 284,
       "text": [
        "8570112.0"
       ]
      }
     ],
     "prompt_number": 284
    },
    {
     "cell_type": "code",
     "collapsed": false,
     "input": [],
     "language": "python",
     "metadata": {},
     "outputs": []
    },
    {
     "cell_type": "markdown",
     "metadata": {},
     "source": [
      "# Get timing information"
     ]
    },
    {
     "cell_type": "code",
     "collapsed": false,
     "input": [
      "timing_dir = '/Users/lmcintosh/Git/deepRGC/datasets/experiment_2013_02_27/labels'\n",
      "stim = scipy.io.loadmat(timing_dir + '/' + '20130227T112709.mat')\n",
      "stim_vars = stim['ex']\n",
      "stim_vals = stim_vars[0,0]"
     ],
     "language": "python",
     "metadata": {},
     "outputs": [],
     "prompt_number": 19
    },
    {
     "cell_type": "code",
     "collapsed": false,
     "input": [
      "numFrames = stim_vals['ds']['vbl'][0][0].shape[0]\n",
      "startStim = stim_vals['ds']['vbl'][0][0][0,0];\n",
      "startData = 0;\n",
      "normalizedTime = stim_vals['ds']['vbl'][0][0] - startStim;     # frames x conditions\n",
      "exptLength = max(normalizedTime.flat)/60;   # in minutes\n",
      "trialLength = size(normalizedTime,0);       # in frames\n",
      "frameLength = (stim_vals['ds']['vbl'][0][0][trialLength-1,0] - stim_vals['ds']['vbl'][0][0][0,0])/(trialLength-1)\n",
      "#stim_vals['ds']['vbl'][0][0][1,0] - stim_vals['ds']['vbl'][0][0][0,0];  # in seconds\n",
      "trialDur = trialLength*frameLength;         # in seconds\n",
      "numTrials = int(round(exptLength*60/trialDur))\n",
      "numTrialsPerCondition = 10\n",
      "\n",
      "stimType = [stim_vals['pa']['stimType'][0][0][i][0][0] for i in xrange(numTrials)]"
     ],
     "language": "python",
     "metadata": {},
     "outputs": [],
     "prompt_number": 20
    },
    {
     "cell_type": "code",
     "collapsed": false,
     "input": [
      "normalizedTime.shape"
     ],
     "language": "python",
     "metadata": {},
     "outputs": [
      {
       "metadata": {},
       "output_type": "pyout",
       "prompt_number": 21,
       "text": [
        "(4000, 40)"
       ]
      }
     ],
     "prompt_number": 21
    },
    {
     "cell_type": "code",
     "collapsed": false,
     "input": [
      "def raster(event_times_list, color='k'):\n",
      "    \"\"\"\n",
      "    Creates a raster plot\n",
      " \n",
      "    Parameters\n",
      "    ----------\n",
      "    event_times_list : iterable\n",
      "                       a list of event time iterables\n",
      "    color : string\n",
      "            color of vlines\n",
      " \n",
      "    Returns\n",
      "    -------\n",
      "    ax : an axis containing the raster plot\n",
      "    \"\"\"\n",
      "    ax = gca()\n",
      "    for ith, trial in enumerate(event_times_list):\n",
      "        vlines(trial, ith + .5, ith + 1.5, color=color,linewidth=1.3)\n",
      "    ylim(.5, len(event_times_list) + .5)\n",
      "    \n",
      "    return ax"
     ],
     "language": "python",
     "metadata": {},
     "outputs": [],
     "prompt_number": 23
    },
    {
     "cell_type": "code",
     "collapsed": false,
     "input": [
      "n = 0\n",
      "allTrials = []\n",
      "for trial in xrange(normalizedTime.shape[1]):\n",
      "    start = normalizedTime[0,trial]\n",
      "    end   = normalizedTime[-1,trial]\n",
      "    allTrials.append([s-start for s in cells[n] if end >= s and start <= s])\n",
      "    \n"
     ],
     "language": "python",
     "metadata": {},
     "outputs": [],
     "prompt_number": 26
    },
    {
     "cell_type": "code",
     "collapsed": false,
     "input": [
      "raster(allTrials)"
     ],
     "language": "python",
     "metadata": {},
     "outputs": [
      {
       "metadata": {},
       "output_type": "pyout",
       "prompt_number": 27,
       "text": [
        "<matplotlib.axes._subplots.AxesSubplot at 0x111099510>"
       ]
      },
      {
       "metadata": {},
       "output_type": "display_data",
       "png": "[encoded data removed]",
       "text": [
        "<matplotlib.figure.Figure at 0x112e18690>"
       ]
      }
     ],
     "prompt_number": 27
    },
    {
     "cell_type": "code",
     "collapsed": false,
     "input": [
      "binsPerTrial = int(ceil(trialDur*50))"
     ],
     "language": "python",
     "metadata": {},
     "outputs": [],
     "prompt_number": 50
    },
    {
     "cell_type": "markdown",
     "metadata": {},
     "source": [
      "# Smooth raw spike trains with 10ms std Gaussian to get PSTHs"
     ]
    },
    {
     "cell_type": "code",
     "collapsed": false,
     "input": [
      "filt = gaussian(x=np.linspace(-.50,.50,100), sigma=.1, mu=0)\n",
      "plot(filt)"
     ],
     "language": "python",
     "metadata": {},
     "outputs": [
      {
       "metadata": {},
       "output_type": "pyout",
       "prompt_number": 226,
       "text": [
        "[<matplotlib.lines.Line2D at 0x11365c650>]"
       ]
      },
      {
       "metadata": {},
       "output_type": "display_data",
       "png": "[encoded data removed]",
       "text": [
        "<matplotlib.figure.Figure at 0x113651750>"
       ]
      }
     ],
     "prompt_number": 226
    },
    {
     "cell_type": "code",
     "collapsed": false,
     "input": [
      "labels_aligned = np.zeros((numCells, binsPerTrial, normalizedTime.shape[1]))\n",
      "for n in xrange(numCells):\n",
      "    for trial in xrange(normalizedTime.shape[1]):\n",
      "        labels_aligned[n,:,trial] = labels[n, trial*binsPerTrial:(trial+1)*binsPerTrial]\n",
      "\n",
      "numSpatialWhiteTrials = 20\n",
      "spatialWhitePSTH = {}\n",
      "for n in xrange(numCells):\n",
      "    spatialWhitePSTH[n] = np.sum(labels_aligned[n,:,:numSpatialWhiteTrials], axis=1)/numSpatialWhiteTrials\n",
      "    trueMean = np.mean(spatialWhitePSTH[n])\n",
      "    spatialWhitePSTH[n] = np.convolve(filt, spatialWhitePSTH[n],'same')\n",
      "    spatialWhitePSTH[n] *= trueMean / np.mean(spatialWhitePSTH[n])"
     ],
     "language": "python",
     "metadata": {},
     "outputs": [],
     "prompt_number": 227
    },
    {
     "cell_type": "code",
     "collapsed": false,
     "input": [
      "plot(spatialWhitePSTH[3])"
     ],
     "language": "python",
     "metadata": {},
     "outputs": [
      {
       "metadata": {},
       "output_type": "pyout",
       "prompt_number": 228,
       "text": [
        "[<matplotlib.lines.Line2D at 0x12e4e4b10>]"
       ]
      },
      {
       "metadata": {},
       "output_type": "display_data",
       "png": "[encoded data removed]",
       "text": [
        "<matplotlib.figure.Figure at 0x1134a4e10>"
       ]
      }
     ],
     "prompt_number": 228
    },
    {
     "cell_type": "code",
     "collapsed": false,
     "input": [
      "correlations = {}\n",
      "for n in xrange(numCells):\n",
      "    correlations[n] = np.nanmean([pearsonr(spatialWhitePSTH[n], np.convolve(filt,labels_aligned[n,:,t],mode='same'))[0] for t in xrange(numSpatialWhiteTrials)])"
     ],
     "language": "python",
     "metadata": {},
     "outputs": [],
     "prompt_number": 229
    },
    {
     "cell_type": "code",
     "collapsed": false,
     "input": [
      "allCorrs = array(correlations.values())"
     ],
     "language": "python",
     "metadata": {},
     "outputs": [],
     "prompt_number": 231
    },
    {
     "cell_type": "code",
     "collapsed": false,
     "input": [
      "hist(allCorrs[~isnan(allCorrs)], 7, facecolor='k', alpha=0.5)\n",
      "xlabel('Correlation coefficient', fontsize=16)\n",
      "ylabel('Count', fontsize=16)"
     ],
     "language": "python",
     "metadata": {},
     "outputs": [
      {
       "metadata": {},
       "output_type": "pyout",
       "prompt_number": 232,
       "text": [
        "<matplotlib.text.Text at 0x12e4e5450>"
       ]
      },
      {
       "metadata": {},
       "output_type": "display_data",
       "png": "[encoded data removed]",
       "text": [
        "<matplotlib.figure.Figure at 0x12e446950>"
       ]
      }
     ],
     "prompt_number": 232
    },
    {
     "cell_type": "markdown",
     "metadata": {},
     "source": [
      "## Which neuron is the most precise?"
     ]
    },
    {
     "cell_type": "code",
     "collapsed": false,
     "input": [
      "best_neuron = np.nanargmax(allCorrs)"
     ],
     "language": "python",
     "metadata": {},
     "outputs": [],
     "prompt_number": 236
    },
    {
     "cell_type": "code",
     "collapsed": false,
     "input": [
      "correlations[best_neuron]"
     ],
     "language": "python",
     "metadata": {},
     "outputs": [
      {
       "metadata": {},
       "output_type": "pyout",
       "prompt_number": 237,
       "text": [
        "0.90036172279360316"
       ]
      }
     ],
     "prompt_number": 237
    },
    {
     "cell_type": "code",
     "collapsed": false,
     "input": [
      "spatialWhitePSTH[best_neuron].shape"
     ],
     "language": "python",
     "metadata": {},
     "outputs": [
      {
       "metadata": {},
       "output_type": "pyout",
       "prompt_number": 248,
       "text": [
        "(4003,)"
       ]
      }
     ],
     "prompt_number": 248
    },
    {
     "cell_type": "markdown",
     "metadata": {},
     "source": [
      "# Train a network!"
     ]
    },
    {
     "cell_type": "code",
     "collapsed": false,
     "input": [
      "from utils.classifiers.convnet import init_five_layer_convnet\n",
      "from utils.classifiers.convnet import five_layer_convnet"
     ],
     "language": "python",
     "metadata": {},
     "outputs": [],
     "prompt_number": 239
    },
    {
     "cell_type": "code",
     "collapsed": false,
     "input": [
      "model = init_five_layer_convnet(input_shape=(20,64,64), num_classes=1, filter_sizes=(5,5,5), \n",
      "                                  num_filters=(32,32,64,128))"
     ],
     "language": "python",
     "metadata": {},
     "outputs": [],
     "prompt_number": 240
    },
    {
     "cell_type": "code",
     "collapsed": false,
     "input": [
      "# Since I'm now using PSTHs, we have to restrict the number of examples to a single trial\n",
      "X = examples[:spatialWhitePSTH[best_neuron].shape[0]-framesPerExample]\n",
      "numExamples = X.shape[0]\n",
      "\n",
      "# Divide examples into training, validation, and test sets\n",
      "trainMask = np.random.choice(X.shape[0], size=X.shape[0]/2, replace=False)\n",
      "valMask   = np.random.choice(X.shape[0], size=X.shape[0]/4, replace=False)\n",
      "testMask  = np.random.choice(X.shape[0], size=X.shape[0]/4, replace=False)\n",
      "\n",
      "X_train = X[trainMask]\n",
      "X_val   = X[valMask]\n",
      "X_test  = X[testMask]\n",
      "\n",
      "# Zero-mean the data\n",
      "mean_img = np.mean(X_train, axis=0)\n",
      "X_train -= mean_img\n",
      "X_val -= mean_img\n",
      "X_test -= mean_img"
     ],
     "language": "python",
     "metadata": {},
     "outputs": [],
     "prompt_number": 293
    },
    {
     "cell_type": "code",
     "collapsed": false,
     "input": [
      "# for now choose a neuron\n",
      "n = best_neuron\n",
      "\n",
      "# move labels into same space as X\n",
      "# the following works only when label precision is same as X\n",
      "#y = labels[n, framesPerExample:(numExamples+framesPerExample)].astype(int)\n",
      "y = spatialWhitePSTH[best_neuron] / np.max(spatialWhitePSTH[best_neuron])\n",
      "y = y[framesPerExample:(numExamples+framesPerExample)]\n",
      "\n",
      "y_train = y[trainMask]\n",
      "y_val   = y[valMask]\n",
      "y_test  = y[testMask]"
     ],
     "language": "python",
     "metadata": {},
     "outputs": [],
     "prompt_number": 295
    },
    {
     "cell_type": "code",
     "collapsed": false,
     "input": [
      "y_train.shape"
     ],
     "language": "python",
     "metadata": {},
     "outputs": [
      {
       "metadata": {},
       "output_type": "pyout",
       "prompt_number": 298,
       "text": [
        "(1991,)"
       ]
      }
     ],
     "prompt_number": 298
    },
    {
     "cell_type": "code",
     "collapsed": false,
     "input": [
      "y_val.shape"
     ],
     "language": "python",
     "metadata": {},
     "outputs": [
      {
       "metadata": {},
       "output_type": "pyout",
       "prompt_number": 299,
       "text": [
        "(995,)"
       ]
      }
     ],
     "prompt_number": 299
    },
    {
     "cell_type": "code",
     "collapsed": false,
     "input": [
      "X_val.shape"
     ],
     "language": "python",
     "metadata": {},
     "outputs": [
      {
       "metadata": {},
       "output_type": "pyout",
       "prompt_number": 316,
       "text": [
        "(995, 20, 64, 64)"
       ]
      }
     ],
     "prompt_number": 316
    },
    {
     "cell_type": "code",
     "collapsed": false,
     "input": [
      "from utils.classifier_trainer import ClassifierTrainer\n",
      "\n",
      "trainer = ClassifierTrainer()\n",
      "learning_rate = 1e-2\n",
      "reg = 1e-3\n",
      "dropout = 1.0\n",
      "num_epochs = 3\n",
      "\n",
      "# choose best learning rate from cross validation with 1 epoch\n",
      "#lr_hist = {} # for lr in logspace(-6,-2,10):\n",
      "#lr = lr_hist.keys()[np.argmax(lr_hist.values())] # lr of 0.00016681005372000591 for 0.2425 val acc\n",
      "\n",
      "# choose best regularization from cross validation with 1 epoch\n",
      "#r_hist = {} # for r in logspace(-5,-1,10)\n",
      "#r = r_hist.keys()[np.argmax(r_hist.values())] # r of 0.00016681005372000591 for 0.2425 val acc\n",
      "\n",
      "\n",
      "best_model = None\n",
      "best_val_acc = 0\n",
      "\n",
      "#for r in logspace(-5,-1,10):\n",
      "finetuned_model, loss_history, train_acc_history, val_acc_history = trainer.train(X_train, y_train, X_val, y_val,\n",
      "                                model, five_layer_convnet,\n",
      "                                learning_rate=learning_rate, reg=reg, update='rmsprop',\n",
      "                                dropout=dropout, num_epochs=num_epochs, verbose=True)\n",
      "#print 'Validation accuracy %s for learning rate %s.' %(np.max(val_acc_history), lr)\n",
      "print 'Validation accuracy %s for regularization %s.' %(np.max(val_acc_history), reg)\n",
      "\n",
      "if np.max(val_acc_history) > best_val_acc:\n",
      "    best_model = finetuned_model\n",
      "    best_val_acc = np.max(val_acc_history)\n",
      "\n",
      "#lr_hist[lr] = np.max(val_acc_history)\n",
      "#r_hist[r] = np.max(val_acc_history)"
     ],
     "language": "python",
     "metadata": {},
     "outputs": []
    },
    {
     "cell_type": "code",
     "collapsed": false,
     "input": [
      "# Plot the loss function and train / validation accuracies\n",
      "plt.subplot(2, 1, 1)\n",
      "plt.plot(loss_history)\n",
      "plt.title('Loss history', fontsize=16)\n",
      "plt.xlabel('Iteration', fontsize=16)\n",
      "plt.ylabel('Loss', fontsize=16)\n",
      "\n",
      "ax2 = plt.subplot(2, 1, 2)\n",
      "plt.plot(train_acc_history)\n",
      "plt.plot(val_acc_history)\n",
      "plt.legend(['Training accuracy', 'Validation accuracy'], loc='lower right')\n",
      "plt.xlabel('Epoch', fontsize=16)\n",
      "plt.ylabel('Clasification accuracy', fontsize=16)\n",
      "ax2.set_ylim([0.995, 0.9999])"
     ],
     "language": "python",
     "metadata": {},
     "outputs": [
      {
       "metadata": {},
       "output_type": "pyout",
       "prompt_number": 148,
       "text": [
        "(0.995, 0.9999)"
       ]
      },
      {
       "metadata": {},
       "output_type": "display_data",
       "png": "[encoded data removed]",
       "text": [
        "<matplotlib.figure.Figure at 0x113666d50>"
       ]
      }
     ],
     "prompt_number": 148
    },
    {
     "cell_type": "markdown",
     "metadata": {},
     "source": [
      "# Grad check new mse_loss function"
     ]
    },
    {
     "cell_type": "code",
     "collapsed": false,
     "input": [
      "from utils.layers import mse_loss"
     ],
     "language": "python",
     "metadata": {},
     "outputs": [],
     "prompt_number": 221
    },
    {
     "cell_type": "code",
     "collapsed": false,
     "input": [
      "example_x = randn(750)\n",
      "example_y = randn(750)"
     ],
     "language": "python",
     "metadata": {},
     "outputs": [],
     "prompt_number": 222
    },
    {
     "cell_type": "code",
     "collapsed": false,
     "input": [
      "loss, grad = mse_loss(example_x, example_y)\n",
      "print 'Loss is %f, and grad has length %d.' %(loss, grad.shape[0])"
     ],
     "language": "python",
     "metadata": {},
     "outputs": [
      {
       "output_type": "stream",
       "stream": "stdout",
       "text": [
        "Loss is 1.351746, and grad has length 750.\n"
       ]
      }
     ],
     "prompt_number": 223
    },
    {
     "cell_type": "code",
     "collapsed": false,
     "input": [
      "# Use numeric gradient checking as a debugging tool.\n",
      "# The numeric gradient should be close to the analytic gradient.\n",
      "from utils.gradient_check import grad_check_sparse\n",
      "f = lambda w: mse_loss(w, example_y)[0]\n",
      "grad_numerical = grad_check_sparse(f, example_x, grad, 10)"
     ],
     "language": "python",
     "metadata": {},
     "outputs": [
      {
       "output_type": "stream",
       "stream": "stdout",
       "text": [
        "numerical: 0.000251 analytic: 0.000251, relative error: 1.973219e-08\n",
        "numerical: 0.000817 analytic: 0.000817, relative error: 2.174534e-09\n",
        "numerical: 0.000539 analytic: 0.000539, relative error: 2.037923e-09\n",
        "numerical: -0.000131 analytic: -0.000131, relative error: 2.292249e-08\n",
        "numerical: 0.000706 analytic: 0.000706, relative error: 2.747741e-09\n",
        "numerical: 0.000430 analytic: 0.000430, relative error: 1.320781e-09\n",
        "numerical: 0.001214 analytic: 0.001214, relative error: 3.024810e-10\n",
        "numerical: -0.000448 analytic: -0.000448, relative error: 6.880231e-09\n",
        "numerical: 0.000899 analytic: 0.000899, relative error: 1.114192e-09\n",
        "numerical: -0.000493 analytic: -0.000493, relative error: 6.793743e-09\n"
       ]
      }
     ],
     "prompt_number": 224
    },
    {
     "cell_type": "markdown",
     "metadata": {},
     "source": [
      "#### Checks out!"
     ]
    },
    {
     "cell_type": "code",
     "collapsed": false,
     "input": [],
     "language": "python",
     "metadata": {},
     "outputs": []
    }
   ],
   "metadata": {}
  }
 ]
}